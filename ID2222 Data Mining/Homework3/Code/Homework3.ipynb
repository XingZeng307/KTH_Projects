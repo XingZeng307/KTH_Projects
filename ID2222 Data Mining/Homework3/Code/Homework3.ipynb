{
 "cells": [
  {
   "cell_type": "code",
   "execution_count": 1,
   "metadata": {},
   "outputs": [],
   "source": [
    "import pandas as pd\n",
    "import numpy as np\n",
    "import random\n",
    "import collections"
   ]
  },
  {
   "cell_type": "markdown",
   "metadata": {},
   "source": [
    "Social circles: Facebook   Number of triangles\t1612010"
   ]
  },
  {
   "cell_type": "code",
   "execution_count": 4,
   "metadata": {},
   "outputs": [
    {
     "name": "stdout",
     "output_type": "stream",
     "text": [
      "Results for M = 4000\n",
      "The global estimate of triangles is 1492979.1840021266\n",
      "Vertex 1431:  21481  triangles.\n",
      "Vertex 719:  10740  triangles.\n",
      "Vertex 1746:  10740  triangles.\n",
      "Vertex 1715:  10740  triangles.\n",
      "Results for M = 5000\n",
      "The global estimate of triangles is 1633052.677398704\n",
      "Vertex 1730:  5498  triangles.\n",
      "Vertex 1331:  5498  triangles.\n",
      "Vertex 3189:  5498  triangles.\n",
      "Vertex 2989:  10996  triangles.\n",
      "Results for M = 6000\n",
      "The global estimate of triangles is 1501753.1876286052\n",
      "Vertex 2225:  6363  triangles.\n",
      "Vertex 2220:  15908  triangles.\n",
      "Vertex 3162:  6363  triangles.\n",
      "Vertex 1621:  9545  triangles.\n",
      "Results for M = 7000\n",
      "The global estimate of triangles is 1660885.5108695042\n",
      "Vertex 2666:  4006  triangles.\n",
      "Vertex 1800:  18031  triangles.\n",
      "Vertex 1447:  4006  triangles.\n",
      "Vertex 2575:  2003  triangles.\n",
      "Results for M = 8000\n",
      "The global estimate of triangles is 1670919.0308326364\n",
      "Vertex 2030:  12078  triangles.\n",
      "Vertex 3331:  2684  triangles.\n",
      "Vertex 2625:  13421  triangles.\n",
      "Vertex 2508:  9394  triangles.\n",
      "Results for M = 9000\n",
      "The global estimate of triangles is 1656083.1902766414\n",
      "Vertex 3903:  942  triangles.\n",
      "Vertex 2118:  18851  triangles.\n",
      "Vertex 2315:  942  triangles.\n",
      "Vertex 644:  942  triangles.\n"
     ]
    }
   ],
   "source": [
    " for M in list(range(4000, 10000,1000)):\n",
    "    with open(\"/Users/zengxing/Downloads/facebook_combined.txt\",\"r\") as data:\n",
    "        print(\"Results for M = %d\" %M)\n",
    "        t = 0\n",
    "        S = set()\n",
    "        N = collections.defaultdict(set)\n",
    "        local_counters = collections.defaultdict(int)\n",
    "        count = 0\n",
    "        for line in data:\n",
    "            t += 1\n",
    "            u, v = tuple(sorted(line.split()))\n",
    "            if u == v or (u, v) in S:\n",
    "                continue\n",
    "            if sampleEdge(u,v,t):\n",
    "                S.add((u,v))\n",
    "                N[u].add(v)\n",
    "                N[v].add(u)\n",
    "                updateCounters(1,u,v)\n",
    "        xi_t = max(1, (t * (t - 1) * (t - 2)) / (M * (M - 1) * (M - 2)))\n",
    "        print(\"The global estimate of triangles is\",count * xi_t)\n",
    "        i = 0\n",
    "        while i < 4:\n",
    "            vertex = random.choice(list(local_counters))\n",
    "            if local_counters[vertex] != 0:\n",
    "                i +=1\n",
    "                print(\"Vertex %s: \" %vertex , \"%d\" %int(xi_t * local_counters[vertex]), \" triangles.\")\n"
   ]
  },
  {
   "cell_type": "code",
   "execution_count": 2,
   "metadata": {},
   "outputs": [],
   "source": [
    "def sampleEdge(u, v, t):\n",
    "    global N\n",
    "    global S\n",
    "    if t <= M:\n",
    "        return True\n",
    "    elif random.random() <= M/t:\n",
    "        u_prime, v_prime = random.choice(list(S))\n",
    "        S.remove((u_prime, v_prime))\n",
    "        #u_prime, v_prime = S.pop()\n",
    "        N[u_prime].remove(v_prime)\n",
    "        N[v_prime].remove(u_prime)\n",
    "        updateCounters(-1,u_prime,v_prime) # 0 = - , 1 = +\n",
    "        return True\n",
    "    return False"
   ]
  },
  {
   "cell_type": "code",
   "execution_count": 3,
   "metadata": {},
   "outputs": [],
   "source": [
    "def updateCounters(operation,u,v):\n",
    "    global count\n",
    "    global N\n",
    "    # N_u = neighbor(element[0])\n",
    "    # N_v = neighbor(element[1])\n",
    "    # N_uv = N_u.intersection(N_v)\n",
    "    N_uv = N[u].intersection(N[v])\n",
    "    for c in N_uv:\n",
    "        count += 1*operation\n",
    "        local_counters[c] += 1*operation \n",
    "        local_counters[u] += 1*operation\n",
    "        local_counters[v] += 1*operation\n",
    "#     if operation == 0:\n",
    "#         count = count - len(neighboor_u_v)\n",
    "#     else:\n",
    "#         count = count + len(neighboor_u_v)"
   ]
  },
  {
   "cell_type": "markdown",
   "metadata": {},
   "source": [
    "Improved"
   ]
  },
  {
   "cell_type": "code",
   "execution_count": 7,
   "metadata": {},
   "outputs": [
    {
     "name": "stdout",
     "output_type": "stream",
     "text": [
      "Results for M = 4000\n",
      "The global estimate of triangles is 1527967.7435282585\n",
      "Results for M = 5000\n",
      "The global estimate of triangles is 1617239.0302904446\n",
      "Results for M = 6000\n",
      "The global estimate of triangles is 1686767.7030362673\n",
      "Results for M = 7000\n",
      "The global estimate of triangles is 1688880.2231472891\n",
      "Results for M = 8000\n",
      "The global estimate of triangles is 1545861.0194236056\n",
      "Results for M = 9000\n",
      "The global estimate of triangles is 1623961.6933329632\n"
     ]
    }
   ],
   "source": [
    "for M in list(range(4000, 10000,1000)):\n",
    "    print(\"Results for M = %d\" %M)\n",
    "    with open(\"/Users/zengxing/Downloads/facebook_combined.txt\",\"r\") as data:\n",
    "        t = 0\n",
    "        S = set()\n",
    "        M = 4000\n",
    "        N = collections.defaultdict(set)\n",
    "        count = 0\n",
    "        for line in data:\n",
    "            t += 1\n",
    "            u, v = tuple(sorted(line.split()))\n",
    "            if u == v or (u, v) in S:\n",
    "                continue\n",
    "            updateCounters_improved(1,u,v)\n",
    "            if sampleEdge_improved(u,v,t):\n",
    "                S.add((u,v))\n",
    "                N[u].add(v)\n",
    "                N[v].add(u)\n",
    "    print(\"The global estimate of triangles is\",count)\n",
    "            "
   ]
  },
  {
   "cell_type": "code",
   "execution_count": 5,
   "metadata": {},
   "outputs": [],
   "source": [
    "def sampleEdge_improved(u, v, t):\n",
    "    global N\n",
    "    global S\n",
    "    if t <= M:\n",
    "        return True\n",
    "    elif random.random() <= M/t:\n",
    "        u_prime, v_prime = random.choice(list(S))\n",
    "        S.remove((u_prime, v_prime))\n",
    "        #u_prime, v_prime = S.pop()\n",
    "        N[u_prime].remove(v_prime)\n",
    "        N[v_prime].remove(u_prime)\n",
    "        return True\n",
    "    return False"
   ]
  },
  {
   "cell_type": "code",
   "execution_count": 6,
   "metadata": {},
   "outputs": [],
   "source": [
    "def updateCounters_improved(operation,u,v):\n",
    "    global count\n",
    "    global N\n",
    "    # N_u = neighbor(element[0])\n",
    "    # N_v = neighbor(element[1])\n",
    "    # N_uv = N_u.intersection(N_v)\n",
    "    N_uv = N[u].intersection(N[v])\n",
    "    eta_t = max(1, ((t-1)*(t-2))/(M*(M-1))) \n",
    "    for c in N_uv:\n",
    "        count += eta_t\n",
    "#     if operation == 0:\n",
    "#         count = count - len(neighboor_u_v)\n",
    "#     else:\n",
    "#         count = count + len(neighboor_u_v)"
   ]
  },
  {
   "cell_type": "code",
   "execution_count": null,
   "metadata": {},
   "outputs": [],
   "source": []
  },
  {
   "cell_type": "code",
   "execution_count": null,
   "metadata": {},
   "outputs": [],
   "source": []
  },
  {
   "cell_type": "code",
   "execution_count": null,
   "metadata": {},
   "outputs": [],
   "source": []
  },
  {
   "cell_type": "code",
   "execution_count": null,
   "metadata": {},
   "outputs": [],
   "source": []
  },
  {
   "cell_type": "code",
   "execution_count": null,
   "metadata": {},
   "outputs": [],
   "source": []
  },
  {
   "cell_type": "code",
   "execution_count": null,
   "metadata": {},
   "outputs": [],
   "source": []
  },
  {
   "cell_type": "code",
   "execution_count": null,
   "metadata": {},
   "outputs": [],
   "source": []
  },
  {
   "cell_type": "code",
   "execution_count": null,
   "metadata": {},
   "outputs": [],
   "source": []
  },
  {
   "cell_type": "code",
   "execution_count": null,
   "metadata": {},
   "outputs": [],
   "source": []
  },
  {
   "cell_type": "code",
   "execution_count": null,
   "metadata": {},
   "outputs": [],
   "source": []
  },
  {
   "cell_type": "code",
   "execution_count": null,
   "metadata": {},
   "outputs": [],
   "source": []
  },
  {
   "cell_type": "code",
   "execution_count": null,
   "metadata": {},
   "outputs": [],
   "source": []
  },
  {
   "cell_type": "code",
   "execution_count": null,
   "metadata": {},
   "outputs": [],
   "source": []
  },
  {
   "cell_type": "code",
   "execution_count": null,
   "metadata": {},
   "outputs": [],
   "source": []
  },
  {
   "cell_type": "code",
   "execution_count": null,
   "metadata": {},
   "outputs": [],
   "source": [
    "\n",
    "                                                                                          "
   ]
  },
  {
   "cell_type": "code",
   "execution_count": null,
   "metadata": {},
   "outputs": [],
   "source": []
  },
  {
   "cell_type": "code",
   "execution_count": null,
   "metadata": {},
   "outputs": [],
   "source": []
  },
  {
   "cell_type": "code",
   "execution_count": null,
   "metadata": {},
   "outputs": [],
   "source": []
  },
  {
   "cell_type": "code",
   "execution_count": null,
   "metadata": {},
   "outputs": [],
   "source": []
  },
  {
   "cell_type": "code",
   "execution_count": null,
   "metadata": {},
   "outputs": [],
   "source": []
  },
  {
   "cell_type": "code",
   "execution_count": null,
   "metadata": {},
   "outputs": [],
   "source": []
  },
  {
   "cell_type": "code",
   "execution_count": null,
   "metadata": {},
   "outputs": [],
   "source": []
  },
  {
   "cell_type": "code",
   "execution_count": null,
   "metadata": {},
   "outputs": [],
   "source": []
  },
  {
   "cell_type": "code",
   "execution_count": null,
   "metadata": {},
   "outputs": [],
   "source": []
  },
  {
   "cell_type": "code",
   "execution_count": null,
   "metadata": {},
   "outputs": [],
   "source": []
  },
  {
   "cell_type": "code",
   "execution_count": null,
   "metadata": {},
   "outputs": [],
   "source": []
  },
  {
   "cell_type": "code",
   "execution_count": null,
   "metadata": {},
   "outputs": [],
   "source": []
  },
  {
   "cell_type": "code",
   "execution_count": null,
   "metadata": {},
   "outputs": [],
   "source": []
  },
  {
   "cell_type": "code",
   "execution_count": null,
   "metadata": {},
   "outputs": [],
   "source": []
  },
  {
   "cell_type": "code",
   "execution_count": null,
   "metadata": {},
   "outputs": [],
   "source": []
  },
  {
   "cell_type": "code",
   "execution_count": null,
   "metadata": {},
   "outputs": [],
   "source": []
  },
  {
   "cell_type": "code",
   "execution_count": null,
   "metadata": {},
   "outputs": [],
   "source": []
  },
  {
   "cell_type": "code",
   "execution_count": null,
   "metadata": {},
   "outputs": [],
   "source": []
  },
  {
   "cell_type": "code",
   "execution_count": null,
   "metadata": {},
   "outputs": [],
   "source": [
    "\n"
   ]
  },
  {
   "cell_type": "code",
   "execution_count": null,
   "metadata": {},
   "outputs": [],
   "source": []
  },
  {
   "cell_type": "code",
   "execution_count": null,
   "metadata": {},
   "outputs": [],
   "source": []
  },
  {
   "cell_type": "code",
   "execution_count": null,
   "metadata": {},
   "outputs": [],
   "source": []
  },
  {
   "cell_type": "code",
   "execution_count": null,
   "metadata": {},
   "outputs": [],
   "source": []
  },
  {
   "cell_type": "code",
   "execution_count": null,
   "metadata": {},
   "outputs": [],
   "source": []
  },
  {
   "cell_type": "code",
   "execution_count": null,
   "metadata": {},
   "outputs": [],
   "source": []
  },
  {
   "cell_type": "code",
   "execution_count": null,
   "metadata": {},
   "outputs": [],
   "source": []
  },
  {
   "cell_type": "code",
   "execution_count": null,
   "metadata": {},
   "outputs": [],
   "source": []
  },
  {
   "cell_type": "code",
   "execution_count": null,
   "metadata": {},
   "outputs": [],
   "source": []
  },
  {
   "cell_type": "code",
   "execution_count": null,
   "metadata": {},
   "outputs": [],
   "source": []
  },
  {
   "cell_type": "code",
   "execution_count": null,
   "metadata": {},
   "outputs": [],
   "source": []
  },
  {
   "cell_type": "code",
   "execution_count": null,
   "metadata": {},
   "outputs": [],
   "source": []
  },
  {
   "cell_type": "code",
   "execution_count": null,
   "metadata": {},
   "outputs": [],
   "source": []
  },
  {
   "cell_type": "code",
   "execution_count": null,
   "metadata": {},
   "outputs": [],
   "source": []
  },
  {
   "cell_type": "code",
   "execution_count": null,
   "metadata": {},
   "outputs": [],
   "source": []
  },
  {
   "cell_type": "code",
   "execution_count": null,
   "metadata": {},
   "outputs": [],
   "source": []
  },
  {
   "cell_type": "code",
   "execution_count": null,
   "metadata": {},
   "outputs": [],
   "source": []
  },
  {
   "cell_type": "code",
   "execution_count": null,
   "metadata": {},
   "outputs": [],
   "source": []
  },
  {
   "cell_type": "code",
   "execution_count": null,
   "metadata": {},
   "outputs": [],
   "source": []
  },
  {
   "cell_type": "code",
   "execution_count": null,
   "metadata": {},
   "outputs": [],
   "source": []
  },
  {
   "cell_type": "code",
   "execution_count": null,
   "metadata": {},
   "outputs": [],
   "source": []
  },
  {
   "cell_type": "code",
   "execution_count": null,
   "metadata": {},
   "outputs": [],
   "source": []
  },
  {
   "cell_type": "code",
   "execution_count": null,
   "metadata": {},
   "outputs": [],
   "source": []
  },
  {
   "cell_type": "code",
   "execution_count": null,
   "metadata": {},
   "outputs": [],
   "source": []
  },
  {
   "cell_type": "code",
   "execution_count": null,
   "metadata": {},
   "outputs": [],
   "source": []
  }
 ],
 "metadata": {
  "kernelspec": {
   "display_name": "Python 3",
   "language": "python",
   "name": "python3"
  },
  "language_info": {
   "codemirror_mode": {
    "name": "ipython",
    "version": 3
   },
   "file_extension": ".py",
   "mimetype": "text/x-python",
   "name": "python",
   "nbconvert_exporter": "python",
   "pygments_lexer": "ipython3",
   "version": "3.7.1"
  }
 },
 "nbformat": 4,
 "nbformat_minor": 2
}
