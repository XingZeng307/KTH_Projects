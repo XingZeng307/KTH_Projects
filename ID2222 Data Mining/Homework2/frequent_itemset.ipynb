{
 "cells": [
  {
   "cell_type": "code",
   "execution_count": 1,
   "metadata": {},
   "outputs": [],
   "source": [
    "import pandas as pd\n",
    "import numpy as np\n"
   ]
  },
  {
   "cell_type": "code",
   "execution_count": 31,
   "metadata": {},
   "outputs": [],
   "source": [
    "# generate candidate itemset from last frequent itemset Lk_minus-1\n",
    "# paras: Transaction: All transactions; Lk_minus_1: the last frequent itemset L(k-1)\n",
    "# return: candidate k-itemset: dictionary {(\"itemset\":support),(\"itemset1\":support1)}\n",
    "def generate_Ck(Transaction, Lk_minus_1):\n",
    "    L_list = [i for i in Lk_minus_1.keys()] # eg k-1=2: [('39', '825'), ('704', '825'), ('39', '704'), ('227', '390')]\n",
    "    Ck = {}\n",
    "    for transaction in Transaction:\n",
    "        L_list_rep = [] #('39', '825'), ('704', '825')  avoid computing the same itemset multiple times in one transcation\n",
    "        for index_i in range(len(L_list)): # first for loop last frequent itemset L(k-1)\n",
    "            if all(ele in transaction for ele in L_list[index_i]):\n",
    "                for index_j in range(len(L_list)): # second for loop last frequent itemset L(k-1) to generate new subset\n",
    "                    combine_tuple = L_list[index_j]\n",
    "                    for combine_ele in combine_tuple:\n",
    "                        if combine_ele not in L_list[index_i] and combine_ele in transaction:\n",
    "                            new_tuple = L_list[index_i] + (combine_ele,) # generate subset if in transaction and no repetation in tuple\n",
    "                            # order tuple\n",
    "                            temp_list_t1 = [int(i) for i in new_tuple]\n",
    "                            temp_list_t1.sort()\n",
    "                            temp_list_t2 = [str(i) for i in temp_list_t1 ]\n",
    "                            new_tuple_ordered = tuple(temp_list_t2)\n",
    "                            if new_tuple_ordered not in L_list_rep: \n",
    "                                        L_list_rep.append(new_tuple_ordered)\n",
    "                                        if new_tuple_ordered not in Ck.keys():\n",
    "                                            Ck[new_tuple_ordered] = 1\n",
    "                                        else:\n",
    "                                            Ck[new_tuple_ordered] += 1\n",
    "    return Ck\n",
    "                    \n",
    "        \n",
    "    "
   ]
  },
  {
   "cell_type": "code",
   "execution_count": null,
   "metadata": {},
   "outputs": [],
   "source": []
  },
  {
   "cell_type": "code",
   "execution_count": 4,
   "metadata": {},
   "outputs": [],
   "source": [
    "# generate frequent k-itemset whose support > threshold support\n",
    "def generate_Lk(Ck,support):\n",
    "    Lk = {}    # e.g. return {(\"doubleton\",support)}\n",
    "    for key, value in Ck.items():\n",
    "        if value > support-1:\n",
    "            Lk[key] = value\n",
    "    return Lk"
   ]
  },
  {
   "cell_type": "code",
   "execution_count": null,
   "metadata": {},
   "outputs": [],
   "source": [
    "# generate rules from frequent itemsets\n"
   ]
  },
  {
   "cell_type": "code",
   "execution_count": 5,
   "metadata": {},
   "outputs": [],
   "source": [
    "# the main function\n",
    "# 1st step: read data\n",
    "datContent = [i.strip().split() for i in open(\"./T10I4D100K.dat\").readlines()]\n",
    "# 2nd step: set support and confidence\n",
    "support = len(datContent)/100\n",
    "confidence = 0.5"
   ]
  },
  {
   "cell_type": "code",
   "execution_count": 6,
   "metadata": {},
   "outputs": [
    {
     "data": {
      "text/plain": [
       "100000"
      ]
     },
     "execution_count": 6,
     "metadata": {},
     "output_type": "execute_result"
    }
   ],
   "source": [
    "len(datContent)"
   ]
  },
  {
   "cell_type": "code",
   "execution_count": 25,
   "metadata": {},
   "outputs": [],
   "source": [
    "# 3rd step: 1st scan to store singletons in dictionary as candidate iteamset1 C1\n",
    "C1 = {} \n",
    "for transcation in datContent:\n",
    "    for each_ele in transcation:\n",
    "        if each_ele not in C1:\n",
    "            C1[each_ele] = 1\n",
    "        else:\n",
    "            C1[each_ele] += 1\n"
   ]
  },
  {
   "cell_type": "code",
   "execution_count": 27,
   "metadata": {},
   "outputs": [],
   "source": [
    "# convert key into tuple\n",
    "C1_tuple = {}\n",
    "for key,value in C1.items():\n",
    "    C1_tuple[(key,)] = value"
   ]
  },
  {
   "cell_type": "code",
   "execution_count": null,
   "metadata": {},
   "outputs": [],
   "source": [
    "# 4th step: for loop to generate Ck, Lk"
   ]
  },
  {
   "cell_type": "code",
   "execution_count": 32,
   "metadata": {},
   "outputs": [],
   "source": [
    "frequent_itemset = {} #L\n",
    "candidate_itemset = {} #C\n",
    "Ck = C1_tuple\n",
    "i=1\n",
    "candidate_itemset[i] = C1\n",
    "while 1:\n",
    "    if len(Lk)==1:\n",
    "        break\n",
    "    Lk = generate_Lk(Ck,support)  #L1 <- C1\n",
    "    frequent_itemset[i] = Lk\n",
    "    Ck = generate_Ck(datContent,Lk) # C2 <- L1\n",
    "    i += 1\n",
    "    candidate_itemset[i] = Ck\n",
    "    "
   ]
  },
  {
   "cell_type": "code",
   "execution_count": null,
   "metadata": {},
   "outputs": [],
   "source": []
  },
  {
   "cell_type": "code",
   "execution_count": null,
   "metadata": {},
   "outputs": [],
   "source": []
  },
  {
   "cell_type": "code",
   "execution_count": null,
   "metadata": {},
   "outputs": [],
   "source": []
  },
  {
   "cell_type": "code",
   "execution_count": null,
   "metadata": {},
   "outputs": [],
   "source": []
  },
  {
   "cell_type": "code",
   "execution_count": null,
   "metadata": {},
   "outputs": [],
   "source": []
  },
  {
   "cell_type": "code",
   "execution_count": null,
   "metadata": {},
   "outputs": [],
   "source": []
  },
  {
   "cell_type": "code",
   "execution_count": null,
   "metadata": {},
   "outputs": [],
   "source": []
  },
  {
   "cell_type": "code",
   "execution_count": null,
   "metadata": {},
   "outputs": [],
   "source": []
  },
  {
   "cell_type": "code",
   "execution_count": null,
   "metadata": {},
   "outputs": [],
   "source": []
  },
  {
   "cell_type": "code",
   "execution_count": null,
   "metadata": {},
   "outputs": [],
   "source": []
  },
  {
   "cell_type": "code",
   "execution_count": null,
   "metadata": {},
   "outputs": [],
   "source": []
  },
  {
   "cell_type": "code",
   "execution_count": null,
   "metadata": {},
   "outputs": [],
   "source": []
  },
  {
   "cell_type": "code",
   "execution_count": null,
   "metadata": {},
   "outputs": [],
   "source": []
  },
  {
   "cell_type": "code",
   "execution_count": null,
   "metadata": {},
   "outputs": [],
   "source": []
  },
  {
   "cell_type": "code",
   "execution_count": null,
   "metadata": {},
   "outputs": [],
   "source": []
  },
  {
   "cell_type": "code",
   "execution_count": null,
   "metadata": {},
   "outputs": [],
   "source": []
  },
  {
   "cell_type": "code",
   "execution_count": null,
   "metadata": {},
   "outputs": [],
   "source": []
  },
  {
   "cell_type": "code",
   "execution_count": null,
   "metadata": {},
   "outputs": [],
   "source": []
  },
  {
   "cell_type": "code",
   "execution_count": null,
   "metadata": {},
   "outputs": [],
   "source": []
  }
 ],
 "metadata": {
  "kernelspec": {
   "display_name": "Python 3",
   "language": "python",
   "name": "python3"
  },
  "language_info": {
   "codemirror_mode": {
    "name": "ipython",
    "version": 3
   },
   "file_extension": ".py",
   "mimetype": "text/x-python",
   "name": "python",
   "nbconvert_exporter": "python",
   "pygments_lexer": "ipython3",
   "version": "3.7.1"
  }
 },
 "nbformat": 4,
 "nbformat_minor": 2
}
