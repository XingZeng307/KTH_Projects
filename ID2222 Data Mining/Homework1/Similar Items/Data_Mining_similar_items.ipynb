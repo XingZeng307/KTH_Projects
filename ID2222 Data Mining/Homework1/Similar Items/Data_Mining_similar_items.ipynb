{
 "cells": [
  {
   "cell_type": "code",
   "execution_count": 2,
   "metadata": {},
   "outputs": [],
   "source": [
    "import pandas as pd\n",
    "import numpy as np"
   ]
  },
  {
   "cell_type": "markdown",
   "metadata": {},
   "source": [
    "First, read the data from document and do Shingles"
   ]
  },
  {
   "cell_type": "code",
   "execution_count": 3,
   "metadata": {},
   "outputs": [],
   "source": [
    "file = open(\"/Users/zengxing/Downloads/data_2/Movies_5.11.2020_18.54.20.txt\",\"r\")"
   ]
  },
  {
   "cell_type": "code",
   "execution_count": 4,
   "metadata": {},
   "outputs": [],
   "source": [
    "k = 10 #shingle length\n",
    "file_orginal = file.read()"
   ]
  },
  {
   "cell_type": "code",
   "execution_count": 5,
   "metadata": {},
   "outputs": [],
   "source": [
    "file.close()"
   ]
  },
  {
   "cell_type": "code",
   "execution_count": 16,
   "metadata": {},
   "outputs": [],
   "source": [
    "file1 = open(\"/Users/zengxing/Downloads/data_2/Movies_5.11.2020_18.54.20 copy.txt\",\"r\")\n",
    "file_copy = file1.read()\n",
    "file1.close()"
   ]
  },
  {
   "cell_type": "code",
   "execution_count": 19,
   "metadata": {},
   "outputs": [],
   "source": [
    "file2 = open(\"/Users/zengxing/Downloads/data_2/Movies_5.11.2020_18.54.20 copy 2.txt\",\"r\")\n",
    "file_copy2 = file2.read()\n",
    "file2.close()"
   ]
  },
  {
   "cell_type": "code",
   "execution_count": null,
   "metadata": {},
   "outputs": [],
   "source": []
  },
  {
   "cell_type": "markdown",
   "metadata": {},
   "source": [
    "Change text into Shingles for each document"
   ]
  },
  {
   "cell_type": "code",
   "execution_count": 30,
   "metadata": {},
   "outputs": [],
   "source": [
    "list0 = []\n",
    "df0 = pd.DataFrame()\n",
    "count = 0\n",
    "for count in range(len(file_orginal)-10):\n",
    "    list0.append(file_orginal[count:count+10])\n",
    "df0['key'] = list0\n",
    "df0['doc0'] = [1]*len(list0)"
   ]
  },
  {
   "cell_type": "code",
   "execution_count": null,
   "metadata": {},
   "outputs": [],
   "source": []
  },
  {
   "cell_type": "code",
   "execution_count": 31,
   "metadata": {},
   "outputs": [],
   "source": [
    "count = 0\n",
    "list1 = []\n",
    "df1 = pd.DataFrame()\n",
    "for count in range(len(file_copy)-10):\n",
    "    list1.append(file_copy[count:count+10])\n",
    "df1['key'] = list1\n",
    "df1['doc1'] = [1]*len(list1)"
   ]
  },
  {
   "cell_type": "code",
   "execution_count": 33,
   "metadata": {},
   "outputs": [],
   "source": [
    "count = 0\n",
    "list2 = []\n",
    "df2 = pd.DataFrame()\n",
    "for count in range(len(file_copy2)-10):\n",
    "    list2.append(file_copy2[count:count+10])\n",
    "df2['key'] = list2\n",
    "df2['doc2'] = [1]*len(list2)"
   ]
  },
  {
   "cell_type": "markdown",
   "metadata": {},
   "source": [
    "Jaccardo smiliarity"
   ]
  },
  {
   "cell_type": "code",
   "execution_count": 353,
   "metadata": {},
   "outputs": [],
   "source": [
    "Ja_similiarity_0_1 = len(list(set(list0) & set(list1)))/len(list(set(list1) | set(list0)))\n",
    "Ja_similiarity_0_2 = len(list(set(list0) & set(list2)))/len(list(set(list2) | set(list0)))\n",
    "Ja_similiarity_2_1 = len(list(set(list1) & set(list2)))/len(list(set(list2) | set(list1)))\n"
   ]
  },
  {
   "cell_type": "code",
   "execution_count": 354,
   "metadata": {},
   "outputs": [
    {
     "data": {
      "text/plain": [
       "0.9562243502051984"
      ]
     },
     "execution_count": 354,
     "metadata": {},
     "output_type": "execute_result"
    }
   ],
   "source": [
    "Ja_similiarity_0_1"
   ]
  },
  {
   "cell_type": "code",
   "execution_count": 355,
   "metadata": {},
   "outputs": [
    {
     "data": {
      "text/plain": [
       "0.3826565726083964"
      ]
     },
     "execution_count": 355,
     "metadata": {},
     "output_type": "execute_result"
    }
   ],
   "source": [
    "Ja_similiarity_0_2"
   ]
  },
  {
   "cell_type": "code",
   "execution_count": 356,
   "metadata": {},
   "outputs": [
    {
     "data": {
      "text/plain": [
       "0.3710562414266118"
      ]
     },
     "execution_count": 356,
     "metadata": {},
     "output_type": "execute_result"
    }
   ],
   "source": [
    "Ja_similiarity_2_1"
   ]
  },
  {
   "cell_type": "code",
   "execution_count": null,
   "metadata": {},
   "outputs": [],
   "source": []
  },
  {
   "cell_type": "code",
   "execution_count": null,
   "metadata": {},
   "outputs": [],
   "source": []
  },
  {
   "cell_type": "code",
   "execution_count": 351,
   "metadata": {},
   "outputs": [
    {
     "data": {
      "text/plain": [
       "1398"
      ]
     },
     "execution_count": 351,
     "metadata": {},
     "output_type": "execute_result"
    }
   ],
   "source": [
    "len(list(set(list1) & set(list0)))"
   ]
  },
  {
   "cell_type": "code",
   "execution_count": null,
   "metadata": {},
   "outputs": [],
   "source": []
  },
  {
   "cell_type": "code",
   "execution_count": null,
   "metadata": {},
   "outputs": [],
   "source": [
    "list(set(lst1) & set(lst2)) "
   ]
  },
  {
   "cell_type": "code",
   "execution_count": null,
   "metadata": {},
   "outputs": [],
   "source": []
  },
  {
   "cell_type": "code",
   "execution_count": null,
   "metadata": {},
   "outputs": [],
   "source": []
  },
  {
   "cell_type": "code",
   "execution_count": null,
   "metadata": {},
   "outputs": [],
   "source": []
  },
  {
   "cell_type": "code",
   "execution_count": null,
   "metadata": {},
   "outputs": [],
   "source": []
  },
  {
   "cell_type": "code",
   "execution_count": 38,
   "metadata": {},
   "outputs": [],
   "source": [
    "df = df0.set_index('key').join(df1.set_index('key'))"
   ]
  },
  {
   "cell_type": "code",
   "execution_count": 49,
   "metadata": {},
   "outputs": [],
   "source": [
    "df_join = df.join(df2.set_index('key'), on='key')"
   ]
  },
  {
   "cell_type": "code",
   "execution_count": 126,
   "metadata": {},
   "outputs": [],
   "source": [
    "df_join_fillna = df_join.fillna(0)"
   ]
  },
  {
   "cell_type": "code",
   "execution_count": 128,
   "metadata": {},
   "outputs": [],
   "source": [
    "df_join_fillna['key'] = df_join_fillna.index"
   ]
  },
  {
   "cell_type": "code",
   "execution_count": 129,
   "metadata": {},
   "outputs": [],
   "source": [
    "df_join_fillna['index'] = list(range(7496))"
   ]
  },
  {
   "cell_type": "code",
   "execution_count": null,
   "metadata": {},
   "outputs": [],
   "source": []
  },
  {
   "cell_type": "markdown",
   "metadata": {},
   "source": [
    "Minhashing"
   ]
  },
  {
   "cell_type": "code",
   "execution_count": 132,
   "metadata": {},
   "outputs": [],
   "source": [
    "def hashfunc(list,i):\n",
    "    new_list=[]\n",
    "    for each in list:\n",
    "        new_list.append((i*each+1)%7496)\n",
    "    return new_list"
   ]
  },
  {
   "cell_type": "markdown",
   "metadata": {},
   "source": [
    "Using 100 hashfunctions"
   ]
  },
  {
   "cell_type": "code",
   "execution_count": 133,
   "metadata": {},
   "outputs": [],
   "source": [
    "index = df_join_fillna['index']"
   ]
  },
  {
   "cell_type": "code",
   "execution_count": 140,
   "metadata": {},
   "outputs": [],
   "source": [
    "for i in range(101):\n",
    "    df_join_fillna[\"hash\"+f'{i+1}'] = hashfunc(index,i+1)"
   ]
  },
  {
   "cell_type": "markdown",
   "metadata": {},
   "source": [
    "create signature"
   ]
  },
  {
   "cell_type": "code",
   "execution_count": 142,
   "metadata": {},
   "outputs": [
    {
     "data": {
      "text/html": [
       "<div>\n",
       "<style scoped>\n",
       "    .dataframe tbody tr th:only-of-type {\n",
       "        vertical-align: middle;\n",
       "    }\n",
       "\n",
       "    .dataframe tbody tr th {\n",
       "        vertical-align: top;\n",
       "    }\n",
       "\n",
       "    .dataframe thead th {\n",
       "        text-align: right;\n",
       "    }\n",
       "</style>\n",
       "<table border=\"1\" class=\"dataframe\">\n",
       "  <thead>\n",
       "    <tr style=\"text-align: right;\">\n",
       "      <th></th>\n",
       "      <th>doc0</th>\n",
       "      <th>doc1</th>\n",
       "      <th>doc2</th>\n",
       "      <th>key</th>\n",
       "      <th>index</th>\n",
       "      <th>hash0</th>\n",
       "      <th>hash1</th>\n",
       "      <th>hash2</th>\n",
       "      <th>hash3</th>\n",
       "      <th>hash4</th>\n",
       "      <th>...</th>\n",
       "      <th>hash92</th>\n",
       "      <th>hash93</th>\n",
       "      <th>hash94</th>\n",
       "      <th>hash95</th>\n",
       "      <th>hash96</th>\n",
       "      <th>hash97</th>\n",
       "      <th>hash98</th>\n",
       "      <th>hash99</th>\n",
       "      <th>hash100</th>\n",
       "      <th>hash101</th>\n",
       "    </tr>\n",
       "    <tr>\n",
       "      <th>key</th>\n",
       "      <th></th>\n",
       "      <th></th>\n",
       "      <th></th>\n",
       "      <th></th>\n",
       "      <th></th>\n",
       "      <th></th>\n",
       "      <th></th>\n",
       "      <th></th>\n",
       "      <th></th>\n",
       "      <th></th>\n",
       "      <th></th>\n",
       "      <th></th>\n",
       "      <th></th>\n",
       "      <th></th>\n",
       "      <th></th>\n",
       "      <th></th>\n",
       "      <th></th>\n",
       "      <th></th>\n",
       "      <th></th>\n",
       "      <th></th>\n",
       "      <th></th>\n",
       "    </tr>\n",
       "  </thead>\n",
       "  <tbody>\n",
       "    <tr>\n",
       "      <th>A boy lo</th>\n",
       "      <td>1</td>\n",
       "      <td>1.0</td>\n",
       "      <td>1.0</td>\n",
       "      <td>A boy lo</td>\n",
       "      <td>0</td>\n",
       "      <td>1</td>\n",
       "      <td>1</td>\n",
       "      <td>1</td>\n",
       "      <td>1</td>\n",
       "      <td>1</td>\n",
       "      <td>...</td>\n",
       "      <td>1</td>\n",
       "      <td>1</td>\n",
       "      <td>1</td>\n",
       "      <td>1</td>\n",
       "      <td>1</td>\n",
       "      <td>1</td>\n",
       "      <td>1</td>\n",
       "      <td>1</td>\n",
       "      <td>1</td>\n",
       "      <td>1</td>\n",
       "    </tr>\n",
       "    <tr>\n",
       "      <th>A real t</th>\n",
       "      <td>1</td>\n",
       "      <td>1.0</td>\n",
       "      <td>0.0</td>\n",
       "      <td>A real t</td>\n",
       "      <td>1</td>\n",
       "      <td>1</td>\n",
       "      <td>2</td>\n",
       "      <td>3</td>\n",
       "      <td>4</td>\n",
       "      <td>5</td>\n",
       "      <td>...</td>\n",
       "      <td>93</td>\n",
       "      <td>94</td>\n",
       "      <td>95</td>\n",
       "      <td>96</td>\n",
       "      <td>97</td>\n",
       "      <td>98</td>\n",
       "      <td>99</td>\n",
       "      <td>100</td>\n",
       "      <td>101</td>\n",
       "      <td>102</td>\n",
       "    </tr>\n",
       "    <tr>\n",
       "      <th>Great st</th>\n",
       "      <td>1</td>\n",
       "      <td>1.0</td>\n",
       "      <td>1.0</td>\n",
       "      <td>Great st</td>\n",
       "      <td>2</td>\n",
       "      <td>1</td>\n",
       "      <td>3</td>\n",
       "      <td>5</td>\n",
       "      <td>7</td>\n",
       "      <td>9</td>\n",
       "      <td>...</td>\n",
       "      <td>185</td>\n",
       "      <td>187</td>\n",
       "      <td>189</td>\n",
       "      <td>191</td>\n",
       "      <td>193</td>\n",
       "      <td>195</td>\n",
       "      <td>197</td>\n",
       "      <td>199</td>\n",
       "      <td>201</td>\n",
       "      <td>203</td>\n",
       "    </tr>\n",
       "    <tr>\n",
       "      <th>We laugh</th>\n",
       "      <td>1</td>\n",
       "      <td>1.0</td>\n",
       "      <td>0.0</td>\n",
       "      <td>We laugh</td>\n",
       "      <td>3</td>\n",
       "      <td>1</td>\n",
       "      <td>4</td>\n",
       "      <td>7</td>\n",
       "      <td>10</td>\n",
       "      <td>13</td>\n",
       "      <td>...</td>\n",
       "      <td>277</td>\n",
       "      <td>280</td>\n",
       "      <td>283</td>\n",
       "      <td>286</td>\n",
       "      <td>289</td>\n",
       "      <td>292</td>\n",
       "      <td>295</td>\n",
       "      <td>298</td>\n",
       "      <td>301</td>\n",
       "      <td>304</td>\n",
       "    </tr>\n",
       "    <tr>\n",
       "      <th>\"Hank\" re</th>\n",
       "      <td>1</td>\n",
       "      <td>1.0</td>\n",
       "      <td>0.0</td>\n",
       "      <td>\"Hank\" re</td>\n",
       "      <td>4</td>\n",
       "      <td>1</td>\n",
       "      <td>5</td>\n",
       "      <td>9</td>\n",
       "      <td>13</td>\n",
       "      <td>17</td>\n",
       "      <td>...</td>\n",
       "      <td>369</td>\n",
       "      <td>373</td>\n",
       "      <td>377</td>\n",
       "      <td>381</td>\n",
       "      <td>385</td>\n",
       "      <td>389</td>\n",
       "      <td>393</td>\n",
       "      <td>397</td>\n",
       "      <td>401</td>\n",
       "      <td>405</td>\n",
       "    </tr>\n",
       "    <tr>\n",
       "      <th>&amp; 8.  We</th>\n",
       "      <td>1</td>\n",
       "      <td>1.0</td>\n",
       "      <td>0.0</td>\n",
       "      <td>&amp; 8.  We</td>\n",
       "      <td>5</td>\n",
       "      <td>1</td>\n",
       "      <td>6</td>\n",
       "      <td>11</td>\n",
       "      <td>16</td>\n",
       "      <td>21</td>\n",
       "      <td>...</td>\n",
       "      <td>461</td>\n",
       "      <td>466</td>\n",
       "      <td>471</td>\n",
       "      <td>476</td>\n",
       "      <td>481</td>\n",
       "      <td>486</td>\n",
       "      <td>491</td>\n",
       "      <td>496</td>\n",
       "      <td>501</td>\n",
       "      <td>506</td>\n",
       "    </tr>\n",
       "    <tr>\n",
       "      <th>+ popcorn</th>\n",
       "      <td>1</td>\n",
       "      <td>1.0</td>\n",
       "      <td>1.0</td>\n",
       "      <td>+ popcorn</td>\n",
       "      <td>6</td>\n",
       "      <td>1</td>\n",
       "      <td>7</td>\n",
       "      <td>13</td>\n",
       "      <td>19</td>\n",
       "      <td>25</td>\n",
       "      <td>...</td>\n",
       "      <td>553</td>\n",
       "      <td>559</td>\n",
       "      <td>565</td>\n",
       "      <td>571</td>\n",
       "      <td>577</td>\n",
       "      <td>583</td>\n",
       "      <td>589</td>\n",
       "      <td>595</td>\n",
       "      <td>601</td>\n",
       "      <td>607</td>\n",
       "    </tr>\n",
       "    <tr>\n",
       "      <th>- i can s</th>\n",
       "      <td>1</td>\n",
       "      <td>1.0</td>\n",
       "      <td>1.0</td>\n",
       "      <td>- i can s</td>\n",
       "      <td>7</td>\n",
       "      <td>1</td>\n",
       "      <td>8</td>\n",
       "      <td>15</td>\n",
       "      <td>22</td>\n",
       "      <td>29</td>\n",
       "      <td>...</td>\n",
       "      <td>645</td>\n",
       "      <td>652</td>\n",
       "      <td>659</td>\n",
       "      <td>666</td>\n",
       "      <td>673</td>\n",
       "      <td>680</td>\n",
       "      <td>687</td>\n",
       "      <td>694</td>\n",
       "      <td>701</td>\n",
       "      <td>708</td>\n",
       "    </tr>\n",
       "    <tr>\n",
       "      <th>/&gt;&lt;br /&gt;T</th>\n",
       "      <td>1</td>\n",
       "      <td>1.0</td>\n",
       "      <td>0.0</td>\n",
       "      <td>/&gt;&lt;br /&gt;T</td>\n",
       "      <td>8</td>\n",
       "      <td>1</td>\n",
       "      <td>9</td>\n",
       "      <td>17</td>\n",
       "      <td>25</td>\n",
       "      <td>33</td>\n",
       "      <td>...</td>\n",
       "      <td>737</td>\n",
       "      <td>745</td>\n",
       "      <td>753</td>\n",
       "      <td>761</td>\n",
       "      <td>769</td>\n",
       "      <td>777</td>\n",
       "      <td>785</td>\n",
       "      <td>793</td>\n",
       "      <td>801</td>\n",
       "      <td>809</td>\n",
       "    </tr>\n",
       "    <tr>\n",
       "      <th>/&gt;The act</th>\n",
       "      <td>1</td>\n",
       "      <td>1.0</td>\n",
       "      <td>0.0</td>\n",
       "      <td>/&gt;The act</td>\n",
       "      <td>9</td>\n",
       "      <td>1</td>\n",
       "      <td>10</td>\n",
       "      <td>19</td>\n",
       "      <td>28</td>\n",
       "      <td>37</td>\n",
       "      <td>...</td>\n",
       "      <td>829</td>\n",
       "      <td>838</td>\n",
       "      <td>847</td>\n",
       "      <td>856</td>\n",
       "      <td>865</td>\n",
       "      <td>874</td>\n",
       "      <td>883</td>\n",
       "      <td>892</td>\n",
       "      <td>901</td>\n",
       "      <td>910</td>\n",
       "    </tr>\n",
       "    <tr>\n",
       "      <th>/&gt;This mo</th>\n",
       "      <td>1</td>\n",
       "      <td>1.0</td>\n",
       "      <td>1.0</td>\n",
       "      <td>/&gt;This mo</td>\n",
       "      <td>10</td>\n",
       "      <td>1</td>\n",
       "      <td>11</td>\n",
       "      <td>21</td>\n",
       "      <td>31</td>\n",
       "      <td>41</td>\n",
       "      <td>...</td>\n",
       "      <td>921</td>\n",
       "      <td>931</td>\n",
       "      <td>941</td>\n",
       "      <td>951</td>\n",
       "      <td>961</td>\n",
       "      <td>971</td>\n",
       "      <td>981</td>\n",
       "      <td>991</td>\n",
       "      <td>1001</td>\n",
       "      <td>1011</td>\n",
       "    </tr>\n",
       "    <tr>\n",
       "      <th>0/0 revie</th>\n",
       "      <td>1</td>\n",
       "      <td>1.0</td>\n",
       "      <td>1.0</td>\n",
       "      <td>0/0 revie</td>\n",
       "      <td>11</td>\n",
       "      <td>1</td>\n",
       "      <td>12</td>\n",
       "      <td>23</td>\n",
       "      <td>34</td>\n",
       "      <td>45</td>\n",
       "      <td>...</td>\n",
       "      <td>1013</td>\n",
       "      <td>1024</td>\n",
       "      <td>1035</td>\n",
       "      <td>1046</td>\n",
       "      <td>1057</td>\n",
       "      <td>1068</td>\n",
       "      <td>1079</td>\n",
       "      <td>1090</td>\n",
       "      <td>1101</td>\n",
       "      <td>1112</td>\n",
       "    </tr>\n",
       "    <tr>\n",
       "      <th>0/0 revie</th>\n",
       "      <td>1</td>\n",
       "      <td>1.0</td>\n",
       "      <td>1.0</td>\n",
       "      <td>0/0 revie</td>\n",
       "      <td>12</td>\n",
       "      <td>1</td>\n",
       "      <td>13</td>\n",
       "      <td>25</td>\n",
       "      <td>37</td>\n",
       "      <td>49</td>\n",
       "      <td>...</td>\n",
       "      <td>1105</td>\n",
       "      <td>1117</td>\n",
       "      <td>1129</td>\n",
       "      <td>1141</td>\n",
       "      <td>1153</td>\n",
       "      <td>1165</td>\n",
       "      <td>1177</td>\n",
       "      <td>1189</td>\n",
       "      <td>1201</td>\n",
       "      <td>1213</td>\n",
       "    </tr>\n",
       "    <tr>\n",
       "      <th>0/0 revie</th>\n",
       "      <td>1</td>\n",
       "      <td>1.0</td>\n",
       "      <td>1.0</td>\n",
       "      <td>0/0 revie</td>\n",
       "      <td>13</td>\n",
       "      <td>1</td>\n",
       "      <td>14</td>\n",
       "      <td>27</td>\n",
       "      <td>40</td>\n",
       "      <td>53</td>\n",
       "      <td>...</td>\n",
       "      <td>1197</td>\n",
       "      <td>1210</td>\n",
       "      <td>1223</td>\n",
       "      <td>1236</td>\n",
       "      <td>1249</td>\n",
       "      <td>1262</td>\n",
       "      <td>1275</td>\n",
       "      <td>1288</td>\n",
       "      <td>1301</td>\n",
       "      <td>1314</td>\n",
       "    </tr>\n",
       "    <tr>\n",
       "      <th>0/0 revie</th>\n",
       "      <td>1</td>\n",
       "      <td>1.0</td>\n",
       "      <td>1.0</td>\n",
       "      <td>0/0 revie</td>\n",
       "      <td>14</td>\n",
       "      <td>1</td>\n",
       "      <td>15</td>\n",
       "      <td>29</td>\n",
       "      <td>43</td>\n",
       "      <td>57</td>\n",
       "      <td>...</td>\n",
       "      <td>1289</td>\n",
       "      <td>1303</td>\n",
       "      <td>1317</td>\n",
       "      <td>1331</td>\n",
       "      <td>1345</td>\n",
       "      <td>1359</td>\n",
       "      <td>1373</td>\n",
       "      <td>1387</td>\n",
       "      <td>1401</td>\n",
       "      <td>1415</td>\n",
       "    </tr>\n",
       "    <tr>\n",
       "      <th>0/0 revie</th>\n",
       "      <td>1</td>\n",
       "      <td>1.0</td>\n",
       "      <td>1.0</td>\n",
       "      <td>0/0 revie</td>\n",
       "      <td>15</td>\n",
       "      <td>1</td>\n",
       "      <td>16</td>\n",
       "      <td>31</td>\n",
       "      <td>46</td>\n",
       "      <td>61</td>\n",
       "      <td>...</td>\n",
       "      <td>1381</td>\n",
       "      <td>1396</td>\n",
       "      <td>1411</td>\n",
       "      <td>1426</td>\n",
       "      <td>1441</td>\n",
       "      <td>1456</td>\n",
       "      <td>1471</td>\n",
       "      <td>1486</td>\n",
       "      <td>1501</td>\n",
       "      <td>1516</td>\n",
       "    </tr>\n",
       "    <tr>\n",
       "      <th>0/0 revie</th>\n",
       "      <td>1</td>\n",
       "      <td>1.0</td>\n",
       "      <td>1.0</td>\n",
       "      <td>0/0 revie</td>\n",
       "      <td>16</td>\n",
       "      <td>1</td>\n",
       "      <td>17</td>\n",
       "      <td>33</td>\n",
       "      <td>49</td>\n",
       "      <td>65</td>\n",
       "      <td>...</td>\n",
       "      <td>1473</td>\n",
       "      <td>1489</td>\n",
       "      <td>1505</td>\n",
       "      <td>1521</td>\n",
       "      <td>1537</td>\n",
       "      <td>1553</td>\n",
       "      <td>1569</td>\n",
       "      <td>1585</td>\n",
       "      <td>1601</td>\n",
       "      <td>1617</td>\n",
       "    </tr>\n",
       "    <tr>\n",
       "      <th>0/0 revie</th>\n",
       "      <td>1</td>\n",
       "      <td>1.0</td>\n",
       "      <td>1.0</td>\n",
       "      <td>0/0 revie</td>\n",
       "      <td>17</td>\n",
       "      <td>1</td>\n",
       "      <td>18</td>\n",
       "      <td>35</td>\n",
       "      <td>52</td>\n",
       "      <td>69</td>\n",
       "      <td>...</td>\n",
       "      <td>1565</td>\n",
       "      <td>1582</td>\n",
       "      <td>1599</td>\n",
       "      <td>1616</td>\n",
       "      <td>1633</td>\n",
       "      <td>1650</td>\n",
       "      <td>1667</td>\n",
       "      <td>1684</td>\n",
       "      <td>1701</td>\n",
       "      <td>1718</td>\n",
       "    </tr>\n",
       "    <tr>\n",
       "      <th>0/0 revie</th>\n",
       "      <td>1</td>\n",
       "      <td>1.0</td>\n",
       "      <td>1.0</td>\n",
       "      <td>0/0 revie</td>\n",
       "      <td>18</td>\n",
       "      <td>1</td>\n",
       "      <td>19</td>\n",
       "      <td>37</td>\n",
       "      <td>55</td>\n",
       "      <td>73</td>\n",
       "      <td>...</td>\n",
       "      <td>1657</td>\n",
       "      <td>1675</td>\n",
       "      <td>1693</td>\n",
       "      <td>1711</td>\n",
       "      <td>1729</td>\n",
       "      <td>1747</td>\n",
       "      <td>1765</td>\n",
       "      <td>1783</td>\n",
       "      <td>1801</td>\n",
       "      <td>1819</td>\n",
       "    </tr>\n",
       "    <tr>\n",
       "      <th>0/0 revie</th>\n",
       "      <td>1</td>\n",
       "      <td>1.0</td>\n",
       "      <td>1.0</td>\n",
       "      <td>0/0 revie</td>\n",
       "      <td>19</td>\n",
       "      <td>1</td>\n",
       "      <td>20</td>\n",
       "      <td>39</td>\n",
       "      <td>58</td>\n",
       "      <td>77</td>\n",
       "      <td>...</td>\n",
       "      <td>1749</td>\n",
       "      <td>1768</td>\n",
       "      <td>1787</td>\n",
       "      <td>1806</td>\n",
       "      <td>1825</td>\n",
       "      <td>1844</td>\n",
       "      <td>1863</td>\n",
       "      <td>1882</td>\n",
       "      <td>1901</td>\n",
       "      <td>1920</td>\n",
       "    </tr>\n",
       "    <tr>\n",
       "      <th>0/0 revie</th>\n",
       "      <td>1</td>\n",
       "      <td>1.0</td>\n",
       "      <td>1.0</td>\n",
       "      <td>0/0 revie</td>\n",
       "      <td>20</td>\n",
       "      <td>1</td>\n",
       "      <td>21</td>\n",
       "      <td>41</td>\n",
       "      <td>61</td>\n",
       "      <td>81</td>\n",
       "      <td>...</td>\n",
       "      <td>1841</td>\n",
       "      <td>1861</td>\n",
       "      <td>1881</td>\n",
       "      <td>1901</td>\n",
       "      <td>1921</td>\n",
       "      <td>1941</td>\n",
       "      <td>1961</td>\n",
       "      <td>1981</td>\n",
       "      <td>2001</td>\n",
       "      <td>2021</td>\n",
       "    </tr>\n",
       "    <tr>\n",
       "      <th>0/0 revie</th>\n",
       "      <td>1</td>\n",
       "      <td>1.0</td>\n",
       "      <td>1.0</td>\n",
       "      <td>0/0 revie</td>\n",
       "      <td>21</td>\n",
       "      <td>1</td>\n",
       "      <td>22</td>\n",
       "      <td>43</td>\n",
       "      <td>64</td>\n",
       "      <td>85</td>\n",
       "      <td>...</td>\n",
       "      <td>1933</td>\n",
       "      <td>1954</td>\n",
       "      <td>1975</td>\n",
       "      <td>1996</td>\n",
       "      <td>2017</td>\n",
       "      <td>2038</td>\n",
       "      <td>2059</td>\n",
       "      <td>2080</td>\n",
       "      <td>2101</td>\n",
       "      <td>2122</td>\n",
       "    </tr>\n",
       "    <tr>\n",
       "      <th>0/0 revie</th>\n",
       "      <td>1</td>\n",
       "      <td>1.0</td>\n",
       "      <td>1.0</td>\n",
       "      <td>0/0 revie</td>\n",
       "      <td>22</td>\n",
       "      <td>1</td>\n",
       "      <td>23</td>\n",
       "      <td>45</td>\n",
       "      <td>67</td>\n",
       "      <td>89</td>\n",
       "      <td>...</td>\n",
       "      <td>2025</td>\n",
       "      <td>2047</td>\n",
       "      <td>2069</td>\n",
       "      <td>2091</td>\n",
       "      <td>2113</td>\n",
       "      <td>2135</td>\n",
       "      <td>2157</td>\n",
       "      <td>2179</td>\n",
       "      <td>2201</td>\n",
       "      <td>2223</td>\n",
       "    </tr>\n",
       "    <tr>\n",
       "      <th>0/0 revie</th>\n",
       "      <td>1</td>\n",
       "      <td>1.0</td>\n",
       "      <td>1.0</td>\n",
       "      <td>0/0 revie</td>\n",
       "      <td>23</td>\n",
       "      <td>1</td>\n",
       "      <td>24</td>\n",
       "      <td>47</td>\n",
       "      <td>70</td>\n",
       "      <td>93</td>\n",
       "      <td>...</td>\n",
       "      <td>2117</td>\n",
       "      <td>2140</td>\n",
       "      <td>2163</td>\n",
       "      <td>2186</td>\n",
       "      <td>2209</td>\n",
       "      <td>2232</td>\n",
       "      <td>2255</td>\n",
       "      <td>2278</td>\n",
       "      <td>2301</td>\n",
       "      <td>2324</td>\n",
       "    </tr>\n",
       "    <tr>\n",
       "      <th>0/0 revie</th>\n",
       "      <td>1</td>\n",
       "      <td>1.0</td>\n",
       "      <td>1.0</td>\n",
       "      <td>0/0 revie</td>\n",
       "      <td>24</td>\n",
       "      <td>1</td>\n",
       "      <td>25</td>\n",
       "      <td>49</td>\n",
       "      <td>73</td>\n",
       "      <td>97</td>\n",
       "      <td>...</td>\n",
       "      <td>2209</td>\n",
       "      <td>2233</td>\n",
       "      <td>2257</td>\n",
       "      <td>2281</td>\n",
       "      <td>2305</td>\n",
       "      <td>2329</td>\n",
       "      <td>2353</td>\n",
       "      <td>2377</td>\n",
       "      <td>2401</td>\n",
       "      <td>2425</td>\n",
       "    </tr>\n",
       "    <tr>\n",
       "      <th>0/0 revie</th>\n",
       "      <td>1</td>\n",
       "      <td>1.0</td>\n",
       "      <td>1.0</td>\n",
       "      <td>0/0 revie</td>\n",
       "      <td>25</td>\n",
       "      <td>1</td>\n",
       "      <td>26</td>\n",
       "      <td>51</td>\n",
       "      <td>76</td>\n",
       "      <td>101</td>\n",
       "      <td>...</td>\n",
       "      <td>2301</td>\n",
       "      <td>2326</td>\n",
       "      <td>2351</td>\n",
       "      <td>2376</td>\n",
       "      <td>2401</td>\n",
       "      <td>2426</td>\n",
       "      <td>2451</td>\n",
       "      <td>2476</td>\n",
       "      <td>2501</td>\n",
       "      <td>2526</td>\n",
       "    </tr>\n",
       "    <tr>\n",
       "      <th>0/0 revie</th>\n",
       "      <td>1</td>\n",
       "      <td>1.0</td>\n",
       "      <td>1.0</td>\n",
       "      <td>0/0 revie</td>\n",
       "      <td>26</td>\n",
       "      <td>1</td>\n",
       "      <td>27</td>\n",
       "      <td>53</td>\n",
       "      <td>79</td>\n",
       "      <td>105</td>\n",
       "      <td>...</td>\n",
       "      <td>2393</td>\n",
       "      <td>2419</td>\n",
       "      <td>2445</td>\n",
       "      <td>2471</td>\n",
       "      <td>2497</td>\n",
       "      <td>2523</td>\n",
       "      <td>2549</td>\n",
       "      <td>2575</td>\n",
       "      <td>2601</td>\n",
       "      <td>2627</td>\n",
       "    </tr>\n",
       "    <tr>\n",
       "      <th>0/0 revie</th>\n",
       "      <td>1</td>\n",
       "      <td>1.0</td>\n",
       "      <td>1.0</td>\n",
       "      <td>0/0 revie</td>\n",
       "      <td>27</td>\n",
       "      <td>1</td>\n",
       "      <td>28</td>\n",
       "      <td>55</td>\n",
       "      <td>82</td>\n",
       "      <td>109</td>\n",
       "      <td>...</td>\n",
       "      <td>2485</td>\n",
       "      <td>2512</td>\n",
       "      <td>2539</td>\n",
       "      <td>2566</td>\n",
       "      <td>2593</td>\n",
       "      <td>2620</td>\n",
       "      <td>2647</td>\n",
       "      <td>2674</td>\n",
       "      <td>2701</td>\n",
       "      <td>2728</td>\n",
       "    </tr>\n",
       "    <tr>\n",
       "      <th>0/0 revie</th>\n",
       "      <td>1</td>\n",
       "      <td>1.0</td>\n",
       "      <td>1.0</td>\n",
       "      <td>0/0 revie</td>\n",
       "      <td>28</td>\n",
       "      <td>1</td>\n",
       "      <td>29</td>\n",
       "      <td>57</td>\n",
       "      <td>85</td>\n",
       "      <td>113</td>\n",
       "      <td>...</td>\n",
       "      <td>2577</td>\n",
       "      <td>2605</td>\n",
       "      <td>2633</td>\n",
       "      <td>2661</td>\n",
       "      <td>2689</td>\n",
       "      <td>2717</td>\n",
       "      <td>2745</td>\n",
       "      <td>2773</td>\n",
       "      <td>2801</td>\n",
       "      <td>2829</td>\n",
       "    </tr>\n",
       "    <tr>\n",
       "      <th>0/0 revie</th>\n",
       "      <td>1</td>\n",
       "      <td>1.0</td>\n",
       "      <td>1.0</td>\n",
       "      <td>0/0 revie</td>\n",
       "      <td>29</td>\n",
       "      <td>1</td>\n",
       "      <td>30</td>\n",
       "      <td>59</td>\n",
       "      <td>88</td>\n",
       "      <td>117</td>\n",
       "      <td>...</td>\n",
       "      <td>2669</td>\n",
       "      <td>2698</td>\n",
       "      <td>2727</td>\n",
       "      <td>2756</td>\n",
       "      <td>2785</td>\n",
       "      <td>2814</td>\n",
       "      <td>2843</td>\n",
       "      <td>2872</td>\n",
       "      <td>2901</td>\n",
       "      <td>2930</td>\n",
       "    </tr>\n",
       "    <tr>\n",
       "      <th>...</th>\n",
       "      <td>...</td>\n",
       "      <td>...</td>\n",
       "      <td>...</td>\n",
       "      <td>...</td>\n",
       "      <td>...</td>\n",
       "      <td>...</td>\n",
       "      <td>...</td>\n",
       "      <td>...</td>\n",
       "      <td>...</td>\n",
       "      <td>...</td>\n",
       "      <td>...</td>\n",
       "      <td>...</td>\n",
       "      <td>...</td>\n",
       "      <td>...</td>\n",
       "      <td>...</td>\n",
       "      <td>...</td>\n",
       "      <td>...</td>\n",
       "      <td>...</td>\n",
       "      <td>...</td>\n",
       "      <td>...</td>\n",
       "      <td>...</td>\n",
       "    </tr>\n",
       "    <tr>\n",
       "      <th>y boys, 7</th>\n",
       "      <td>1</td>\n",
       "      <td>1.0</td>\n",
       "      <td>0.0</td>\n",
       "      <td>y boys, 7</td>\n",
       "      <td>7466</td>\n",
       "      <td>1</td>\n",
       "      <td>7467</td>\n",
       "      <td>7437</td>\n",
       "      <td>7407</td>\n",
       "      <td>7377</td>\n",
       "      <td>...</td>\n",
       "      <td>4737</td>\n",
       "      <td>4707</td>\n",
       "      <td>4677</td>\n",
       "      <td>4647</td>\n",
       "      <td>4617</td>\n",
       "      <td>4587</td>\n",
       "      <td>4557</td>\n",
       "      <td>4527</td>\n",
       "      <td>4497</td>\n",
       "      <td>4467</td>\n",
       "    </tr>\n",
       "    <tr>\n",
       "      <th>y dog, Huc</th>\n",
       "      <td>1</td>\n",
       "      <td>1.0</td>\n",
       "      <td>1.0</td>\n",
       "      <td>y dog, Huc</td>\n",
       "      <td>7467</td>\n",
       "      <td>1</td>\n",
       "      <td>7468</td>\n",
       "      <td>7439</td>\n",
       "      <td>7410</td>\n",
       "      <td>7381</td>\n",
       "      <td>...</td>\n",
       "      <td>4829</td>\n",
       "      <td>4800</td>\n",
       "      <td>4771</td>\n",
       "      <td>4742</td>\n",
       "      <td>4713</td>\n",
       "      <td>4684</td>\n",
       "      <td>4655</td>\n",
       "      <td>4626</td>\n",
       "      <td>4597</td>\n",
       "      <td>4568</td>\n",
       "    </tr>\n",
       "    <tr>\n",
       "      <th>y family l</th>\n",
       "      <td>1</td>\n",
       "      <td>1.0</td>\n",
       "      <td>0.0</td>\n",
       "      <td>y family l</td>\n",
       "      <td>7468</td>\n",
       "      <td>1</td>\n",
       "      <td>7469</td>\n",
       "      <td>7441</td>\n",
       "      <td>7413</td>\n",
       "      <td>7385</td>\n",
       "      <td>...</td>\n",
       "      <td>4921</td>\n",
       "      <td>4893</td>\n",
       "      <td>4865</td>\n",
       "      <td>4837</td>\n",
       "      <td>4809</td>\n",
       "      <td>4781</td>\n",
       "      <td>4753</td>\n",
       "      <td>4725</td>\n",
       "      <td>4697</td>\n",
       "      <td>4669</td>\n",
       "    </tr>\n",
       "    <tr>\n",
       "      <th>y grandson</th>\n",
       "      <td>1</td>\n",
       "      <td>1.0</td>\n",
       "      <td>1.0</td>\n",
       "      <td>y grandson</td>\n",
       "      <td>7469</td>\n",
       "      <td>1</td>\n",
       "      <td>7470</td>\n",
       "      <td>7443</td>\n",
       "      <td>7416</td>\n",
       "      <td>7389</td>\n",
       "      <td>...</td>\n",
       "      <td>5013</td>\n",
       "      <td>4986</td>\n",
       "      <td>4959</td>\n",
       "      <td>4932</td>\n",
       "      <td>4905</td>\n",
       "      <td>4878</td>\n",
       "      <td>4851</td>\n",
       "      <td>4824</td>\n",
       "      <td>4797</td>\n",
       "      <td>4770</td>\n",
       "    </tr>\n",
       "    <tr>\n",
       "      <th>y he is al</th>\n",
       "      <td>1</td>\n",
       "      <td>1.0</td>\n",
       "      <td>1.0</td>\n",
       "      <td>y he is al</td>\n",
       "      <td>7470</td>\n",
       "      <td>1</td>\n",
       "      <td>7471</td>\n",
       "      <td>7445</td>\n",
       "      <td>7419</td>\n",
       "      <td>7393</td>\n",
       "      <td>...</td>\n",
       "      <td>5105</td>\n",
       "      <td>5079</td>\n",
       "      <td>5053</td>\n",
       "      <td>5027</td>\n",
       "      <td>5001</td>\n",
       "      <td>4975</td>\n",
       "      <td>4949</td>\n",
       "      <td>4923</td>\n",
       "      <td>4897</td>\n",
       "      <td>4871</td>\n",
       "    </tr>\n",
       "    <tr>\n",
       "      <th>y just don</th>\n",
       "      <td>1</td>\n",
       "      <td>1.0</td>\n",
       "      <td>0.0</td>\n",
       "      <td>y just don</td>\n",
       "      <td>7471</td>\n",
       "      <td>1</td>\n",
       "      <td>7472</td>\n",
       "      <td>7447</td>\n",
       "      <td>7422</td>\n",
       "      <td>7397</td>\n",
       "      <td>...</td>\n",
       "      <td>5197</td>\n",
       "      <td>5172</td>\n",
       "      <td>5147</td>\n",
       "      <td>5122</td>\n",
       "      <td>5097</td>\n",
       "      <td>5072</td>\n",
       "      <td>5047</td>\n",
       "      <td>5022</td>\n",
       "      <td>4997</td>\n",
       "      <td>4972</td>\n",
       "    </tr>\n",
       "    <tr>\n",
       "      <th>y lost in</th>\n",
       "      <td>1</td>\n",
       "      <td>1.0</td>\n",
       "      <td>1.0</td>\n",
       "      <td>y lost in</td>\n",
       "      <td>7472</td>\n",
       "      <td>1</td>\n",
       "      <td>7473</td>\n",
       "      <td>7449</td>\n",
       "      <td>7425</td>\n",
       "      <td>7401</td>\n",
       "      <td>...</td>\n",
       "      <td>5289</td>\n",
       "      <td>5265</td>\n",
       "      <td>5241</td>\n",
       "      <td>5217</td>\n",
       "      <td>5193</td>\n",
       "      <td>5169</td>\n",
       "      <td>5145</td>\n",
       "      <td>5121</td>\n",
       "      <td>5097</td>\n",
       "      <td>5073</td>\n",
       "    </tr>\n",
       "    <tr>\n",
       "      <th>y loved th</th>\n",
       "      <td>1</td>\n",
       "      <td>1.0</td>\n",
       "      <td>0.0</td>\n",
       "      <td>y loved th</td>\n",
       "      <td>7473</td>\n",
       "      <td>1</td>\n",
       "      <td>7474</td>\n",
       "      <td>7451</td>\n",
       "      <td>7428</td>\n",
       "      <td>7405</td>\n",
       "      <td>...</td>\n",
       "      <td>5381</td>\n",
       "      <td>5358</td>\n",
       "      <td>5335</td>\n",
       "      <td>5312</td>\n",
       "      <td>5289</td>\n",
       "      <td>5266</td>\n",
       "      <td>5243</td>\n",
       "      <td>5220</td>\n",
       "      <td>5197</td>\n",
       "      <td>5174</td>\n",
       "    </tr>\n",
       "    <tr>\n",
       "      <th>y more. A</th>\n",
       "      <td>1</td>\n",
       "      <td>1.0</td>\n",
       "      <td>0.0</td>\n",
       "      <td>y more. A</td>\n",
       "      <td>7474</td>\n",
       "      <td>1</td>\n",
       "      <td>7475</td>\n",
       "      <td>7453</td>\n",
       "      <td>7431</td>\n",
       "      <td>7409</td>\n",
       "      <td>...</td>\n",
       "      <td>5473</td>\n",
       "      <td>5451</td>\n",
       "      <td>5429</td>\n",
       "      <td>5407</td>\n",
       "      <td>5385</td>\n",
       "      <td>5363</td>\n",
       "      <td>5341</td>\n",
       "      <td>5319</td>\n",
       "      <td>5297</td>\n",
       "      <td>5275</td>\n",
       "    </tr>\n",
       "    <tr>\n",
       "      <th>y movie li</th>\n",
       "      <td>1</td>\n",
       "      <td>1.0</td>\n",
       "      <td>0.0</td>\n",
       "      <td>y movie li</td>\n",
       "      <td>7475</td>\n",
       "      <td>1</td>\n",
       "      <td>7476</td>\n",
       "      <td>7455</td>\n",
       "      <td>7434</td>\n",
       "      <td>7413</td>\n",
       "      <td>...</td>\n",
       "      <td>5565</td>\n",
       "      <td>5544</td>\n",
       "      <td>5523</td>\n",
       "      <td>5502</td>\n",
       "      <td>5481</td>\n",
       "      <td>5460</td>\n",
       "      <td>5439</td>\n",
       "      <td>5418</td>\n",
       "      <td>5397</td>\n",
       "      <td>5376</td>\n",
       "    </tr>\n",
       "    <tr>\n",
       "      <th>y movie re</th>\n",
       "      <td>1</td>\n",
       "      <td>1.0</td>\n",
       "      <td>1.0</td>\n",
       "      <td>y movie re</td>\n",
       "      <td>7476</td>\n",
       "      <td>1</td>\n",
       "      <td>7477</td>\n",
       "      <td>7457</td>\n",
       "      <td>7437</td>\n",
       "      <td>7417</td>\n",
       "      <td>...</td>\n",
       "      <td>5657</td>\n",
       "      <td>5637</td>\n",
       "      <td>5617</td>\n",
       "      <td>5597</td>\n",
       "      <td>5577</td>\n",
       "      <td>5557</td>\n",
       "      <td>5537</td>\n",
       "      <td>5517</td>\n",
       "      <td>5497</td>\n",
       "      <td>5477</td>\n",
       "    </tr>\n",
       "    <tr>\n",
       "      <th>y my boys,</th>\n",
       "      <td>1</td>\n",
       "      <td>1.0</td>\n",
       "      <td>0.0</td>\n",
       "      <td>y my boys,</td>\n",
       "      <td>7477</td>\n",
       "      <td>1</td>\n",
       "      <td>7478</td>\n",
       "      <td>7459</td>\n",
       "      <td>7440</td>\n",
       "      <td>7421</td>\n",
       "      <td>...</td>\n",
       "      <td>5749</td>\n",
       "      <td>5730</td>\n",
       "      <td>5711</td>\n",
       "      <td>5692</td>\n",
       "      <td>5673</td>\n",
       "      <td>5654</td>\n",
       "      <td>5635</td>\n",
       "      <td>5616</td>\n",
       "      <td>5597</td>\n",
       "      <td>5578</td>\n",
       "    </tr>\n",
       "    <tr>\n",
       "      <th>y night wi</th>\n",
       "      <td>1</td>\n",
       "      <td>1.0</td>\n",
       "      <td>1.0</td>\n",
       "      <td>y night wi</td>\n",
       "      <td>7478</td>\n",
       "      <td>1</td>\n",
       "      <td>7479</td>\n",
       "      <td>7461</td>\n",
       "      <td>7443</td>\n",
       "      <td>7425</td>\n",
       "      <td>...</td>\n",
       "      <td>5841</td>\n",
       "      <td>5823</td>\n",
       "      <td>5805</td>\n",
       "      <td>5787</td>\n",
       "      <td>5769</td>\n",
       "      <td>5751</td>\n",
       "      <td>5733</td>\n",
       "      <td>5715</td>\n",
       "      <td>5697</td>\n",
       "      <td>5679</td>\n",
       "    </tr>\n",
       "    <tr>\n",
       "      <th>y was incr</th>\n",
       "      <td>1</td>\n",
       "      <td>1.0</td>\n",
       "      <td>0.0</td>\n",
       "      <td>y was incr</td>\n",
       "      <td>7479</td>\n",
       "      <td>1</td>\n",
       "      <td>7480</td>\n",
       "      <td>7463</td>\n",
       "      <td>7446</td>\n",
       "      <td>7429</td>\n",
       "      <td>...</td>\n",
       "      <td>5933</td>\n",
       "      <td>5916</td>\n",
       "      <td>5899</td>\n",
       "      <td>5882</td>\n",
       "      <td>5865</td>\n",
       "      <td>5848</td>\n",
       "      <td>5831</td>\n",
       "      <td>5814</td>\n",
       "      <td>5797</td>\n",
       "      <td>5780</td>\n",
       "    </tr>\n",
       "    <tr>\n",
       "      <th>y. The sce</th>\n",
       "      <td>1</td>\n",
       "      <td>1.0</td>\n",
       "      <td>0.0</td>\n",
       "      <td>y. The sce</td>\n",
       "      <td>7480</td>\n",
       "      <td>1</td>\n",
       "      <td>7481</td>\n",
       "      <td>7465</td>\n",
       "      <td>7449</td>\n",
       "      <td>7433</td>\n",
       "      <td>...</td>\n",
       "      <td>6025</td>\n",
       "      <td>6009</td>\n",
       "      <td>5993</td>\n",
       "      <td>5977</td>\n",
       "      <td>5961</td>\n",
       "      <td>5945</td>\n",
       "      <td>5929</td>\n",
       "      <td>5913</td>\n",
       "      <td>5897</td>\n",
       "      <td>5881</td>\n",
       "    </tr>\n",
       "    <tr>\n",
       "      <th>y: Fabulou</th>\n",
       "      <td>1</td>\n",
       "      <td>1.0</td>\n",
       "      <td>0.0</td>\n",
       "      <td>y: Fabulou</td>\n",
       "      <td>7481</td>\n",
       "      <td>1</td>\n",
       "      <td>7482</td>\n",
       "      <td>7467</td>\n",
       "      <td>7452</td>\n",
       "      <td>7437</td>\n",
       "      <td>...</td>\n",
       "      <td>6117</td>\n",
       "      <td>6102</td>\n",
       "      <td>6087</td>\n",
       "      <td>6072</td>\n",
       "      <td>6057</td>\n",
       "      <td>6042</td>\n",
       "      <td>6027</td>\n",
       "      <td>6012</td>\n",
       "      <td>5997</td>\n",
       "      <td>5982</td>\n",
       "    </tr>\n",
       "    <tr>\n",
       "      <th>y: Family</th>\n",
       "      <td>1</td>\n",
       "      <td>1.0</td>\n",
       "      <td>1.0</td>\n",
       "      <td>y: Family</td>\n",
       "      <td>7482</td>\n",
       "      <td>1</td>\n",
       "      <td>7483</td>\n",
       "      <td>7469</td>\n",
       "      <td>7455</td>\n",
       "      <td>7441</td>\n",
       "      <td>...</td>\n",
       "      <td>6209</td>\n",
       "      <td>6195</td>\n",
       "      <td>6181</td>\n",
       "      <td>6167</td>\n",
       "      <td>6153</td>\n",
       "      <td>6139</td>\n",
       "      <td>6125</td>\n",
       "      <td>6111</td>\n",
       "      <td>6097</td>\n",
       "      <td>6083</td>\n",
       "    </tr>\n",
       "    <tr>\n",
       "      <th>y: Good Fa</th>\n",
       "      <td>1</td>\n",
       "      <td>1.0</td>\n",
       "      <td>1.0</td>\n",
       "      <td>y: Good Fa</td>\n",
       "      <td>7483</td>\n",
       "      <td>1</td>\n",
       "      <td>7484</td>\n",
       "      <td>7471</td>\n",
       "      <td>7458</td>\n",
       "      <td>7445</td>\n",
       "      <td>...</td>\n",
       "      <td>6301</td>\n",
       "      <td>6288</td>\n",
       "      <td>6275</td>\n",
       "      <td>6262</td>\n",
       "      <td>6249</td>\n",
       "      <td>6236</td>\n",
       "      <td>6223</td>\n",
       "      <td>6210</td>\n",
       "      <td>6197</td>\n",
       "      <td>6184</td>\n",
       "    </tr>\n",
       "    <tr>\n",
       "      <th>y: Great F</th>\n",
       "      <td>1</td>\n",
       "      <td>1.0</td>\n",
       "      <td>0.0</td>\n",
       "      <td>y: Great F</td>\n",
       "      <td>7484</td>\n",
       "      <td>1</td>\n",
       "      <td>7485</td>\n",
       "      <td>7473</td>\n",
       "      <td>7461</td>\n",
       "      <td>7449</td>\n",
       "      <td>...</td>\n",
       "      <td>6393</td>\n",
       "      <td>6381</td>\n",
       "      <td>6369</td>\n",
       "      <td>6357</td>\n",
       "      <td>6345</td>\n",
       "      <td>6333</td>\n",
       "      <td>6321</td>\n",
       "      <td>6309</td>\n",
       "      <td>6297</td>\n",
       "      <td>6285</td>\n",
       "    </tr>\n",
       "    <tr>\n",
       "      <th>y: I love</th>\n",
       "      <td>1</td>\n",
       "      <td>1.0</td>\n",
       "      <td>0.0</td>\n",
       "      <td>y: I love</td>\n",
       "      <td>7485</td>\n",
       "      <td>1</td>\n",
       "      <td>7486</td>\n",
       "      <td>7475</td>\n",
       "      <td>7464</td>\n",
       "      <td>7453</td>\n",
       "      <td>...</td>\n",
       "      <td>6485</td>\n",
       "      <td>6474</td>\n",
       "      <td>6463</td>\n",
       "      <td>6452</td>\n",
       "      <td>6441</td>\n",
       "      <td>6430</td>\n",
       "      <td>6419</td>\n",
       "      <td>6408</td>\n",
       "      <td>6397</td>\n",
       "      <td>6386</td>\n",
       "    </tr>\n",
       "    <tr>\n",
       "      <th>y: yellow</th>\n",
       "      <td>1</td>\n",
       "      <td>0.0</td>\n",
       "      <td>0.0</td>\n",
       "      <td>y: yellow</td>\n",
       "      <td>7486</td>\n",
       "      <td>1</td>\n",
       "      <td>7487</td>\n",
       "      <td>7477</td>\n",
       "      <td>7467</td>\n",
       "      <td>7457</td>\n",
       "      <td>...</td>\n",
       "      <td>6577</td>\n",
       "      <td>6567</td>\n",
       "      <td>6557</td>\n",
       "      <td>6547</td>\n",
       "      <td>6537</td>\n",
       "      <td>6527</td>\n",
       "      <td>6517</td>\n",
       "      <td>6507</td>\n",
       "      <td>6497</td>\n",
       "      <td>6487</td>\n",
       "    </tr>\n",
       "    <tr>\n",
       "      <th>years to c</th>\n",
       "      <td>1</td>\n",
       "      <td>1.0</td>\n",
       "      <td>0.0</td>\n",
       "      <td>years to c</td>\n",
       "      <td>7487</td>\n",
       "      <td>1</td>\n",
       "      <td>7488</td>\n",
       "      <td>7479</td>\n",
       "      <td>7470</td>\n",
       "      <td>7461</td>\n",
       "      <td>...</td>\n",
       "      <td>6669</td>\n",
       "      <td>6660</td>\n",
       "      <td>6651</td>\n",
       "      <td>6642</td>\n",
       "      <td>6633</td>\n",
       "      <td>6624</td>\n",
       "      <td>6615</td>\n",
       "      <td>6606</td>\n",
       "      <td>6597</td>\n",
       "      <td>6588</td>\n",
       "    </tr>\n",
       "    <tr>\n",
       "      <th>yellow dog</th>\n",
       "      <td>1</td>\n",
       "      <td>1.0</td>\n",
       "      <td>1.0</td>\n",
       "      <td>yellow dog</td>\n",
       "      <td>7488</td>\n",
       "      <td>1</td>\n",
       "      <td>7489</td>\n",
       "      <td>7481</td>\n",
       "      <td>7473</td>\n",
       "      <td>7465</td>\n",
       "      <td>...</td>\n",
       "      <td>6761</td>\n",
       "      <td>6753</td>\n",
       "      <td>6745</td>\n",
       "      <td>6737</td>\n",
       "      <td>6729</td>\n",
       "      <td>6721</td>\n",
       "      <td>6713</td>\n",
       "      <td>6705</td>\n",
       "      <td>6697</td>\n",
       "      <td>6689</td>\n",
       "    </tr>\n",
       "    <tr>\n",
       "      <th>yellow dog</th>\n",
       "      <td>1</td>\n",
       "      <td>1.0</td>\n",
       "      <td>1.0</td>\n",
       "      <td>yellow dog</td>\n",
       "      <td>7489</td>\n",
       "      <td>1</td>\n",
       "      <td>7490</td>\n",
       "      <td>7483</td>\n",
       "      <td>7476</td>\n",
       "      <td>7469</td>\n",
       "      <td>...</td>\n",
       "      <td>6853</td>\n",
       "      <td>6846</td>\n",
       "      <td>6839</td>\n",
       "      <td>6832</td>\n",
       "      <td>6825</td>\n",
       "      <td>6818</td>\n",
       "      <td>6811</td>\n",
       "      <td>6804</td>\n",
       "      <td>6797</td>\n",
       "      <td>6790</td>\n",
       "    </tr>\n",
       "    <tr>\n",
       "      <th>you will b</th>\n",
       "      <td>1</td>\n",
       "      <td>1.0</td>\n",
       "      <td>0.0</td>\n",
       "      <td>you will b</td>\n",
       "      <td>7490</td>\n",
       "      <td>1</td>\n",
       "      <td>7491</td>\n",
       "      <td>7485</td>\n",
       "      <td>7479</td>\n",
       "      <td>7473</td>\n",
       "      <td>...</td>\n",
       "      <td>6945</td>\n",
       "      <td>6939</td>\n",
       "      <td>6933</td>\n",
       "      <td>6927</td>\n",
       "      <td>6921</td>\n",
       "      <td>6915</td>\n",
       "      <td>6909</td>\n",
       "      <td>6903</td>\n",
       "      <td>6897</td>\n",
       "      <td>6891</td>\n",
       "    </tr>\n",
       "    <tr>\n",
       "      <th>your famil</th>\n",
       "      <td>1</td>\n",
       "      <td>1.0</td>\n",
       "      <td>1.0</td>\n",
       "      <td>your famil</td>\n",
       "      <td>7491</td>\n",
       "      <td>1</td>\n",
       "      <td>7492</td>\n",
       "      <td>7487</td>\n",
       "      <td>7482</td>\n",
       "      <td>7477</td>\n",
       "      <td>...</td>\n",
       "      <td>7037</td>\n",
       "      <td>7032</td>\n",
       "      <td>7027</td>\n",
       "      <td>7022</td>\n",
       "      <td>7017</td>\n",
       "      <td>7012</td>\n",
       "      <td>7007</td>\n",
       "      <td>7002</td>\n",
       "      <td>6997</td>\n",
       "      <td>6992</td>\n",
       "    </tr>\n",
       "    <tr>\n",
       "      <th>ys, 7 &amp; 8.</th>\n",
       "      <td>1</td>\n",
       "      <td>1.0</td>\n",
       "      <td>0.0</td>\n",
       "      <td>ys, 7 &amp; 8.</td>\n",
       "      <td>7492</td>\n",
       "      <td>1</td>\n",
       "      <td>7493</td>\n",
       "      <td>7489</td>\n",
       "      <td>7485</td>\n",
       "      <td>7481</td>\n",
       "      <td>...</td>\n",
       "      <td>7129</td>\n",
       "      <td>7125</td>\n",
       "      <td>7121</td>\n",
       "      <td>7117</td>\n",
       "      <td>7113</td>\n",
       "      <td>7109</td>\n",
       "      <td>7105</td>\n",
       "      <td>7101</td>\n",
       "      <td>7097</td>\n",
       "      <td>7093</td>\n",
       "    </tr>\n",
       "    <tr>\n",
       "      <th>ys, Good F</th>\n",
       "      <td>1</td>\n",
       "      <td>1.0</td>\n",
       "      <td>1.0</td>\n",
       "      <td>ys, Good F</td>\n",
       "      <td>7493</td>\n",
       "      <td>1</td>\n",
       "      <td>7494</td>\n",
       "      <td>7491</td>\n",
       "      <td>7488</td>\n",
       "      <td>7485</td>\n",
       "      <td>...</td>\n",
       "      <td>7221</td>\n",
       "      <td>7218</td>\n",
       "      <td>7215</td>\n",
       "      <td>7212</td>\n",
       "      <td>7209</td>\n",
       "      <td>7206</td>\n",
       "      <td>7203</td>\n",
       "      <td>7200</td>\n",
       "      <td>7197</td>\n",
       "      <td>7194</td>\n",
       "    </tr>\n",
       "    <tr>\n",
       "      <th>ytime i re</th>\n",
       "      <td>1</td>\n",
       "      <td>1.0</td>\n",
       "      <td>1.0</td>\n",
       "      <td>ytime i re</td>\n",
       "      <td>7494</td>\n",
       "      <td>1</td>\n",
       "      <td>7495</td>\n",
       "      <td>7493</td>\n",
       "      <td>7491</td>\n",
       "      <td>7489</td>\n",
       "      <td>...</td>\n",
       "      <td>7313</td>\n",
       "      <td>7311</td>\n",
       "      <td>7309</td>\n",
       "      <td>7307</td>\n",
       "      <td>7305</td>\n",
       "      <td>7303</td>\n",
       "      <td>7301</td>\n",
       "      <td>7299</td>\n",
       "      <td>7297</td>\n",
       "      <td>7295</td>\n",
       "    </tr>\n",
       "    <tr>\n",
       "      <th>zes and to</th>\n",
       "      <td>1</td>\n",
       "      <td>1.0</td>\n",
       "      <td>0.0</td>\n",
       "      <td>zes and to</td>\n",
       "      <td>7495</td>\n",
       "      <td>1</td>\n",
       "      <td>0</td>\n",
       "      <td>7495</td>\n",
       "      <td>7494</td>\n",
       "      <td>7493</td>\n",
       "      <td>...</td>\n",
       "      <td>7405</td>\n",
       "      <td>7404</td>\n",
       "      <td>7403</td>\n",
       "      <td>7402</td>\n",
       "      <td>7401</td>\n",
       "      <td>7400</td>\n",
       "      <td>7399</td>\n",
       "      <td>7398</td>\n",
       "      <td>7397</td>\n",
       "      <td>7396</td>\n",
       "    </tr>\n",
       "  </tbody>\n",
       "</table>\n",
       "<p>7496 rows × 107 columns</p>\n",
       "</div>"
      ],
      "text/plain": [
       "            doc0  doc1  doc2         key  index  hash0  hash1  hash2  hash3  \\\n",
       "key                                                                           \n",
       "  A boy lo     1   1.0   1.0    A boy lo      0      1      1      1      1   \n",
       "  A real t     1   1.0   0.0    A real t      1      1      2      3      4   \n",
       "  Great st     1   1.0   1.0    Great st      2      1      3      5      7   \n",
       "  We laugh     1   1.0   0.0    We laugh      3      1      4      7     10   \n",
       " \"Hank\" re     1   1.0   0.0   \"Hank\" re      4      1      5      9     13   \n",
       " & 8.  We      1   1.0   0.0   & 8.  We       5      1      6     11     16   \n",
       " + popcorn     1   1.0   1.0   + popcorn      6      1      7     13     19   \n",
       " - i can s     1   1.0   1.0   - i can s      7      1      8     15     22   \n",
       " /><br />T     1   1.0   0.0   /><br />T      8      1      9     17     25   \n",
       " />The act     1   1.0   0.0   />The act      9      1     10     19     28   \n",
       " />This mo     1   1.0   1.0   />This mo     10      1     11     21     31   \n",
       " 0/0 revie     1   1.0   1.0   0/0 revie     11      1     12     23     34   \n",
       " 0/0 revie     1   1.0   1.0   0/0 revie     12      1     13     25     37   \n",
       " 0/0 revie     1   1.0   1.0   0/0 revie     13      1     14     27     40   \n",
       " 0/0 revie     1   1.0   1.0   0/0 revie     14      1     15     29     43   \n",
       " 0/0 revie     1   1.0   1.0   0/0 revie     15      1     16     31     46   \n",
       " 0/0 revie     1   1.0   1.0   0/0 revie     16      1     17     33     49   \n",
       " 0/0 revie     1   1.0   1.0   0/0 revie     17      1     18     35     52   \n",
       " 0/0 revie     1   1.0   1.0   0/0 revie     18      1     19     37     55   \n",
       " 0/0 revie     1   1.0   1.0   0/0 revie     19      1     20     39     58   \n",
       " 0/0 revie     1   1.0   1.0   0/0 revie     20      1     21     41     61   \n",
       " 0/0 revie     1   1.0   1.0   0/0 revie     21      1     22     43     64   \n",
       " 0/0 revie     1   1.0   1.0   0/0 revie     22      1     23     45     67   \n",
       " 0/0 revie     1   1.0   1.0   0/0 revie     23      1     24     47     70   \n",
       " 0/0 revie     1   1.0   1.0   0/0 revie     24      1     25     49     73   \n",
       " 0/0 revie     1   1.0   1.0   0/0 revie     25      1     26     51     76   \n",
       " 0/0 revie     1   1.0   1.0   0/0 revie     26      1     27     53     79   \n",
       " 0/0 revie     1   1.0   1.0   0/0 revie     27      1     28     55     82   \n",
       " 0/0 revie     1   1.0   1.0   0/0 revie     28      1     29     57     85   \n",
       " 0/0 revie     1   1.0   1.0   0/0 revie     29      1     30     59     88   \n",
       "...          ...   ...   ...         ...    ...    ...    ...    ...    ...   \n",
       "y boys, 7      1   1.0   0.0  y boys, 7    7466      1   7467   7437   7407   \n",
       "y dog, Huc     1   1.0   1.0  y dog, Huc   7467      1   7468   7439   7410   \n",
       "y family l     1   1.0   0.0  y family l   7468      1   7469   7441   7413   \n",
       "y grandson     1   1.0   1.0  y grandson   7469      1   7470   7443   7416   \n",
       "y he is al     1   1.0   1.0  y he is al   7470      1   7471   7445   7419   \n",
       "y just don     1   1.0   0.0  y just don   7471      1   7472   7447   7422   \n",
       "y lost in      1   1.0   1.0  y lost in    7472      1   7473   7449   7425   \n",
       "y loved th     1   1.0   0.0  y loved th   7473      1   7474   7451   7428   \n",
       "y more. A      1   1.0   0.0  y more. A    7474      1   7475   7453   7431   \n",
       "y movie li     1   1.0   0.0  y movie li   7475      1   7476   7455   7434   \n",
       "y movie re     1   1.0   1.0  y movie re   7476      1   7477   7457   7437   \n",
       "y my boys,     1   1.0   0.0  y my boys,   7477      1   7478   7459   7440   \n",
       "y night wi     1   1.0   1.0  y night wi   7478      1   7479   7461   7443   \n",
       "y was incr     1   1.0   0.0  y was incr   7479      1   7480   7463   7446   \n",
       "y. The sce     1   1.0   0.0  y. The sce   7480      1   7481   7465   7449   \n",
       "y: Fabulou     1   1.0   0.0  y: Fabulou   7481      1   7482   7467   7452   \n",
       "y: Family      1   1.0   1.0  y: Family    7482      1   7483   7469   7455   \n",
       "y: Good Fa     1   1.0   1.0  y: Good Fa   7483      1   7484   7471   7458   \n",
       "y: Great F     1   1.0   0.0  y: Great F   7484      1   7485   7473   7461   \n",
       "y: I love      1   1.0   0.0  y: I love    7485      1   7486   7475   7464   \n",
       "y: yellow      1   0.0   0.0  y: yellow    7486      1   7487   7477   7467   \n",
       "years to c     1   1.0   0.0  years to c   7487      1   7488   7479   7470   \n",
       "yellow dog     1   1.0   1.0  yellow dog   7488      1   7489   7481   7473   \n",
       "yellow dog     1   1.0   1.0  yellow dog   7489      1   7490   7483   7476   \n",
       "you will b     1   1.0   0.0  you will b   7490      1   7491   7485   7479   \n",
       "your famil     1   1.0   1.0  your famil   7491      1   7492   7487   7482   \n",
       "ys, 7 & 8.     1   1.0   0.0  ys, 7 & 8.   7492      1   7493   7489   7485   \n",
       "ys, Good F     1   1.0   1.0  ys, Good F   7493      1   7494   7491   7488   \n",
       "ytime i re     1   1.0   1.0  ytime i re   7494      1   7495   7493   7491   \n",
       "zes and to     1   1.0   0.0  zes and to   7495      1      0   7495   7494   \n",
       "\n",
       "            hash4   ...     hash92  hash93  hash94  hash95  hash96  hash97  \\\n",
       "key                 ...                                                      \n",
       "  A boy lo      1   ...          1       1       1       1       1       1   \n",
       "  A real t      5   ...         93      94      95      96      97      98   \n",
       "  Great st      9   ...        185     187     189     191     193     195   \n",
       "  We laugh     13   ...        277     280     283     286     289     292   \n",
       " \"Hank\" re     17   ...        369     373     377     381     385     389   \n",
       " & 8.  We      21   ...        461     466     471     476     481     486   \n",
       " + popcorn     25   ...        553     559     565     571     577     583   \n",
       " - i can s     29   ...        645     652     659     666     673     680   \n",
       " /><br />T     33   ...        737     745     753     761     769     777   \n",
       " />The act     37   ...        829     838     847     856     865     874   \n",
       " />This mo     41   ...        921     931     941     951     961     971   \n",
       " 0/0 revie     45   ...       1013    1024    1035    1046    1057    1068   \n",
       " 0/0 revie     49   ...       1105    1117    1129    1141    1153    1165   \n",
       " 0/0 revie     53   ...       1197    1210    1223    1236    1249    1262   \n",
       " 0/0 revie     57   ...       1289    1303    1317    1331    1345    1359   \n",
       " 0/0 revie     61   ...       1381    1396    1411    1426    1441    1456   \n",
       " 0/0 revie     65   ...       1473    1489    1505    1521    1537    1553   \n",
       " 0/0 revie     69   ...       1565    1582    1599    1616    1633    1650   \n",
       " 0/0 revie     73   ...       1657    1675    1693    1711    1729    1747   \n",
       " 0/0 revie     77   ...       1749    1768    1787    1806    1825    1844   \n",
       " 0/0 revie     81   ...       1841    1861    1881    1901    1921    1941   \n",
       " 0/0 revie     85   ...       1933    1954    1975    1996    2017    2038   \n",
       " 0/0 revie     89   ...       2025    2047    2069    2091    2113    2135   \n",
       " 0/0 revie     93   ...       2117    2140    2163    2186    2209    2232   \n",
       " 0/0 revie     97   ...       2209    2233    2257    2281    2305    2329   \n",
       " 0/0 revie    101   ...       2301    2326    2351    2376    2401    2426   \n",
       " 0/0 revie    105   ...       2393    2419    2445    2471    2497    2523   \n",
       " 0/0 revie    109   ...       2485    2512    2539    2566    2593    2620   \n",
       " 0/0 revie    113   ...       2577    2605    2633    2661    2689    2717   \n",
       " 0/0 revie    117   ...       2669    2698    2727    2756    2785    2814   \n",
       "...           ...   ...        ...     ...     ...     ...     ...     ...   \n",
       "y boys, 7    7377   ...       4737    4707    4677    4647    4617    4587   \n",
       "y dog, Huc   7381   ...       4829    4800    4771    4742    4713    4684   \n",
       "y family l   7385   ...       4921    4893    4865    4837    4809    4781   \n",
       "y grandson   7389   ...       5013    4986    4959    4932    4905    4878   \n",
       "y he is al   7393   ...       5105    5079    5053    5027    5001    4975   \n",
       "y just don   7397   ...       5197    5172    5147    5122    5097    5072   \n",
       "y lost in    7401   ...       5289    5265    5241    5217    5193    5169   \n",
       "y loved th   7405   ...       5381    5358    5335    5312    5289    5266   \n",
       "y more. A    7409   ...       5473    5451    5429    5407    5385    5363   \n",
       "y movie li   7413   ...       5565    5544    5523    5502    5481    5460   \n",
       "y movie re   7417   ...       5657    5637    5617    5597    5577    5557   \n",
       "y my boys,   7421   ...       5749    5730    5711    5692    5673    5654   \n",
       "y night wi   7425   ...       5841    5823    5805    5787    5769    5751   \n",
       "y was incr   7429   ...       5933    5916    5899    5882    5865    5848   \n",
       "y. The sce   7433   ...       6025    6009    5993    5977    5961    5945   \n",
       "y: Fabulou   7437   ...       6117    6102    6087    6072    6057    6042   \n",
       "y: Family    7441   ...       6209    6195    6181    6167    6153    6139   \n",
       "y: Good Fa   7445   ...       6301    6288    6275    6262    6249    6236   \n",
       "y: Great F   7449   ...       6393    6381    6369    6357    6345    6333   \n",
       "y: I love    7453   ...       6485    6474    6463    6452    6441    6430   \n",
       "y: yellow    7457   ...       6577    6567    6557    6547    6537    6527   \n",
       "years to c   7461   ...       6669    6660    6651    6642    6633    6624   \n",
       "yellow dog   7465   ...       6761    6753    6745    6737    6729    6721   \n",
       "yellow dog   7469   ...       6853    6846    6839    6832    6825    6818   \n",
       "you will b   7473   ...       6945    6939    6933    6927    6921    6915   \n",
       "your famil   7477   ...       7037    7032    7027    7022    7017    7012   \n",
       "ys, 7 & 8.   7481   ...       7129    7125    7121    7117    7113    7109   \n",
       "ys, Good F   7485   ...       7221    7218    7215    7212    7209    7206   \n",
       "ytime i re   7489   ...       7313    7311    7309    7307    7305    7303   \n",
       "zes and to   7493   ...       7405    7404    7403    7402    7401    7400   \n",
       "\n",
       "            hash98  hash99  hash100  hash101  \n",
       "key                                           \n",
       "  A boy lo       1       1        1        1  \n",
       "  A real t      99     100      101      102  \n",
       "  Great st     197     199      201      203  \n",
       "  We laugh     295     298      301      304  \n",
       " \"Hank\" re     393     397      401      405  \n",
       " & 8.  We      491     496      501      506  \n",
       " + popcorn     589     595      601      607  \n",
       " - i can s     687     694      701      708  \n",
       " /><br />T     785     793      801      809  \n",
       " />The act     883     892      901      910  \n",
       " />This mo     981     991     1001     1011  \n",
       " 0/0 revie    1079    1090     1101     1112  \n",
       " 0/0 revie    1177    1189     1201     1213  \n",
       " 0/0 revie    1275    1288     1301     1314  \n",
       " 0/0 revie    1373    1387     1401     1415  \n",
       " 0/0 revie    1471    1486     1501     1516  \n",
       " 0/0 revie    1569    1585     1601     1617  \n",
       " 0/0 revie    1667    1684     1701     1718  \n",
       " 0/0 revie    1765    1783     1801     1819  \n",
       " 0/0 revie    1863    1882     1901     1920  \n",
       " 0/0 revie    1961    1981     2001     2021  \n",
       " 0/0 revie    2059    2080     2101     2122  \n",
       " 0/0 revie    2157    2179     2201     2223  \n",
       " 0/0 revie    2255    2278     2301     2324  \n",
       " 0/0 revie    2353    2377     2401     2425  \n",
       " 0/0 revie    2451    2476     2501     2526  \n",
       " 0/0 revie    2549    2575     2601     2627  \n",
       " 0/0 revie    2647    2674     2701     2728  \n",
       " 0/0 revie    2745    2773     2801     2829  \n",
       " 0/0 revie    2843    2872     2901     2930  \n",
       "...            ...     ...      ...      ...  \n",
       "y boys, 7     4557    4527     4497     4467  \n",
       "y dog, Huc    4655    4626     4597     4568  \n",
       "y family l    4753    4725     4697     4669  \n",
       "y grandson    4851    4824     4797     4770  \n",
       "y he is al    4949    4923     4897     4871  \n",
       "y just don    5047    5022     4997     4972  \n",
       "y lost in     5145    5121     5097     5073  \n",
       "y loved th    5243    5220     5197     5174  \n",
       "y more. A     5341    5319     5297     5275  \n",
       "y movie li    5439    5418     5397     5376  \n",
       "y movie re    5537    5517     5497     5477  \n",
       "y my boys,    5635    5616     5597     5578  \n",
       "y night wi    5733    5715     5697     5679  \n",
       "y was incr    5831    5814     5797     5780  \n",
       "y. The sce    5929    5913     5897     5881  \n",
       "y: Fabulou    6027    6012     5997     5982  \n",
       "y: Family     6125    6111     6097     6083  \n",
       "y: Good Fa    6223    6210     6197     6184  \n",
       "y: Great F    6321    6309     6297     6285  \n",
       "y: I love     6419    6408     6397     6386  \n",
       "y: yellow     6517    6507     6497     6487  \n",
       "years to c    6615    6606     6597     6588  \n",
       "yellow dog    6713    6705     6697     6689  \n",
       "yellow dog    6811    6804     6797     6790  \n",
       "you will b    6909    6903     6897     6891  \n",
       "your famil    7007    7002     6997     6992  \n",
       "ys, 7 & 8.    7105    7101     7097     7093  \n",
       "ys, Good F    7203    7200     7197     7194  \n",
       "ytime i re    7301    7299     7297     7295  \n",
       "zes and to    7399    7398     7397     7396  \n",
       "\n",
       "[7496 rows x 107 columns]"
      ]
     },
     "execution_count": 142,
     "metadata": {},
     "output_type": "execute_result"
    }
   ],
   "source": [
    "df_join_fillna"
   ]
  },
  {
   "cell_type": "code",
   "execution_count": 233,
   "metadata": {},
   "outputs": [],
   "source": [
    "df_signature = np.zeros((102,3))"
   ]
  },
  {
   "cell_type": "code",
   "execution_count": 234,
   "metadata": {},
   "outputs": [],
   "source": [
    "df_signature += 7496"
   ]
  },
  {
   "cell_type": "code",
   "execution_count": 258,
   "metadata": {},
   "outputs": [],
   "source": [
    "for i in range(7496):\n",
    "    row_doc = df_join_fillna.iloc[i][:3]\n",
    "    row_hash = df_join_fillna.iloc[i][5:107]\n",
    "    for inx,val in enumerate(row_doc): \n",
    "        if  val == 1:\n",
    "            true_false_series = df_signature[0:102,inx]> row_hash\n",
    "            for inx1, val1 in enumerate(true_false_series):\n",
    "                if val1:\n",
    "                    df_signature[inx1,inx] = row_hash[inx1]"
   ]
  },
  {
   "cell_type": "code",
   "execution_count": 260,
   "metadata": {},
   "outputs": [],
   "source": [
    "doc0_signature = df_signature[:,0] "
   ]
  },
  {
   "cell_type": "code",
   "execution_count": 261,
   "metadata": {},
   "outputs": [],
   "source": [
    "doc1_signature = df_signature[:,1] \n",
    "doc2_signature = df_signature[:,2] "
   ]
  },
  {
   "cell_type": "code",
   "execution_count": 281,
   "metadata": {},
   "outputs": [],
   "source": [
    "intersection_0_1 = [x for x in doc0_signature == doc1_signature if x]"
   ]
  },
  {
   "cell_type": "code",
   "execution_count": 284,
   "metadata": {},
   "outputs": [],
   "source": [
    "similarity_0_1 = len(intersection_0_1)/len(doc0_signature)"
   ]
  },
  {
   "cell_type": "code",
   "execution_count": 285,
   "metadata": {},
   "outputs": [
    {
     "data": {
      "text/plain": [
       "0.9901960784313726"
      ]
     },
     "execution_count": 285,
     "metadata": {},
     "output_type": "execute_result"
    }
   ],
   "source": [
    "similarity_0_1"
   ]
  },
  {
   "cell_type": "code",
   "execution_count": 286,
   "metadata": {},
   "outputs": [],
   "source": [
    "similarity_0_2 = len([x for x in doc0_signature == doc2_signature if x])/len(doc0_signature)"
   ]
  },
  {
   "cell_type": "code",
   "execution_count": 287,
   "metadata": {},
   "outputs": [
    {
     "data": {
      "text/plain": [
       "0.8921568627450981"
      ]
     },
     "execution_count": 287,
     "metadata": {},
     "output_type": "execute_result"
    }
   ],
   "source": [
    "similarity_0_2"
   ]
  },
  {
   "cell_type": "code",
   "execution_count": 288,
   "metadata": {},
   "outputs": [],
   "source": [
    "similarity_1_2 = len([x for x in doc1_signature == doc2_signature if x])/len(doc1_signature)"
   ]
  },
  {
   "cell_type": "code",
   "execution_count": 289,
   "metadata": {},
   "outputs": [
    {
     "data": {
      "text/plain": [
       "0.9019607843137255"
      ]
     },
     "execution_count": 289,
     "metadata": {},
     "output_type": "execute_result"
    }
   ],
   "source": [
    "similarity_1_2"
   ]
  },
  {
   "cell_type": "markdown",
   "metadata": {},
   "source": [
    "# LSH"
   ]
  },
  {
   "cell_type": "code",
   "execution_count": 335,
   "metadata": {},
   "outputs": [],
   "source": [
    "band = 20\n",
    "row = 5\n",
    "# for df_signature\n",
    "candidate_matrix = np.zeros((3,20))\n",
    "candidate_matrix -= 1\n"
   ]
  },
  {
   "cell_type": "code",
   "execution_count": 336,
   "metadata": {},
   "outputs": [],
   "source": [
    "for i in range(0,20,5):\n",
    "    each_band = df_signature[i:i+5,:]\n",
    "    for j in range(0,3):\n",
    "        each_band[:,j]\n",
    "        for val in each_band[:,j]:\n",
    "            str_convert += f'{int(val)}'\n",
    "            bucket = 2*int(str_convert) % 3\n",
    "            candidate_matrix[j,i] = bucket\n",
    "            \n",
    "    "
   ]
  },
  {
   "cell_type": "code",
   "execution_count": 338,
   "metadata": {},
   "outputs": [
    {
     "data": {
      "text/plain": [
       "array([ 1., -1., -1., -1., -1.,  0., -1., -1., -1., -1.,  0., -1., -1.,\n",
       "       -1., -1.,  0., -1., -1., -1., -1.])"
      ]
     },
     "execution_count": 338,
     "metadata": {},
     "output_type": "execute_result"
    }
   ],
   "source": [
    "candidate_matrix[0]"
   ]
  },
  {
   "cell_type": "code",
   "execution_count": null,
   "metadata": {},
   "outputs": [],
   "source": []
  },
  {
   "cell_type": "code",
   "execution_count": null,
   "metadata": {},
   "outputs": [],
   "source": []
  },
  {
   "cell_type": "code",
   "execution_count": 340,
   "metadata": {},
   "outputs": [],
   "source": [
    "similarity_0_1_LSH = len([x for x in candidate_matrix[0] == candidate_matrix[1] if x])/20"
   ]
  },
  {
   "cell_type": "code",
   "execution_count": 341,
   "metadata": {},
   "outputs": [],
   "source": [
    "similarity_0_2_LSH = len([x for x in candidate_matrix[0] == candidate_matrix[2] if x])/20"
   ]
  },
  {
   "cell_type": "code",
   "execution_count": 342,
   "metadata": {},
   "outputs": [],
   "source": [
    "similarity_1_2_LSH = len([x for x in candidate_matrix[1] == candidate_matrix[2] if x])/20"
   ]
  },
  {
   "cell_type": "code",
   "execution_count": 343,
   "metadata": {},
   "outputs": [
    {
     "data": {
      "text/plain": [
       "0.9"
      ]
     },
     "execution_count": 343,
     "metadata": {},
     "output_type": "execute_result"
    }
   ],
   "source": [
    "similarity_0_1_LSH"
   ]
  },
  {
   "cell_type": "code",
   "execution_count": 344,
   "metadata": {},
   "outputs": [
    {
     "data": {
      "text/plain": [
       "0.85"
      ]
     },
     "execution_count": 344,
     "metadata": {},
     "output_type": "execute_result"
    }
   ],
   "source": [
    "similarity_0_2_LSH"
   ]
  },
  {
   "cell_type": "code",
   "execution_count": 345,
   "metadata": {},
   "outputs": [
    {
     "data": {
      "text/plain": [
       "0.8"
      ]
     },
     "execution_count": 345,
     "metadata": {},
     "output_type": "execute_result"
    }
   ],
   "source": [
    "similarity_1_2_LSH"
   ]
  },
  {
   "cell_type": "code",
   "execution_count": null,
   "metadata": {},
   "outputs": [],
   "source": []
  },
  {
   "cell_type": "code",
   "execution_count": null,
   "metadata": {},
   "outputs": [],
   "source": []
  },
  {
   "cell_type": "code",
   "execution_count": null,
   "metadata": {},
   "outputs": [],
   "source": []
  },
  {
   "cell_type": "code",
   "execution_count": null,
   "metadata": {},
   "outputs": [],
   "source": []
  },
  {
   "cell_type": "code",
   "execution_count": 300,
   "metadata": {},
   "outputs": [
    {
     "data": {
      "text/plain": [
       "array([1., 0., 1., 0., 1.])"
      ]
     },
     "execution_count": 300,
     "metadata": {},
     "output_type": "execute_result"
    }
   ],
   "source": [
    "df_signature[0:5,1]"
   ]
  },
  {
   "cell_type": "code",
   "execution_count": 315,
   "metadata": {},
   "outputs": [
    {
     "ename": "NameError",
     "evalue": "name 'str_convert' is not defined",
     "output_type": "error",
     "traceback": [
      "\u001b[0;31m---------------------------------------------------------------------------\u001b[0m",
      "\u001b[0;31mNameError\u001b[0m                                 Traceback (most recent call last)",
      "\u001b[0;32mcell_name\u001b[0m in \u001b[0;36masync-def-wrapper\u001b[0;34m()\u001b[0m\n",
      "\u001b[0;31mNameError\u001b[0m: name 'str_convert' is not defined"
     ]
    }
   ],
   "source": []
  },
  {
   "cell_type": "code",
   "execution_count": 321,
   "metadata": {},
   "outputs": [
    {
     "data": {
      "text/plain": [
       "'10101'"
      ]
     },
     "execution_count": 321,
     "metadata": {},
     "output_type": "execute_result"
    }
   ],
   "source": [
    "str_convert =\"\"\n",
    "for val in df_signature[0:5,1]:\n",
    "        str_convert += f'{int(val)}'\n",
    "str_convert"
   ]
  },
  {
   "cell_type": "code",
   "execution_count": 325,
   "metadata": {},
   "outputs": [
    {
     "data": {
      "text/plain": [
       "10101"
      ]
     },
     "execution_count": 325,
     "metadata": {},
     "output_type": "execute_result"
    }
   ],
   "source": [
    "hash(int(str_convert))"
   ]
  },
  {
   "cell_type": "code",
   "execution_count": null,
   "metadata": {},
   "outputs": [],
   "source": []
  },
  {
   "cell_type": "code",
   "execution_count": null,
   "metadata": {},
   "outputs": [],
   "source": []
  },
  {
   "cell_type": "code",
   "execution_count": null,
   "metadata": {},
   "outputs": [],
   "source": []
  },
  {
   "cell_type": "code",
   "execution_count": null,
   "metadata": {},
   "outputs": [],
   "source": []
  },
  {
   "cell_type": "code",
   "execution_count": null,
   "metadata": {},
   "outputs": [],
   "source": []
  },
  {
   "cell_type": "code",
   "execution_count": null,
   "metadata": {},
   "outputs": [],
   "source": []
  },
  {
   "cell_type": "code",
   "execution_count": null,
   "metadata": {},
   "outputs": [],
   "source": []
  },
  {
   "cell_type": "code",
   "execution_count": null,
   "metadata": {},
   "outputs": [],
   "source": []
  },
  {
   "cell_type": "code",
   "execution_count": null,
   "metadata": {},
   "outputs": [],
   "source": []
  },
  {
   "cell_type": "code",
   "execution_count": null,
   "metadata": {},
   "outputs": [],
   "source": []
  },
  {
   "cell_type": "code",
   "execution_count": null,
   "metadata": {},
   "outputs": [],
   "source": []
  },
  {
   "cell_type": "code",
   "execution_count": 318,
   "metadata": {},
   "outputs": [
    {
     "ename": "AttributeError",
     "evalue": "'str' object has no attribute 'remove'",
     "output_type": "error",
     "traceback": [
      "\u001b[0;31m---------------------------------------------------------------------------\u001b[0m",
      "\u001b[0;31mAttributeError\u001b[0m                            Traceback (most recent call last)",
      "\u001b[0;32m<ipython-input-318-ea0b1387e3a6>\u001b[0m in \u001b[0;36m<module>\u001b[0;34m\u001b[0m\n\u001b[0;32m----> 1\u001b[0;31m \u001b[0mstr_convert\u001b[0m\u001b[0;34m.\u001b[0m\u001b[0mremove\u001b[0m\u001b[0;34m(\u001b[0m\u001b[0;34m\".\"\u001b[0m\u001b[0;34m)\u001b[0m\u001b[0;34m\u001b[0m\u001b[0;34m\u001b[0m\u001b[0m\n\u001b[0m",
      "\u001b[0;31mAttributeError\u001b[0m: 'str' object has no attribute 'remove'"
     ]
    }
   ],
   "source": []
  },
  {
   "cell_type": "code",
   "execution_count": null,
   "metadata": {},
   "outputs": [],
   "source": []
  },
  {
   "cell_type": "code",
   "execution_count": null,
   "metadata": {},
   "outputs": [],
   "source": []
  },
  {
   "cell_type": "code",
   "execution_count": null,
   "metadata": {},
   "outputs": [],
   "source": []
  },
  {
   "cell_type": "code",
   "execution_count": null,
   "metadata": {},
   "outputs": [],
   "source": []
  },
  {
   "cell_type": "code",
   "execution_count": null,
   "metadata": {},
   "outputs": [],
   "source": []
  },
  {
   "cell_type": "code",
   "execution_count": null,
   "metadata": {},
   "outputs": [],
   "source": []
  },
  {
   "cell_type": "code",
   "execution_count": null,
   "metadata": {},
   "outputs": [],
   "source": []
  },
  {
   "cell_type": "code",
   "execution_count": null,
   "metadata": {},
   "outputs": [],
   "source": []
  },
  {
   "cell_type": "code",
   "execution_count": null,
   "metadata": {},
   "outputs": [],
   "source": []
  },
  {
   "cell_type": "code",
   "execution_count": null,
   "metadata": {},
   "outputs": [],
   "source": []
  },
  {
   "cell_type": "code",
   "execution_count": null,
   "metadata": {},
   "outputs": [],
   "source": []
  },
  {
   "cell_type": "code",
   "execution_count": null,
   "metadata": {},
   "outputs": [],
   "source": []
  },
  {
   "cell_type": "code",
   "execution_count": null,
   "metadata": {},
   "outputs": [],
   "source": []
  },
  {
   "cell_type": "code",
   "execution_count": null,
   "metadata": {},
   "outputs": [],
   "source": []
  },
  {
   "cell_type": "code",
   "execution_count": null,
   "metadata": {},
   "outputs": [],
   "source": []
  },
  {
   "cell_type": "code",
   "execution_count": null,
   "metadata": {},
   "outputs": [],
   "source": []
  },
  {
   "cell_type": "code",
   "execution_count": null,
   "metadata": {},
   "outputs": [],
   "source": []
  },
  {
   "cell_type": "code",
   "execution_count": null,
   "metadata": {},
   "outputs": [],
   "source": []
  },
  {
   "cell_type": "code",
   "execution_count": null,
   "metadata": {},
   "outputs": [],
   "source": []
  },
  {
   "cell_type": "code",
   "execution_count": null,
   "metadata": {},
   "outputs": [],
   "source": []
  },
  {
   "cell_type": "code",
   "execution_count": null,
   "metadata": {},
   "outputs": [],
   "source": []
  },
  {
   "cell_type": "code",
   "execution_count": null,
   "metadata": {},
   "outputs": [],
   "source": []
  },
  {
   "cell_type": "code",
   "execution_count": null,
   "metadata": {},
   "outputs": [],
   "source": []
  },
  {
   "cell_type": "code",
   "execution_count": null,
   "metadata": {},
   "outputs": [],
   "source": []
  },
  {
   "cell_type": "code",
   "execution_count": null,
   "metadata": {},
   "outputs": [],
   "source": []
  },
  {
   "cell_type": "code",
   "execution_count": null,
   "metadata": {},
   "outputs": [],
   "source": []
  },
  {
   "cell_type": "code",
   "execution_count": null,
   "metadata": {},
   "outputs": [],
   "source": []
  },
  {
   "cell_type": "code",
   "execution_count": null,
   "metadata": {},
   "outputs": [],
   "source": []
  },
  {
   "cell_type": "code",
   "execution_count": null,
   "metadata": {},
   "outputs": [],
   "source": []
  },
  {
   "cell_type": "code",
   "execution_count": null,
   "metadata": {},
   "outputs": [],
   "source": []
  },
  {
   "cell_type": "code",
   "execution_count": null,
   "metadata": {},
   "outputs": [],
   "source": []
  },
  {
   "cell_type": "code",
   "execution_count": null,
   "metadata": {},
   "outputs": [],
   "source": []
  },
  {
   "cell_type": "code",
   "execution_count": null,
   "metadata": {},
   "outputs": [],
   "source": []
  },
  {
   "cell_type": "code",
   "execution_count": null,
   "metadata": {},
   "outputs": [],
   "source": []
  },
  {
   "cell_type": "code",
   "execution_count": null,
   "metadata": {},
   "outputs": [],
   "source": []
  },
  {
   "cell_type": "code",
   "execution_count": null,
   "metadata": {},
   "outputs": [],
   "source": []
  },
  {
   "cell_type": "code",
   "execution_count": null,
   "metadata": {},
   "outputs": [],
   "source": []
  },
  {
   "cell_type": "code",
   "execution_count": null,
   "metadata": {},
   "outputs": [],
   "source": []
  },
  {
   "cell_type": "code",
   "execution_count": null,
   "metadata": {},
   "outputs": [],
   "source": []
  },
  {
   "cell_type": "code",
   "execution_count": null,
   "metadata": {},
   "outputs": [],
   "source": []
  },
  {
   "cell_type": "code",
   "execution_count": null,
   "metadata": {},
   "outputs": [],
   "source": []
  },
  {
   "cell_type": "code",
   "execution_count": null,
   "metadata": {},
   "outputs": [],
   "source": []
  },
  {
   "cell_type": "code",
   "execution_count": null,
   "metadata": {},
   "outputs": [],
   "source": []
  },
  {
   "cell_type": "code",
   "execution_count": null,
   "metadata": {},
   "outputs": [],
   "source": []
  },
  {
   "cell_type": "code",
   "execution_count": null,
   "metadata": {},
   "outputs": [],
   "source": []
  },
  {
   "cell_type": "code",
   "execution_count": null,
   "metadata": {},
   "outputs": [],
   "source": []
  },
  {
   "cell_type": "code",
   "execution_count": null,
   "metadata": {},
   "outputs": [],
   "source": []
  },
  {
   "cell_type": "code",
   "execution_count": null,
   "metadata": {},
   "outputs": [],
   "source": []
  },
  {
   "cell_type": "code",
   "execution_count": null,
   "metadata": {},
   "outputs": [],
   "source": []
  },
  {
   "cell_type": "code",
   "execution_count": null,
   "metadata": {},
   "outputs": [],
   "source": []
  },
  {
   "cell_type": "code",
   "execution_count": null,
   "metadata": {},
   "outputs": [],
   "source": []
  },
  {
   "cell_type": "code",
   "execution_count": null,
   "metadata": {},
   "outputs": [],
   "source": []
  },
  {
   "cell_type": "code",
   "execution_count": null,
   "metadata": {},
   "outputs": [],
   "source": []
  },
  {
   "cell_type": "code",
   "execution_count": null,
   "metadata": {},
   "outputs": [],
   "source": []
  },
  {
   "cell_type": "code",
   "execution_count": null,
   "metadata": {},
   "outputs": [],
   "source": []
  },
  {
   "cell_type": "code",
   "execution_count": null,
   "metadata": {},
   "outputs": [],
   "source": []
  },
  {
   "cell_type": "code",
   "execution_count": null,
   "metadata": {},
   "outputs": [],
   "source": []
  },
  {
   "cell_type": "code",
   "execution_count": null,
   "metadata": {},
   "outputs": [],
   "source": []
  },
  {
   "cell_type": "code",
   "execution_count": null,
   "metadata": {},
   "outputs": [],
   "source": []
  },
  {
   "cell_type": "code",
   "execution_count": null,
   "metadata": {},
   "outputs": [],
   "source": []
  },
  {
   "cell_type": "code",
   "execution_count": null,
   "metadata": {},
   "outputs": [],
   "source": []
  },
  {
   "cell_type": "code",
   "execution_count": null,
   "metadata": {},
   "outputs": [],
   "source": []
  },
  {
   "cell_type": "code",
   "execution_count": null,
   "metadata": {},
   "outputs": [],
   "source": []
  },
  {
   "cell_type": "code",
   "execution_count": null,
   "metadata": {},
   "outputs": [],
   "source": []
  },
  {
   "cell_type": "code",
   "execution_count": null,
   "metadata": {},
   "outputs": [],
   "source": []
  },
  {
   "cell_type": "code",
   "execution_count": null,
   "metadata": {},
   "outputs": [],
   "source": []
  },
  {
   "cell_type": "code",
   "execution_count": null,
   "metadata": {},
   "outputs": [],
   "source": []
  },
  {
   "cell_type": "code",
   "execution_count": null,
   "metadata": {},
   "outputs": [],
   "source": []
  },
  {
   "cell_type": "code",
   "execution_count": null,
   "metadata": {},
   "outputs": [],
   "source": []
  },
  {
   "cell_type": "code",
   "execution_count": null,
   "metadata": {},
   "outputs": [],
   "source": []
  },
  {
   "cell_type": "code",
   "execution_count": null,
   "metadata": {},
   "outputs": [],
   "source": []
  },
  {
   "cell_type": "code",
   "execution_count": null,
   "metadata": {},
   "outputs": [],
   "source": []
  },
  {
   "cell_type": "code",
   "execution_count": null,
   "metadata": {},
   "outputs": [],
   "source": []
  },
  {
   "cell_type": "code",
   "execution_count": null,
   "metadata": {},
   "outputs": [],
   "source": []
  },
  {
   "cell_type": "code",
   "execution_count": null,
   "metadata": {},
   "outputs": [],
   "source": []
  },
  {
   "cell_type": "code",
   "execution_count": null,
   "metadata": {},
   "outputs": [],
   "source": []
  },
  {
   "cell_type": "code",
   "execution_count": null,
   "metadata": {},
   "outputs": [],
   "source": []
  },
  {
   "cell_type": "code",
   "execution_count": null,
   "metadata": {},
   "outputs": [],
   "source": []
  },
  {
   "cell_type": "code",
   "execution_count": null,
   "metadata": {},
   "outputs": [],
   "source": []
  },
  {
   "cell_type": "code",
   "execution_count": null,
   "metadata": {},
   "outputs": [],
   "source": []
  },
  {
   "cell_type": "code",
   "execution_count": null,
   "metadata": {},
   "outputs": [],
   "source": []
  },
  {
   "cell_type": "code",
   "execution_count": null,
   "metadata": {},
   "outputs": [],
   "source": []
  },
  {
   "cell_type": "code",
   "execution_count": null,
   "metadata": {},
   "outputs": [],
   "source": [
    "print df.loc['0']\n",
    "\n"
   ]
  },
  {
   "cell_type": "code",
   "execution_count": null,
   "metadata": {},
   "outputs": [],
   "source": []
  },
  {
   "cell_type": "code",
   "execution_count": null,
   "metadata": {},
   "outputs": [],
   "source": []
  },
  {
   "cell_type": "code",
   "execution_count": null,
   "metadata": {},
   "outputs": [],
   "source": []
  },
  {
   "cell_type": "code",
   "execution_count": null,
   "metadata": {},
   "outputs": [],
   "source": []
  },
  {
   "cell_type": "code",
   "execution_count": null,
   "metadata": {},
   "outputs": [],
   "source": []
  },
  {
   "cell_type": "code",
   "execution_count": null,
   "metadata": {},
   "outputs": [],
   "source": []
  },
  {
   "cell_type": "code",
   "execution_count": null,
   "metadata": {},
   "outputs": [],
   "source": []
  },
  {
   "cell_type": "code",
   "execution_count": null,
   "metadata": {},
   "outputs": [],
   "source": []
  },
  {
   "cell_type": "code",
   "execution_count": null,
   "metadata": {},
   "outputs": [],
   "source": [
    "\n",
    "df_signature[]"
   ]
  },
  {
   "cell_type": "code",
   "execution_count": null,
   "metadata": {},
   "outputs": [],
   "source": [
    "def signature():"
   ]
  },
  {
   "cell_type": "code",
   "execution_count": null,
   "metadata": {},
   "outputs": [],
   "source": []
  },
  {
   "cell_type": "code",
   "execution_count": null,
   "metadata": {},
   "outputs": [],
   "source": []
  },
  {
   "cell_type": "code",
   "execution_count": null,
   "metadata": {},
   "outputs": [],
   "source": []
  },
  {
   "cell_type": "code",
   "execution_count": null,
   "metadata": {},
   "outputs": [],
   "source": []
  },
  {
   "cell_type": "code",
   "execution_count": null,
   "metadata": {},
   "outputs": [],
   "source": []
  },
  {
   "cell_type": "code",
   "execution_count": null,
   "metadata": {},
   "outputs": [],
   "source": []
  },
  {
   "cell_type": "code",
   "execution_count": null,
   "metadata": {},
   "outputs": [],
   "source": []
  },
  {
   "cell_type": "code",
   "execution_count": null,
   "metadata": {},
   "outputs": [],
   "source": []
  },
  {
   "cell_type": "code",
   "execution_count": null,
   "metadata": {},
   "outputs": [],
   "source": []
  },
  {
   "cell_type": "code",
   "execution_count": null,
   "metadata": {},
   "outputs": [],
   "source": []
  },
  {
   "cell_type": "code",
   "execution_count": null,
   "metadata": {},
   "outputs": [],
   "source": []
  },
  {
   "cell_type": "code",
   "execution_count": null,
   "metadata": {},
   "outputs": [],
   "source": []
  },
  {
   "cell_type": "code",
   "execution_count": null,
   "metadata": {},
   "outputs": [],
   "source": []
  },
  {
   "cell_type": "code",
   "execution_count": 89,
   "metadata": {},
   "outputs": [
    {
     "ename": "TypeError",
     "evalue": "can only concatenate list (not \"int\") to list",
     "output_type": "error",
     "traceback": [
      "\u001b[0;31m---------------------------------------------------------------------------\u001b[0m",
      "\u001b[0;31mTypeError\u001b[0m                                 Traceback (most recent call last)",
      "\u001b[0;32m<ipython-input-89-e6891a88f386>\u001b[0m in \u001b[0;36m<module>\u001b[0;34m\u001b[0m\n\u001b[1;32m      1\u001b[0m \u001b[0mt\u001b[0m \u001b[0;34m=\u001b[0m \u001b[0;34m[\u001b[0m\u001b[0;36m1\u001b[0m\u001b[0;34m,\u001b[0m\u001b[0;36m2\u001b[0m\u001b[0;34m,\u001b[0m\u001b[0;36m3\u001b[0m\u001b[0;34m]\u001b[0m\u001b[0;34m\u001b[0m\u001b[0;34m\u001b[0m\u001b[0m\n\u001b[0;32m----> 2\u001b[0;31m \u001b[0mt\u001b[0m\u001b[0;34m+\u001b[0m\u001b[0;36m1\u001b[0m\u001b[0;34m\u001b[0m\u001b[0;34m\u001b[0m\u001b[0m\n\u001b[0m",
      "\u001b[0;31mTypeError\u001b[0m: can only concatenate list (not \"int\") to list"
     ]
    }
   ],
   "source": [
    "t = [1,2,3]\n",
    "t+1"
   ]
  },
  {
   "cell_type": "code",
   "execution_count": null,
   "metadata": {},
   "outputs": [],
   "source": []
  },
  {
   "cell_type": "code",
   "execution_count": null,
   "metadata": {},
   "outputs": [],
   "source": []
  },
  {
   "cell_type": "code",
   "execution_count": null,
   "metadata": {},
   "outputs": [],
   "source": []
  },
  {
   "cell_type": "code",
   "execution_count": null,
   "metadata": {},
   "outputs": [],
   "source": []
  },
  {
   "cell_type": "code",
   "execution_count": null,
   "metadata": {},
   "outputs": [],
   "source": []
  },
  {
   "cell_type": "code",
   "execution_count": null,
   "metadata": {},
   "outputs": [],
   "source": []
  },
  {
   "cell_type": "code",
   "execution_count": null,
   "metadata": {},
   "outputs": [],
   "source": []
  },
  {
   "cell_type": "code",
   "execution_count": null,
   "metadata": {},
   "outputs": [],
   "source": []
  },
  {
   "cell_type": "code",
   "execution_count": null,
   "metadata": {},
   "outputs": [],
   "source": []
  },
  {
   "cell_type": "code",
   "execution_count": null,
   "metadata": {},
   "outputs": [],
   "source": []
  },
  {
   "cell_type": "code",
   "execution_count": null,
   "metadata": {},
   "outputs": [],
   "source": []
  },
  {
   "cell_type": "code",
   "execution_count": null,
   "metadata": {},
   "outputs": [],
   "source": []
  },
  {
   "cell_type": "code",
   "execution_count": null,
   "metadata": {},
   "outputs": [],
   "source": []
  },
  {
   "cell_type": "code",
   "execution_count": 80,
   "metadata": {},
   "outputs": [
    {
     "name": "stdout",
     "output_type": "stream",
     "text": [
      "[range(0, 100)]\n"
     ]
    }
   ],
   "source": [
    "print(list100)"
   ]
  },
  {
   "cell_type": "code",
   "execution_count": null,
   "metadata": {},
   "outputs": [],
   "source": []
  },
  {
   "cell_type": "code",
   "execution_count": null,
   "metadata": {},
   "outputs": [],
   "source": []
  },
  {
   "cell_type": "code",
   "execution_count": null,
   "metadata": {},
   "outputs": [],
   "source": []
  },
  {
   "cell_type": "code",
   "execution_count": null,
   "metadata": {},
   "outputs": [],
   "source": []
  },
  {
   "cell_type": "code",
   "execution_count": null,
   "metadata": {},
   "outputs": [],
   "source": []
  },
  {
   "cell_type": "code",
   "execution_count": null,
   "metadata": {},
   "outputs": [],
   "source": []
  },
  {
   "cell_type": "code",
   "execution_count": null,
   "metadata": {},
   "outputs": [],
   "source": []
  },
  {
   "cell_type": "code",
   "execution_count": null,
   "metadata": {},
   "outputs": [],
   "source": []
  },
  {
   "cell_type": "code",
   "execution_count": null,
   "metadata": {},
   "outputs": [],
   "source": []
  },
  {
   "cell_type": "code",
   "execution_count": 68,
   "metadata": {},
   "outputs": [],
   "source": []
  },
  {
   "cell_type": "code",
   "execution_count": 70,
   "metadata": {},
   "outputs": [],
   "source": []
  },
  {
   "cell_type": "code",
   "execution_count": null,
   "metadata": {},
   "outputs": [],
   "source": []
  },
  {
   "cell_type": "code",
   "execution_count": null,
   "metadata": {},
   "outputs": [],
   "source": []
  },
  {
   "cell_type": "code",
   "execution_count": null,
   "metadata": {},
   "outputs": [],
   "source": []
  },
  {
   "cell_type": "code",
   "execution_count": null,
   "metadata": {},
   "outputs": [],
   "source": []
  },
  {
   "cell_type": "code",
   "execution_count": null,
   "metadata": {},
   "outputs": [],
   "source": []
  },
  {
   "cell_type": "code",
   "execution_count": null,
   "metadata": {},
   "outputs": [],
   "source": []
  },
  {
   "cell_type": "code",
   "execution_count": null,
   "metadata": {},
   "outputs": [],
   "source": []
  },
  {
   "cell_type": "code",
   "execution_count": null,
   "metadata": {},
   "outputs": [],
   "source": []
  },
  {
   "cell_type": "code",
   "execution_count": null,
   "metadata": {},
   "outputs": [],
   "source": []
  },
  {
   "cell_type": "code",
   "execution_count": null,
   "metadata": {},
   "outputs": [],
   "source": []
  },
  {
   "cell_type": "code",
   "execution_count": null,
   "metadata": {},
   "outputs": [],
   "source": []
  },
  {
   "cell_type": "code",
   "execution_count": null,
   "metadata": {},
   "outputs": [],
   "source": []
  },
  {
   "cell_type": "code",
   "execution_count": null,
   "metadata": {},
   "outputs": [],
   "source": []
  },
  {
   "cell_type": "code",
   "execution_count": null,
   "metadata": {},
   "outputs": [],
   "source": []
  },
  {
   "cell_type": "code",
   "execution_count": null,
   "metadata": {},
   "outputs": [],
   "source": []
  },
  {
   "cell_type": "code",
   "execution_count": null,
   "metadata": {},
   "outputs": [],
   "source": []
  },
  {
   "cell_type": "code",
   "execution_count": null,
   "metadata": {},
   "outputs": [],
   "source": []
  },
  {
   "cell_type": "code",
   "execution_count": null,
   "metadata": {},
   "outputs": [],
   "source": []
  },
  {
   "cell_type": "code",
   "execution_count": null,
   "metadata": {},
   "outputs": [],
   "source": []
  },
  {
   "cell_type": "code",
   "execution_count": null,
   "metadata": {},
   "outputs": [],
   "source": []
  },
  {
   "cell_type": "code",
   "execution_count": null,
   "metadata": {},
   "outputs": [],
   "source": []
  },
  {
   "cell_type": "code",
   "execution_count": null,
   "metadata": {},
   "outputs": [],
   "source": []
  },
  {
   "cell_type": "code",
   "execution_count": null,
   "metadata": {},
   "outputs": [],
   "source": []
  },
  {
   "cell_type": "code",
   "execution_count": null,
   "metadata": {},
   "outputs": [],
   "source": []
  },
  {
   "cell_type": "code",
   "execution_count": null,
   "metadata": {},
   "outputs": [],
   "source": []
  },
  {
   "cell_type": "code",
   "execution_count": null,
   "metadata": {},
   "outputs": [],
   "source": []
  },
  {
   "cell_type": "code",
   "execution_count": null,
   "metadata": {},
   "outputs": [],
   "source": []
  },
  {
   "cell_type": "code",
   "execution_count": null,
   "metadata": {},
   "outputs": [],
   "source": []
  },
  {
   "cell_type": "code",
   "execution_count": null,
   "metadata": {},
   "outputs": [],
   "source": []
  },
  {
   "cell_type": "code",
   "execution_count": null,
   "metadata": {},
   "outputs": [],
   "source": []
  },
  {
   "cell_type": "code",
   "execution_count": null,
   "metadata": {},
   "outputs": [],
   "source": []
  },
  {
   "cell_type": "code",
   "execution_count": null,
   "metadata": {},
   "outputs": [],
   "source": []
  },
  {
   "cell_type": "code",
   "execution_count": null,
   "metadata": {},
   "outputs": [],
   "source": []
  },
  {
   "cell_type": "code",
   "execution_count": null,
   "metadata": {},
   "outputs": [],
   "source": []
  },
  {
   "cell_type": "code",
   "execution_count": null,
   "metadata": {},
   "outputs": [],
   "source": []
  },
  {
   "cell_type": "code",
   "execution_count": null,
   "metadata": {},
   "outputs": [],
   "source": []
  },
  {
   "cell_type": "code",
   "execution_count": null,
   "metadata": {},
   "outputs": [],
   "source": []
  },
  {
   "cell_type": "code",
   "execution_count": null,
   "metadata": {},
   "outputs": [],
   "source": []
  },
  {
   "cell_type": "code",
   "execution_count": null,
   "metadata": {},
   "outputs": [],
   "source": []
  },
  {
   "cell_type": "code",
   "execution_count": null,
   "metadata": {},
   "outputs": [],
   "source": []
  },
  {
   "cell_type": "code",
   "execution_count": null,
   "metadata": {},
   "outputs": [],
   "source": []
  },
  {
   "cell_type": "code",
   "execution_count": null,
   "metadata": {},
   "outputs": [],
   "source": []
  },
  {
   "cell_type": "code",
   "execution_count": null,
   "metadata": {},
   "outputs": [],
   "source": []
  },
  {
   "cell_type": "code",
   "execution_count": null,
   "metadata": {},
   "outputs": [],
   "source": []
  },
  {
   "cell_type": "code",
   "execution_count": null,
   "metadata": {},
   "outputs": [],
   "source": []
  },
  {
   "cell_type": "code",
   "execution_count": 29,
   "metadata": {},
   "outputs": [
    {
     "data": {
      "text/plain": [
       "1956"
      ]
     },
     "execution_count": 29,
     "metadata": {},
     "output_type": "execute_result"
    }
   ],
   "source": []
  },
  {
   "cell_type": "code",
   "execution_count": null,
   "metadata": {},
   "outputs": [],
   "source": []
  },
  {
   "cell_type": "code",
   "execution_count": null,
   "metadata": {},
   "outputs": [],
   "source": []
  },
  {
   "cell_type": "code",
   "execution_count": null,
   "metadata": {},
   "outputs": [],
   "source": []
  },
  {
   "cell_type": "code",
   "execution_count": null,
   "metadata": {},
   "outputs": [],
   "source": []
  },
  {
   "cell_type": "code",
   "execution_count": null,
   "metadata": {},
   "outputs": [],
   "source": []
  },
  {
   "cell_type": "code",
   "execution_count": null,
   "metadata": {},
   "outputs": [],
   "source": []
  },
  {
   "cell_type": "code",
   "execution_count": null,
   "metadata": {},
   "outputs": [],
   "source": []
  },
  {
   "cell_type": "code",
   "execution_count": null,
   "metadata": {},
   "outputs": [],
   "source": []
  },
  {
   "cell_type": "code",
   "execution_count": null,
   "metadata": {},
   "outputs": [],
   "source": []
  },
  {
   "cell_type": "code",
   "execution_count": 15,
   "metadata": {},
   "outputs": [
    {
     "data": {
      "text/plain": [
       "2008"
      ]
     },
     "execution_count": 15,
     "metadata": {},
     "output_type": "execute_result"
    }
   ],
   "source": []
  },
  {
   "cell_type": "code",
   "execution_count": null,
   "metadata": {},
   "outputs": [],
   "source": []
  },
  {
   "cell_type": "code",
   "execution_count": 13,
   "metadata": {},
   "outputs": [
    {
     "data": {
      "text/plain": [
       "range(0, -3)"
      ]
     },
     "execution_count": 13,
     "metadata": {},
     "output_type": "execute_result"
    }
   ],
   "source": []
  },
  {
   "cell_type": "code",
   "execution_count": null,
   "metadata": {},
   "outputs": [],
   "source": []
  },
  {
   "cell_type": "code",
   "execution_count": null,
   "metadata": {},
   "outputs": [],
   "source": []
  },
  {
   "cell_type": "code",
   "execution_count": null,
   "metadata": {},
   "outputs": [],
   "source": []
  },
  {
   "cell_type": "code",
   "execution_count": null,
   "metadata": {},
   "outputs": [],
   "source": []
  },
  {
   "cell_type": "code",
   "execution_count": null,
   "metadata": {},
   "outputs": [],
   "source": []
  },
  {
   "cell_type": "code",
   "execution_count": null,
   "metadata": {},
   "outputs": [],
   "source": []
  },
  {
   "cell_type": "code",
   "execution_count": null,
   "metadata": {},
   "outputs": [],
   "source": []
  },
  {
   "cell_type": "code",
   "execution_count": null,
   "metadata": {},
   "outputs": [],
   "source": []
  }
 ],
 "metadata": {
  "kernelspec": {
   "display_name": "Python 3",
   "language": "python",
   "name": "python3"
  },
  "language_info": {
   "codemirror_mode": {
    "name": "ipython",
    "version": 3
   },
   "file_extension": ".py",
   "mimetype": "text/x-python",
   "name": "python",
   "nbconvert_exporter": "python",
   "pygments_lexer": "ipython3",
   "version": "3.7.1"
  }
 },
 "nbformat": 4,
 "nbformat_minor": 2
}
