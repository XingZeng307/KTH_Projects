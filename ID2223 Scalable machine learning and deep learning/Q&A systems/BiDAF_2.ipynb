{
 "cells": [
  {
   "cell_type": "markdown",
   "metadata": {
    "id": "hCc4oOhGofa1"
   },
   "source": [
    "## Environment setting"
   ]
  },
  {
   "cell_type": "code",
   "execution_count": 1,
   "metadata": {
    "colab": {
     "base_uri": "https://localhost:8080/"
    },
    "id": "_nbhm3VaoiMZ",
    "outputId": "be89abbf-578a-4ea9-ac8d-483f6e62e6c2"
   },
   "outputs": [
    {
     "name": "stdout",
     "output_type": "stream",
     "text": [
      "Drive already mounted at /content/drive; to attempt to forcibly remount, call drive.mount(\"/content/drive\", force_remount=True).\n"
     ]
    }
   ],
   "source": [
    "from google.colab import drive\n",
    "\n",
    "drive.mount('/content/drive')"
   ]
  },
  {
   "cell_type": "code",
   "execution_count": 2,
   "metadata": {
    "colab": {
     "base_uri": "https://localhost:8080/",
     "height": 429
    },
    "id": "PY94blWHolhK",
    "outputId": "6982dcdb-5c73-494c-ffa5-f3e6da701847"
   },
   "outputs": [
    {
     "name": "stdout",
     "output_type": "stream",
     "text": [
      "Looking in links: https://download.pytorch.org/whl/torch_stable.html\n",
      "Collecting torch==1.6.0+cu101\n",
      "\u001b[?25l  Downloading https://download.pytorch.org/whl/cu101/torch-1.6.0%2Bcu101-cp36-cp36m-linux_x86_64.whl (708.0MB)\n",
      "\u001b[K     |████████████████████████████████| 708.0MB 21kB/s \n",
      "\u001b[?25hCollecting torchvision==0.7.0+cu101\n",
      "\u001b[?25l  Downloading https://download.pytorch.org/whl/cu101/torchvision-0.7.0%2Bcu101-cp36-cp36m-linux_x86_64.whl (5.9MB)\n",
      "\u001b[K     |████████████████████████████████| 5.9MB 34.7MB/s \n",
      "\u001b[?25hRequirement already satisfied: numpy in /usr/local/lib/python3.6/dist-packages (from torch==1.6.0+cu101) (1.19.4)\n",
      "Requirement already satisfied: future in /usr/local/lib/python3.6/dist-packages (from torch==1.6.0+cu101) (0.16.0)\n",
      "Requirement already satisfied: pillow>=4.1.1 in /usr/local/lib/python3.6/dist-packages (from torchvision==0.7.0+cu101) (7.0.0)\n",
      "Installing collected packages: torch, torchvision\n",
      "  Found existing installation: torch 1.7.0+cu101\n",
      "    Uninstalling torch-1.7.0+cu101:\n",
      "      Successfully uninstalled torch-1.7.0+cu101\n",
      "  Found existing installation: torchvision 0.8.1+cu101\n",
      "    Uninstalling torchvision-0.8.1+cu101:\n",
      "      Successfully uninstalled torchvision-0.8.1+cu101\n",
      "Successfully installed torch-1.6.0+cu101 torchvision-0.7.0+cu101\n"
     ]
    },
    {
     "data": {
      "application/vnd.colab-display-data+json": {
       "pip_warning": {
        "packages": [
         "torch"
        ]
       }
      }
     },
     "metadata": {
      "tags": []
     },
     "output_type": "display_data"
    }
   ],
   "source": [
    "!pip install torch==1.6.0+cu101 torchvision==0.7.0+cu101 -f https://download.pytorch.org/whl/torch_stable.html\n",
    "# ! nvcc --version\n",
    "# import torch\n",
    "# print(torch.__version__)"
   ]
  },
  {
   "cell_type": "code",
   "execution_count": 2,
   "metadata": {
    "id": "4r0WM8cYoNSb"
   },
   "outputs": [],
   "source": [
    "import torch\n",
    "import numpy as np\n",
    "import pandas as pd\n",
    "import pickle\n",
    "import re, os, string, typing, gc, json\n",
    "import spacy\n",
    "from collections import Counter\n",
    "nlp = spacy.load('en')\n",
    "import numpy as np\n",
    "from torch import nn\n",
    "import torch\n",
    "import numpy as np\n",
    "import pandas as pd\n",
    "import pickle, time\n",
    "import re, os, string, typing, gc, json\n",
    "import torch.nn.functional as F\n",
    "import spacy\n",
    "from sklearn.model_selection import train_test_split\n",
    "from collections import Counter\n",
    "nlp = spacy.load('en')\n"
   ]
  },
  {
   "cell_type": "markdown",
   "metadata": {
    "id": "l0i3lekgoC_j"
   },
   "source": [
    "## Data Preprocessing"
   ]
  },
  {
   "cell_type": "code",
   "execution_count": 11,
   "metadata": {
    "id": "iAIsswMBuoHZ"
   },
   "outputs": [],
   "source": [
    "def load_json(path):\n",
    "    '''\n",
    "    Loads the JSON file of the Squad dataset.\n",
    "    Returns the json object of the dataset.\n",
    "    '''\n",
    "    with open(path, 'r', encoding='utf-8') as f:\n",
    "        data = json.load(f)\n",
    "        \n",
    "    print(\"Length of data: \", len(data['data']))\n",
    "    print(\"Data Keys: \", data['data'][0].keys())\n",
    "    print(\"Title: \", data['data'][0]['title'])\n",
    "    \n",
    "    return data\n",
    "\n",
    "\n",
    "\n",
    "\n",
    "def parse_data(data:dict)->list:\n",
    "    '''\n",
    "    Parses the JSON file of Squad dataset by looping through the\n",
    "    keys and values and returns a list of dictionaries with\n",
    "    context, query and label triplets being the keys of each dict.\n",
    "    '''\n",
    "    data = data['data']\n",
    "    qa_list = []\n",
    "\n",
    "    for paragraphs in data:\n",
    "\n",
    "        for para in paragraphs['paragraphs']:\n",
    "            context = para['context']\n",
    "\n",
    "            for qa in para['qas']:\n",
    "                \n",
    "                id = qa['id']\n",
    "                question = qa['question']\n",
    "                \n",
    "                for ans in qa['answers']:\n",
    "                    answer = ans['text']\n",
    "                    ans_start = ans['answer_start']\n",
    "                    ans_end = ans_start + len(answer)\n",
    "                    \n",
    "                    qa_dict = {}\n",
    "                    qa_dict['id'] = id\n",
    "                    qa_dict['context'] = context\n",
    "                    qa_dict['question'] = question\n",
    "                    qa_dict['label'] = [ans_start, ans_end]\n",
    "\n",
    "                    qa_dict['answer'] = answer\n",
    "                    qa_list.append(qa_dict)    \n",
    "\n",
    "    \n",
    "    return qa_list\n",
    "\n",
    "\n",
    "\n",
    "def filter_large_examples(df):\n",
    "    '''\n",
    "    Returns ids of examples where context lengths, query lengths and answer lengths are\n",
    "    above a particular threshold. These ids can then be dropped from the dataframe. \n",
    "    This is explicitly mentioned in QANet but can be done for other models as well.\n",
    "    '''\n",
    "    \n",
    "    ctx_lens = []\n",
    "    query_lens = []\n",
    "    ans_lens = []\n",
    "    for index, row in df.iterrows():\n",
    "        ctx_tokens = [w.text for w in nlp(row.context, disable=['parser','ner','tagger'])]\n",
    "        if len(ctx_tokens)>400:\n",
    "            ctx_lens.append(row.name)\n",
    "\n",
    "        query_tokens = [w.text for w in nlp(row.question, disable=['parser','tagger','ner'])]\n",
    "        if len(query_tokens)>50:\n",
    "            query_lens.append(row.name)\n",
    "\n",
    "        ans_tokens = [w.text for w in nlp(row.answer, disable=['parser','tagger','ner'])]\n",
    "        if len(ans_tokens)>30:\n",
    "            ans_lens.append(row.name)\n",
    "\n",
    "        assert row.name == index\n",
    "    \n",
    "    return set(ans_lens + ctx_lens + query_lens)\n",
    "\n",
    "\n",
    "def gather_text_for_vocab(dfs:list):\n",
    "    '''\n",
    "    Gathers text from contexts and questions to build a vocabulary.\n",
    "    \n",
    "    :param dfs: list of dataframes of SQUAD dataset.\n",
    "    :returns: list of contexts and questions\n",
    "    '''\n",
    "    \n",
    "    text = []\n",
    "    total = 0\n",
    "    for df in dfs:\n",
    "        unique_contexts = list(df.context.unique())\n",
    "        unique_questions = list(df.question.unique())\n",
    "        total += df.context.nunique() + df.question.nunique()\n",
    "        text.extend(unique_contexts + unique_questions)\n",
    "    \n",
    "    assert len(text) == total\n",
    "    \n",
    "    return text\n",
    "\n",
    "\n",
    "\n",
    "\n",
    "def build_word_vocab(vocab_text):\n",
    "    '''\n",
    "    Builds a word-level vocabulary from the given text.\n",
    "    \n",
    "    :param list vocab_text: list of contexts and questions\n",
    "    :returns \n",
    "        dict word2idx: word to index mapping of words\n",
    "        dict idx2word: integer to word mapping\n",
    "        list word_vocab: list of words sorted by frequency\n",
    "    '''\n",
    "    \n",
    "    \n",
    "    words = []\n",
    "    for sent in vocab_text:\n",
    "        for word in nlp(sent, disable=['parser','tagger','ner']):\n",
    "            words.append(word.text)\n",
    "\n",
    "    word_counter = Counter(words)\n",
    "    word_vocab = sorted(word_counter, key=word_counter.get, reverse=True)\n",
    "    print(f\"raw-vocab: {len(word_vocab)}\")\n",
    "    word_vocab.insert(0, '<unk>')\n",
    "    word_vocab.insert(1, '<pad>')\n",
    "    print(f\"vocab-length: {len(word_vocab)}\")\n",
    "    word2idx = {word:idx for idx, word in enumerate(word_vocab)}\n",
    "    print(f\"word2idx-length: {len(word2idx)}\")\n",
    "    idx2word = {v:k for k,v in word2idx.items()}\n",
    "    \n",
    "    \n",
    "    return word2idx, idx2word, word_vocab\n",
    "\n",
    "\n",
    "\n",
    "\n",
    "\n",
    "def build_char_vocab(vocab_text):\n",
    "    '''\n",
    "    Builds a character-level vocabulary from the given text.\n",
    "    \n",
    "    :param list vocab_text: list of contexts and questions\n",
    "    :returns \n",
    "        dict char2idx: character to index mapping of words\n",
    "        list char_vocab: list of characters sorted by frequency\n",
    "    '''\n",
    "    \n",
    "    chars = []\n",
    "    for sent in vocab_text:\n",
    "        for ch in sent:\n",
    "            chars.append(ch)\n",
    "\n",
    "    char_counter = Counter(chars)\n",
    "    char_vocab = sorted(char_counter, key=char_counter.get, reverse=True)\n",
    "    print(f\"raw-char-vocab: {len(char_vocab)}\")\n",
    "    high_freq_char = [char for char, count in char_counter.items() if count>=20]\n",
    "    char_vocab = list(set(char_vocab).intersection(set(high_freq_char)))\n",
    "    print(f\"char-vocab-intersect: {len(char_vocab)}\")\n",
    "    char_vocab.insert(0,'<unk>')\n",
    "    char_vocab.insert(1,'<pad>')\n",
    "    char2idx = {char:idx for idx, char in enumerate(char_vocab)}\n",
    "    print(f\"char2idx-length: {len(char2idx)}\")\n",
    "    \n",
    "    return char2idx, char_vocab\n",
    "\n",
    "\n",
    "\n",
    "def context_to_ids(text, word2idx):\n",
    "    '''\n",
    "    Converts context text to their respective ids by mapping each word\n",
    "    using word2idx. Input text is tokenized using spacy tokenizer first.\n",
    "    \n",
    "    :param str text: context text to be converted\n",
    "    :param dict word2idx: word to id mapping\n",
    "\n",
    "    :returns list context_ids: list of mapped ids\n",
    "    \n",
    "    :raises assertion error: sanity check\n",
    "    \n",
    "    '''\n",
    "    \n",
    "    context_tokens = [w.text for w in nlp(text, disable=['parser','tagger','ner'])]\n",
    "    context_ids = [word2idx[word] for word in context_tokens]\n",
    "    \n",
    "    assert len(context_ids) == len(context_tokens)\n",
    "    return context_ids\n",
    "\n",
    "\n",
    "\n",
    "    \n",
    "def question_to_ids(text, word2idx):\n",
    "    '''\n",
    "    Converts question text to their respective ids by mapping each word\n",
    "    using word2idx. Input text is tokenized using spacy tokenizer first.\n",
    "    \n",
    "    :param str text: question text to be converted\n",
    "    :param dict word2idx: word to id mapping\n",
    "    :returns list context_ids: list of mapped ids\n",
    "    \n",
    "    :raises assertion error: sanity check\n",
    "    \n",
    "    '''\n",
    "    \n",
    "    question_tokens = [w.text for w in nlp(text, disable=['parser','tagger','ner'])]\n",
    "    question_ids = [word2idx[word] for word in question_tokens]\n",
    "    \n",
    "    assert len(question_ids) == len(question_tokens)\n",
    "    return question_ids\n",
    "    \n",
    "\n",
    "\n",
    "    \n",
    "def test_indices(df, idx2word):\n",
    "    '''\n",
    "    Performs the tests mentioned above. This method also gets the start and end of the answers\n",
    "    with respect to the context_ids for each example.\n",
    "    \n",
    "    :param dataframe df: SQUAD df\n",
    "    :param dict idx2word: inverse mapping of token ids to words\n",
    "    :returns\n",
    "        list start_value_error: example idx where the start idx is not found in the start spans\n",
    "                                of the text\n",
    "        list end_value_error: example idx where the end idx is not found in the end spans\n",
    "                              of the text\n",
    "        list assert_error: examples that fail assertion errors. A majority are due to the above errors\n",
    "        \n",
    "    '''\n",
    "\n",
    "    start_value_error = []\n",
    "    end_value_error = []\n",
    "    assert_error = []\n",
    "    for index, row in df.iterrows():\n",
    "\n",
    "        answer_tokens = [w.text for w in nlp(row['answer'], disable=['parser','tagger','ner'])]\n",
    "\n",
    "        start_token = answer_tokens[0]\n",
    "        end_token = answer_tokens[-1]\n",
    "        \n",
    "        context_span  = [(word.idx, word.idx + len(word.text)) \n",
    "                         for word in nlp(row['context'], disable=['parser','tagger','ner'])]\n",
    "\n",
    "        starts, ends = zip(*context_span)\n",
    "\n",
    "        answer_start, answer_end = row['label']\n",
    "\n",
    "        try:\n",
    "            start_idx = starts.index(answer_start)\n",
    "        except:\n",
    "            start_value_error.append(index)\n",
    "        try:\n",
    "            end_idx  = ends.index(answer_end)\n",
    "        except:\n",
    "            end_value_error.append(index)\n",
    "\n",
    "        try:\n",
    "            assert idx2word[row['context_ids'][start_idx]] == answer_tokens[0]\n",
    "            assert idx2word[row['context_ids'][end_idx]] == answer_tokens[-1]\n",
    "        except:\n",
    "            assert_error.append(index)\n",
    "\n",
    "\n",
    "    return start_value_error, end_value_error, assert_error\n",
    "\n",
    "\n",
    "\n",
    "def get_error_indices(df, idx2word):\n",
    "    \n",
    "    start_value_error, end_value_error, assert_error = test_indices(df, idx2word)\n",
    "    err_idx = start_value_error + end_value_error + assert_error\n",
    "    err_idx = set(err_idx)\n",
    "    print(f\"Number of error indices: {len(err_idx)}\")\n",
    "    \n",
    "    return err_idx\n",
    "\n",
    "\n",
    "\n",
    "def index_answer(row, idx2word):\n",
    "    '''\n",
    "    Takes in a row of the dataframe or one training example and\n",
    "    returns a tuple of start and end positions of answer by calculating \n",
    "    spans.\n",
    "    '''\n",
    "    \n",
    "    context_span = [(word.idx, word.idx + len(word.text)) for word in nlp(row.context, disable=['parser','tagger','ner'])]\n",
    "    starts, ends = zip(*context_span)\n",
    "    \n",
    "    answer_start, answer_end = row.label\n",
    "    start_idx = starts.index(answer_start)\n",
    " \n",
    "    end_idx  = ends.index(answer_end)\n",
    "    \n",
    "    ans_toks = [w.text for w in nlp(row.answer,disable=['parser','tagger','ner'])]\n",
    "    ans_start = ans_toks[0]\n",
    "    ans_end = ans_toks[-1]\n",
    "    assert idx2word[row.context_ids[start_idx]] == ans_start\n",
    "    assert idx2word[row.context_ids[end_idx]] == ans_end\n",
    "    \n",
    "    return [start_idx, end_idx]\n",
    "\n",
    "\n",
    "\n"
   ]
  },
  {
   "cell_type": "code",
   "execution_count": 12,
   "metadata": {
    "colab": {
     "base_uri": "https://localhost:8080/"
    },
    "id": "pNBvuMEZu7Er",
    "outputId": "7f35376a-4de8-4ec2-ad16-532f4c3062fe"
   },
   "outputs": [
    {
     "name": "stdout",
     "output_type": "stream",
     "text": [
      "Length of data:  442\n",
      "Data Keys:  dict_keys(['title', 'paragraphs'])\n",
      "Title:  University_of_Notre_Dame\n",
      "Length of data:  48\n",
      "Data Keys:  dict_keys(['title', 'paragraphs'])\n",
      "Title:  Super_Bowl_50\n",
      "--------------------------\n",
      "Train list len:  87599\n",
      "Valid list len:  34726\n"
     ]
    }
   ],
   "source": [
    "# load dataset json files\n",
    "\n",
    "train_data = load_json('/content/drive/MyDrive/Colab_Notebooks/Question_answering_dataset2/squad_train.json')\n",
    "valid_data = load_json('/content/drive/MyDrive/Colab_Notebooks/Question_answering_dataset2/squad_test.json')\n",
    "\n",
    "# parse the json structure to return the data as a list of dictionaries\n",
    "\n",
    "train_list = parse_data(train_data)\n",
    "valid_list = parse_data(valid_data)\n",
    "print('--------------------------')\n",
    "\n",
    "print('Train list len: ',len(train_list))\n",
    "print('Valid list len: ',len(valid_list))\n",
    "\n",
    "# converting the lists into dataframes\n",
    "\n",
    "train_df = pd.DataFrame(train_list)\n",
    "valid_df = pd.DataFrame(valid_list)"
   ]
  },
  {
   "cell_type": "code",
   "execution_count": 13,
   "metadata": {
    "colab": {
     "base_uri": "https://localhost:8080/",
     "height": 289
    },
    "id": "6ZHPN7oCv9yt",
    "outputId": "cf88fd2f-b8d9-4b4d-97bc-49bc25fd7678"
   },
   "outputs": [
    {
     "data": {
      "text/html": [
       "<div>\n",
       "<style scoped>\n",
       "    .dataframe tbody tr th:only-of-type {\n",
       "        vertical-align: middle;\n",
       "    }\n",
       "\n",
       "    .dataframe tbody tr th {\n",
       "        vertical-align: top;\n",
       "    }\n",
       "\n",
       "    .dataframe thead th {\n",
       "        text-align: right;\n",
       "    }\n",
       "</style>\n",
       "<table border=\"1\" class=\"dataframe\">\n",
       "  <thead>\n",
       "    <tr style=\"text-align: right;\">\n",
       "      <th></th>\n",
       "      <th>id</th>\n",
       "      <th>context</th>\n",
       "      <th>question</th>\n",
       "      <th>label</th>\n",
       "      <th>answer</th>\n",
       "    </tr>\n",
       "  </thead>\n",
       "  <tbody>\n",
       "    <tr>\n",
       "      <th>0</th>\n",
       "      <td>5733be284776f41900661182</td>\n",
       "      <td>Architecturally, the school has a Catholic cha...</td>\n",
       "      <td>To whom did the Virgin Mary allegedly appear i...</td>\n",
       "      <td>[515, 541]</td>\n",
       "      <td>Saint Bernadette Soubirous</td>\n",
       "    </tr>\n",
       "    <tr>\n",
       "      <th>1</th>\n",
       "      <td>5733be284776f4190066117f</td>\n",
       "      <td>Architecturally, the school has a Catholic cha...</td>\n",
       "      <td>What is in front of the Notre Dame Main Building?</td>\n",
       "      <td>[188, 213]</td>\n",
       "      <td>a copper statue of Christ</td>\n",
       "    </tr>\n",
       "    <tr>\n",
       "      <th>2</th>\n",
       "      <td>5733be284776f41900661180</td>\n",
       "      <td>Architecturally, the school has a Catholic cha...</td>\n",
       "      <td>The Basilica of the Sacred heart at Notre Dame...</td>\n",
       "      <td>[279, 296]</td>\n",
       "      <td>the Main Building</td>\n",
       "    </tr>\n",
       "    <tr>\n",
       "      <th>3</th>\n",
       "      <td>5733be284776f41900661181</td>\n",
       "      <td>Architecturally, the school has a Catholic cha...</td>\n",
       "      <td>What is the Grotto at Notre Dame?</td>\n",
       "      <td>[381, 420]</td>\n",
       "      <td>a Marian place of prayer and reflection</td>\n",
       "    </tr>\n",
       "    <tr>\n",
       "      <th>4</th>\n",
       "      <td>5733be284776f4190066117e</td>\n",
       "      <td>Architecturally, the school has a Catholic cha...</td>\n",
       "      <td>What sits on top of the Main Building at Notre...</td>\n",
       "      <td>[92, 126]</td>\n",
       "      <td>a golden statue of the Virgin Mary</td>\n",
       "    </tr>\n",
       "  </tbody>\n",
       "</table>\n",
       "</div>"
      ],
      "text/plain": [
       "                         id  ...                                   answer\n",
       "0  5733be284776f41900661182  ...               Saint Bernadette Soubirous\n",
       "1  5733be284776f4190066117f  ...                a copper statue of Christ\n",
       "2  5733be284776f41900661180  ...                        the Main Building\n",
       "3  5733be284776f41900661181  ...  a Marian place of prayer and reflection\n",
       "4  5733be284776f4190066117e  ...       a golden statue of the Virgin Mary\n",
       "\n",
       "[5 rows x 5 columns]"
      ]
     },
     "execution_count": 13,
     "metadata": {
      "tags": []
     },
     "output_type": "execute_result"
    }
   ],
   "source": [
    "train_df.head()"
   ]
  },
  {
   "cell_type": "code",
   "execution_count": 14,
   "metadata": {
    "id": "nI2kOlBgwmK2"
   },
   "outputs": [],
   "source": [
    "def preprocess_df(df):\n",
    "    \n",
    "    def to_lower(text):\n",
    "        return text.lower()\n",
    "\n",
    "    df.context = df.context.apply(to_lower)\n",
    "    df.question = df.question.apply(to_lower)\n",
    "    df.answer = df.answer.apply(to_lower)"
   ]
  },
  {
   "cell_type": "code",
   "execution_count": 15,
   "metadata": {
    "id": "x9f21uLPw10y"
   },
   "outputs": [],
   "source": [
    "preprocess_df(train_df)\n",
    "preprocess_df(valid_df)"
   ]
  },
  {
   "cell_type": "code",
   "execution_count": 16,
   "metadata": {
    "colab": {
     "base_uri": "https://localhost:8080/"
    },
    "id": "y761KJIXw4S2",
    "outputId": "ee1b074e-5e20-419e-d1b2-1739bf2fcab2"
   },
   "outputs": [
    {
     "name": "stdout",
     "output_type": "stream",
     "text": [
      "CPU times: user 451 ms, sys: 15.6 ms, total: 466 ms\n",
      "Wall time: 468 ms\n",
      "Number of sentences in dataset:  118822\n"
     ]
    }
   ],
   "source": [
    "# gather text to build vocabularies\n",
    "\n",
    "vocab_text = gather_text_for_vocab([train_df, valid_df])\n",
    "print(\"Number of sentences in dataset: \", len(vocab_text))"
   ]
  },
  {
   "cell_type": "code",
   "execution_count": 17,
   "metadata": {
    "colab": {
     "base_uri": "https://localhost:8080/"
    },
    "id": "4Yd_QhrSw6mV",
    "outputId": "c39814b0-e2de-4a58-d488-3439e560557e"
   },
   "outputs": [
    {
     "name": "stdout",
     "output_type": "stream",
     "text": [
      "raw-vocab: 97380\n",
      "vocab-length: 97382\n",
      "word2idx-length: 97382\n",
      "CPU times: user 31.5 s, sys: 331 ms, total: 31.8 s\n",
      "Wall time: 31.9 s\n",
      "----------------------------------\n",
      "raw-char-vocab: 1316\n",
      "char-vocab-intersect: 202\n",
      "char2idx-length: 204\n",
      "CPU times: user 2.72 s, sys: 208 ms, total: 2.93 s\n",
      "Wall time: 2.93 s\n"
     ]
    }
   ],
   "source": [
    "# build word and character-level vocabularies\n",
    "\n",
    "word2idx, idx2word, word_vocab = build_word_vocab(vocab_text)\n",
    "print(\"----------------------------------\")\n",
    "char2idx, char_vocab = build_char_vocab(vocab_text)"
   ]
  },
  {
   "cell_type": "code",
   "execution_count": 27,
   "metadata": {
    "id": "mIzakoWpxBKT"
   },
   "outputs": [],
   "source": [
    "# numericalize context and questions for training and validation set\n",
    "\n",
    "train_df['context_ids'] = train_df.context.apply(context_to_ids, word2idx=word2idx)\n",
    "valid_df['context_ids'] = valid_df.context.apply(context_to_ids, word2idx=word2idx)\n",
    "train_df['question_ids'] = train_df.question.apply(question_to_ids, word2idx=word2idx)\n",
    "valid_df['question_ids'] = valid_df.question.apply(question_to_ids, word2idx=word2idx)"
   ]
  },
  {
   "cell_type": "code",
   "execution_count": null,
   "metadata": {
    "id": "nCt09KEzzfFf"
   },
   "outputs": [],
   "source": []
  },
  {
   "cell_type": "code",
   "execution_count": 28,
   "metadata": {
    "colab": {
     "base_uri": "https://localhost:8080/"
    },
    "id": "qKKi2xNQx_DF",
    "outputId": "0fe01e2c-2c72-48b7-fd94-610f421980f3"
   },
   "outputs": [
    {
     "name": "stdout",
     "output_type": "stream",
     "text": [
      "Number of error indices: 991\n",
      "Number of error indices: 424\n"
     ]
    }
   ],
   "source": [
    "# get indices with tokenization errors and drop those indices \n",
    "\n",
    "train_err = get_error_indices(train_df, idx2word)\n",
    "valid_err = get_error_indices(valid_df, idx2word)\n",
    "\n",
    "train_df.drop(train_err, inplace=True)\n",
    "valid_df.drop(valid_err, inplace=True)"
   ]
  },
  {
   "cell_type": "code",
   "execution_count": 31,
   "metadata": {
    "id": "9-3eJkTxxcIL"
   },
   "outputs": [],
   "source": [
    "# get start and end positions of answers from the context\n",
    "# this is basically the label for training QA models\n",
    "\n",
    "train_label_idx = train_df.apply(index_answer, axis=1, idx2word=idx2word)\n",
    "valid_label_idx = valid_df.apply(index_answer, axis=1, idx2word=idx2word)\n",
    "\n",
    "train_df['label_idx'] = train_label_idx\n",
    "valid_df['label_idx'] = valid_label_idx"
   ]
  },
  {
   "cell_type": "code",
   "execution_count": 36,
   "metadata": {
    "colab": {
     "base_uri": "https://localhost:8080/",
     "height": 374
    },
    "id": "kJE7JDzc0GEV",
    "outputId": "4d6b7019-f131-48bc-c633-a81865bb0d94"
   },
   "outputs": [
    {
     "data": {
      "text/html": [
       "<div>\n",
       "<style scoped>\n",
       "    .dataframe tbody tr th:only-of-type {\n",
       "        vertical-align: middle;\n",
       "    }\n",
       "\n",
       "    .dataframe tbody tr th {\n",
       "        vertical-align: top;\n",
       "    }\n",
       "\n",
       "    .dataframe thead th {\n",
       "        text-align: right;\n",
       "    }\n",
       "</style>\n",
       "<table border=\"1\" class=\"dataframe\">\n",
       "  <thead>\n",
       "    <tr style=\"text-align: right;\">\n",
       "      <th></th>\n",
       "      <th>id</th>\n",
       "      <th>context</th>\n",
       "      <th>question</th>\n",
       "      <th>label</th>\n",
       "      <th>answer</th>\n",
       "      <th>context_ids</th>\n",
       "      <th>question_ids</th>\n",
       "      <th>label_idx</th>\n",
       "    </tr>\n",
       "  </thead>\n",
       "  <tbody>\n",
       "    <tr>\n",
       "      <th>0</th>\n",
       "      <td>5733be284776f41900661182</td>\n",
       "      <td>architecturally, the school has a catholic cha...</td>\n",
       "      <td>to whom did the virgin mary allegedly appear i...</td>\n",
       "      <td>[515, 541]</td>\n",
       "      <td>saint bernadette soubirous</td>\n",
       "      <td>[16250, 3, 2, 133, 40, 10, 544, 801, 5, 8708, ...</td>\n",
       "      <td>[9, 569, 25, 2, 2678, 849, 5986, 1082, 6, 8046...</td>\n",
       "      <td>[102, 104]</td>\n",
       "    </tr>\n",
       "    <tr>\n",
       "      <th>1</th>\n",
       "      <td>5733be284776f4190066117f</td>\n",
       "      <td>architecturally, the school has a catholic cha...</td>\n",
       "      <td>what is in front of the notre dame main building?</td>\n",
       "      <td>[188, 213]</td>\n",
       "      <td>a copper statue of christ</td>\n",
       "      <td>[16250, 3, 2, 133, 40, 10, 544, 801, 5, 8708, ...</td>\n",
       "      <td>[11, 12, 6, 1201, 4, 2, 1258, 1195, 237, 300, 7]</td>\n",
       "      <td>[37, 41]</td>\n",
       "    </tr>\n",
       "    <tr>\n",
       "      <th>2</th>\n",
       "      <td>5733be284776f41900661180</td>\n",
       "      <td>architecturally, the school has a catholic cha...</td>\n",
       "      <td>the basilica of the sacred heart at notre dame...</td>\n",
       "      <td>[279, 296]</td>\n",
       "      <td>the main building</td>\n",
       "      <td>[16250, 3, 2, 133, 40, 10, 544, 801, 5, 8708, ...</td>\n",
       "      <td>[2, 4542, 4, 2, 3909, 1498, 31, 1258, 1195, 12...</td>\n",
       "      <td>[57, 59]</td>\n",
       "    </tr>\n",
       "    <tr>\n",
       "      <th>3</th>\n",
       "      <td>5733be284776f41900661181</td>\n",
       "      <td>architecturally, the school has a catholic cha...</td>\n",
       "      <td>what is the grotto at notre dame?</td>\n",
       "      <td>[381, 420]</td>\n",
       "      <td>a marian place of prayer and reflection</td>\n",
       "      <td>[16250, 3, 2, 133, 40, 10, 544, 801, 5, 8708, ...</td>\n",
       "      <td>[11, 12, 2, 19578, 31, 1258, 1195, 7]</td>\n",
       "      <td>[76, 82]</td>\n",
       "    </tr>\n",
       "    <tr>\n",
       "      <th>4</th>\n",
       "      <td>5733be284776f4190066117e</td>\n",
       "      <td>architecturally, the school has a catholic cha...</td>\n",
       "      <td>what sits on top of the main building at notre...</td>\n",
       "      <td>[92, 126]</td>\n",
       "      <td>a golden statue of the virgin mary</td>\n",
       "      <td>[16250, 3, 2, 133, 40, 10, 544, 801, 5, 8708, ...</td>\n",
       "      <td>[11, 8826, 24, 402, 4, 2, 237, 300, 31, 1258, ...</td>\n",
       "      <td>[17, 23]</td>\n",
       "    </tr>\n",
       "  </tbody>\n",
       "</table>\n",
       "</div>"
      ],
      "text/plain": [
       "                         id  ...   label_idx\n",
       "0  5733be284776f41900661182  ...  [102, 104]\n",
       "1  5733be284776f4190066117f  ...    [37, 41]\n",
       "2  5733be284776f41900661180  ...    [57, 59]\n",
       "3  5733be284776f41900661181  ...    [76, 82]\n",
       "4  5733be284776f4190066117e  ...    [17, 23]\n",
       "\n",
       "[5 rows x 8 columns]"
      ]
     },
     "execution_count": 36,
     "metadata": {
      "tags": []
     },
     "output_type": "execute_result"
    }
   ],
   "source": [
    "train_df.head()"
   ]
  },
  {
   "cell_type": "code",
   "execution_count": 37,
   "metadata": {
    "id": "naS1TxblxYKr"
   },
   "outputs": [],
   "source": [
    "# dump to pickle files\n",
    "\n",
    "train_df.to_pickle('bidaftrain.pkl')\n",
    "valid_df.to_pickle('bidafvalid.pkl')\n",
    "\n",
    "with open('qanetw2id.pickle','wb') as handle:\n",
    "    pickle.dump(word2idx, handle)\n",
    "\n",
    "with open('qanetc2id.pickle','wb') as handle:\n",
    "    pickle.dump(char2idx, handle)"
   ]
  },
  {
   "cell_type": "code",
   "execution_count": 39,
   "metadata": {
    "id": "qL8GdPqRxVkB"
   },
   "outputs": [],
   "source": [
    "# load data from pickle files\n",
    "\n",
    "\n",
    "train_df = pd.read_pickle('bidaftrain.pkl')\n",
    "valid_df = pd.read_pickle('bidafvalid.pkl')\n",
    "\n",
    "with open('qanetw2id.pickle','rb') as handle:\n",
    "    word2idx = pickle.load(hanadle)\n",
    "with open('qanetc2id.pickle','rb') as handle:\n",
    "    char2idx = pickle.load(handle)\n",
    "\n",
    "idx2word = {v:k for k,v in word2idx.items()}"
   ]
  },
  {
   "cell_type": "code",
   "execution_count": null,
   "metadata": {
    "id": "AIfaZhQZ1iVj"
   },
   "outputs": [],
   "source": []
  },
  {
   "cell_type": "markdown",
   "metadata": {
    "id": "qUEgAzBZ0LpH"
   },
   "source": [
    "## Dataloader/Dataset for training and testing"
   ]
  },
  {
   "cell_type": "code",
   "execution_count": 41,
   "metadata": {
    "id": "17GCBD30xOba"
   },
   "outputs": [],
   "source": [
    "class SquadDataset:\n",
    "    '''\n",
    "    - Creates batches dynamically by padding to the length of largest example\n",
    "      in a given batch.\n",
    "    - Calulates character vectors for contexts and question.\n",
    "    - Returns tensors for training.\n",
    "    '''\n",
    "    \n",
    "    def __init__(self, data, batch_size):\n",
    "        \n",
    "        self.batch_size = batch_size\n",
    "        data = [data[i:i+self.batch_size] for i in range(0, len(data), self.batch_size)]\n",
    "        self.data = data\n",
    "        \n",
    "        \n",
    "    def __len__(self):\n",
    "        return len(self.data)\n",
    "    \n",
    "    def make_char_vector(self, max_sent_len, max_word_len, sentence):\n",
    "        \n",
    "        char_vec = torch.ones(max_sent_len, max_word_len).type(torch.LongTensor)\n",
    "        \n",
    "        for i, word in enumerate(nlp(sentence, disable=['parser','tagger','ner'])):\n",
    "            for j, ch in enumerate(word.text):\n",
    "                char_vec[i][j] = char2idx.get(ch, 0)\n",
    "        \n",
    "        return char_vec    \n",
    "    \n",
    "    def get_span(self, text):\n",
    "        \n",
    "        text = nlp(text, disable=['parser','tagger','ner'])\n",
    "        span = [(w.idx, w.idx+len(w.text)) for w in text]\n",
    "\n",
    "        return span\n",
    "\n",
    "    def __iter__(self):\n",
    "        '''\n",
    "        Creates batches of data and yields them.\n",
    "        \n",
    "        Each yield comprises of:\n",
    "        :padded_context: padded tensor of contexts for each batch \n",
    "        :padded_question: padded tensor of questions for each batch \n",
    "        :char_ctx & ques_ctx: character-level ids for context and question\n",
    "        :label: start and end index wrt context_ids\n",
    "        :context_text,answer_text: used while validation to calculate metrics\n",
    "        :ids: question_ids for evaluation\n",
    "        \n",
    "        '''\n",
    "        \n",
    "        for batch in self.data:\n",
    "            \n",
    "            spans = []\n",
    "            ctx_text = []\n",
    "            answer_text = []\n",
    "            \n",
    "            for ctx in batch.context:\n",
    "                ctx_text.append(ctx)\n",
    "                spans.append(self.get_span(ctx))\n",
    "            \n",
    "            for ans in batch.answer:\n",
    "                answer_text.append(ans)\n",
    "                \n",
    "            \n",
    "            max_context_len = max([len(ctx) for ctx in batch.context_ids])\n",
    "            padded_context = torch.LongTensor(len(batch), max_context_len).fill_(1)\n",
    "            \n",
    "            for i, ctx in enumerate(batch.context_ids):\n",
    "                padded_context[i, :len(ctx)] = torch.LongTensor(ctx)\n",
    "                \n",
    "            max_word_ctx = 0\n",
    "            for context in batch.context:\n",
    "                for word in nlp(context, disable=['parser','tagger','ner']):\n",
    "                    if len(word.text) > max_word_ctx:\n",
    "                        max_word_ctx = len(word.text)\n",
    "            \n",
    "            char_ctx = torch.ones(len(batch), max_context_len, max_word_ctx).type(torch.LongTensor)\n",
    "            for i, context in enumerate(batch.context):\n",
    "                char_ctx[i] = self.make_char_vector(max_context_len, max_word_ctx, context)\n",
    "            \n",
    "            max_question_len = max([len(ques) for ques in batch.question_ids])\n",
    "            padded_question = torch.LongTensor(len(batch), max_question_len).fill_(1)\n",
    "            \n",
    "            for i, ques in enumerate(batch.question_ids):\n",
    "                padded_question[i, :len(ques)] = torch.LongTensor(ques)\n",
    "                \n",
    "            max_word_ques = 0\n",
    "            for question in batch.question:\n",
    "                for word in nlp(question, disable=['parser','tagger','ner']):\n",
    "                    if len(word.text) > max_word_ques:\n",
    "                        max_word_ques = len(word.text)\n",
    "            \n",
    "            char_ques = torch.ones(len(batch), max_question_len, max_word_ques).type(torch.LongTensor)\n",
    "            for i, question in enumerate(batch.question):\n",
    "                char_ques[i] = self.make_char_vector(max_question_len, max_word_ques, question)\n",
    "            \n",
    "            ids = list(batch.id)  \n",
    "            label = torch.LongTensor(list(batch.label_idx))\n",
    "            \n",
    "            yield (padded_context, padded_question, char_ctx, char_ques, label, ctx_text, answer_text, ids)"
   ]
  },
  {
   "cell_type": "code",
   "execution_count": 42,
   "metadata": {
    "id": "39dduBJ20LQ4"
   },
   "outputs": [],
   "source": [
    "train_dataset = SquadDataset(train_df, 16)\n",
    "valid_dataset = SquadDataset(valid_df, 16)\n"
   ]
  },
  {
   "cell_type": "code",
   "execution_count": 44,
   "metadata": {
    "id": "uM2d46j81wcg"
   },
   "outputs": [],
   "source": [
    "a = next(iter(train_dataset))\n"
   ]
  },
  {
   "cell_type": "markdown",
   "metadata": {
    "id": "SsuT5rhfpCEs"
   },
   "source": [
    "# Embedding Layer"
   ]
  },
  {
   "cell_type": "markdown",
   "metadata": {
    "id": "7f2AWPpdsMA4"
   },
   "source": [
    "## Word Embedding"
   ]
  },
  {
   "cell_type": "code",
   "execution_count": 3,
   "metadata": {
    "id": "OHA7PrdJsWPH"
   },
   "outputs": [],
   "source": [
    "# T X d (T X 100)   J X d (J X 100)\n",
    "def get_glove_dict():\n",
    "    '''\n",
    "    Parses the glove word vectors text file and returns a dictionary with the words as\n",
    "    keys and their respective pretrained word vectors as values.\n",
    "\n",
    "    '''\n",
    "    glove_dict = {}\n",
    "    with open(\"/content/drive/MyDrive/Colab_Notebooks/Question_anwering_dataset/glove.6B/glove.6B.100d.txt\", \"r\", encoding=\"utf-8\") as f:\n",
    "        for line in f:\n",
    "            values = line.split()\n",
    "            word = values[0]\n",
    "            vector = np.asarray(values[1:], \"float32\")\n",
    "            glove_dict[word] = vector\n",
    "            \n",
    "    f.close()\n",
    "    \n",
    "    return glove_dict"
   ]
  },
  {
   "cell_type": "code",
   "execution_count": 4,
   "metadata": {
    "id": "XmtC6q-ytka7"
   },
   "outputs": [],
   "source": [
    "glove_dict = get_glove_dict()"
   ]
  },
  {
   "cell_type": "code",
   "execution_count": 5,
   "metadata": {
    "id": "KuFDRDVutyyG"
   },
   "outputs": [],
   "source": [
    "def create_weights_matrix(glove_dict):\n",
    "    '''\n",
    "    Creates a weight matrix of the words that are common in the GloVe vocab and\n",
    "    the dataset's vocab. Initializes OOV words with a zero vector.\n",
    "    '''\n",
    "    weights_matrix = np.zeros((len(word_vocab), 100))\n",
    "    words_found = 0\n",
    "    for i, word in enumerate(word_vocab):\n",
    "        try:\n",
    "            weights_matrix[i] = glove_dict[word]\n",
    "            words_found += 1\n",
    "        except:\n",
    "            pass\n",
    "        \n",
    "    return weights_matrix, words_found"
   ]
  },
  {
   "cell_type": "code",
   "execution_count": null,
   "metadata": {
    "id": "guXfdzCuE9wP"
   },
   "outputs": [],
   "source": [
    "weights_matrix, words_found = create_weights_matrix(glove_dict)\n",
    "print(\"Words found in the GloVe vocab: \" ,words_found)"
   ]
  },
  {
   "cell_type": "code",
   "execution_count": null,
   "metadata": {
    "id": "I5gW5zlZ2Zcw"
   },
   "outputs": [],
   "source": [
    "weights_matrix.shape # the number of words * dimension of gLoVE (d1 : the dimension from the word embedding step )"
   ]
  },
  {
   "cell_type": "code",
   "execution_count": null,
   "metadata": {
    "id": "-W-UudFZ2iJM"
   },
   "outputs": [],
   "source": [
    "# dump the weights to load in future\n",
    "\n",
    "np.save('bidafglove_tv.npy', weights_matrix)"
   ]
  },
  {
   "cell_type": "markdown",
   "metadata": {
    "id": "yUGdIbZy20LK"
   },
   "source": [
    "## Character Embedding"
   ]
  },
  {
   "cell_type": "code",
   "execution_count": 10,
   "metadata": {
    "id": "62GpSXd12zU4"
   },
   "outputs": [],
   "source": [
    "# T X d2 (the number of words * the dimension from the character embedding step)\n",
    "# d2: depends on the number of filters = N = 100\n",
    "# [batch_size, seq_len, word_len, emb_dim]\n",
    "# convert this tensor into a format that closely resembles an image, of type \n",
    "# output: x = [bs, seq_len, features] = [bs, seq_len, 100]\n",
    "class CharacterEmbeddingLayer(nn.Module):\n",
    "    \n",
    "    def __init__(self, char_vocab_dim, char_emb_dim, num_output_channels, kernel_size):\n",
    "        \n",
    "        super().__init__()\n",
    "        \n",
    "        self.char_emb_dim = char_emb_dim\n",
    "        \n",
    "        self.char_embedding = nn.Embedding(char_vocab_dim, char_emb_dim, padding_idx=1)\n",
    "        \n",
    "        self.char_convolution = nn.Conv2d(in_channels=1, out_channels=100, kernel_size=kernel_size)\n",
    "        \n",
    "        self.relu = nn.ReLU()\n",
    "    \n",
    "        self.dropout = nn.Dropout(0.2)\n",
    "        \n",
    "    def forward(self, x):\n",
    "        # x = [bs, seq_len, word_len]\n",
    "        # returns : [batch_size, seq_len, num_output_channels]\n",
    "        # the output can be thought of as another feature embedding of dim 100.\n",
    "        \n",
    "        batch_size = x.shape[0]\n",
    "        \n",
    "        x = self.dropout(self.char_embedding(x))\n",
    "        # x = [bs, seq_len, word_len, char_emb_dim]\n",
    "        # following three operations manipulate x in such a way that\n",
    "        # it closely resembles an image. this format is important before \n",
    "        # we perform convolution on the character embeddings.\n",
    "        \n",
    "        x = x.permute(0,1,3,2)\n",
    "        # x = [bs, seq_len, char_emb_dim, word_len]\n",
    "        \n",
    "        x = x.view(-1, self.char_emb_dim, x.shape[3])\n",
    "        # x = [bs*seq_len, char_emb_dim, word_len]\n",
    "        \n",
    "        x = x.unsqueeze(1)\n",
    "        # x = [bs*seq_len, 1, char_emb_dim, word_len]\n",
    "        \n",
    "        # x is now in a format that can be accepted by a conv layer. \n",
    "        # think of the tensor above in terms of an image of dimension\n",
    "        # (N, C_in, H_in, W_in).\n",
    "        \n",
    "        x = self.relu(self.char_convolution(x))\n",
    "        # x = [bs*seq_len, out_channels, H_out, W_out]\n",
    "        \n",
    "        x = x.squeeze()\n",
    "        # x = [bs*seq_len, out_channels, W_out]\n",
    "                \n",
    "        x = F.max_pool1d(x, x.shape[2]).squeeze()\n",
    "        # x = [bs*seq_len, out_channels, 1] => [bs*seq_len, out_channels]\n",
    "        \n",
    "        x = x.view(batch_size, -1, x.shape[-1])\n",
    "        # x = [bs, seq_len, out_channels]\n",
    "        # x = [bs, seq_len, features] = [bs, seq_len, 100]\n",
    "        \n",
    "        \n",
    "        return x"
   ]
  },
  {
   "cell_type": "markdown",
   "metadata": {
    "id": "yAKFjzrV_v1U"
   },
   "source": [
    "## Highway Networks"
   ]
  },
  {
   "cell_type": "code",
   "execution_count": 11,
   "metadata": {
    "id": "IIjbk5Rs2bSn"
   },
   "outputs": [],
   "source": [
    "# The input to this layer is the concatenation of word and character embeddings of each word.\n",
    "# (d1+d2) X T   (d1+d2) X J \n",
    "# 2d X T   2d X T\n",
    "class HighwayNetwork(nn.Module):\n",
    "    \n",
    "    def __init__(self, input_dim, num_layers=2):\n",
    "        \n",
    "        super().__init__()\n",
    "        \n",
    "        self.num_layers = num_layers\n",
    "        \n",
    "        # add multiple linear layers\n",
    "        self.flow_layer = nn.ModuleList([nn.Linear(input_dim, input_dim) for _ in range(num_layers)])\n",
    "        self.gate_layer = nn.ModuleList([nn.Linear(input_dim, input_dim) for _ in range(num_layers)])\n",
    "        \n",
    "    def forward(self, x):\n",
    "        \n",
    "        for i in range(self.num_layers):\n",
    "            \n",
    "            flow_value = F.relu(self.flow_layer[i](x))\n",
    "            gate_value = torch.sigmoid(self.gate_layer[i](x))\n",
    "            \n",
    "            x = gate_value * flow_value + (1-gate_value) * x\n",
    "      \n",
    "        return x "
   ]
  },
  {
   "cell_type": "markdown",
   "metadata": {
    "id": "NxLEkPjbBRKc"
   },
   "source": [
    "## Contextual Embedding"
   ]
  },
  {
   "cell_type": "code",
   "execution_count": 12,
   "metadata": {
    "id": "cfk06Ha3uQYA"
   },
   "outputs": [],
   "source": [
    "class ContextualEmbeddingLayer(nn.Module):\n",
    "    \n",
    "    def __init__(self, input_dim, hidden_dim):\n",
    "        \n",
    "        super().__init__()\n",
    "        \n",
    "        self.lstm = nn.LSTM(input_dim, hidden_dim, batch_first=True, bidirectional=True)\n",
    "        \n",
    "        self.highway_net = HighwayNetwork(input_dim)\n",
    "        \n",
    "    def forward(self, x):\n",
    "        # x = [bs, seq_len, input_dim] = [bs, seq_len, emb_dim*2]\n",
    "        # the input is the concatenation of word and characeter embeddings\n",
    "        # for the sequence.\n",
    "        \n",
    "        highway_out = self.highway_net(x)\n",
    "        # highway_out = [bs, seq_len, input_dim]\n",
    "        \n",
    "        outputs, _ = self.lstm(highway_out)\n",
    "        # outputs = [bs, seq_len, emb_dim*2]\n",
    "        \n",
    "        return outputs"
   ]
  },
  {
   "cell_type": "code",
   "execution_count": 12,
   "metadata": {
    "id": "rcWA0zjiuM_j"
   },
   "outputs": [],
   "source": []
  },
  {
   "cell_type": "markdown",
   "metadata": {
    "id": "jiAnchyJCR1B"
   },
   "source": [
    "# Model \n",
    "### There are 3 parts to construct BiDAF model.\n",
    "\n",
    "\n",
    "## Embedding Layer\n",
    "\n",
    "* Get two Matrix: H for the Context and U for the Query\n",
    "\n",
    "## Attention Layer\n",
    "\n",
    "**GOAL**: Fuse together information from H and U to create several matrix representations of the Context that also contain information from the Query\n",
    "*   **The formation of the Similarity matrix S**: represents the similarity of Context word and Query word\n",
    "*   **Context-to-Query Attention (C2Q)**: find which Query words are most relevant to each Context words\n",
    "*   **Query-to-Context attention (Q2C)**: find which Context word is most similar to either one of the Query words hence are critical for answering the Query\n",
    "\n",
    "----> Megamerge to get G: representation of Context that is “aware” of the existence of the Query and has incorporated relevant information from it\n",
    "\n",
    "\n",
    "\n",
    "\n",
    "## Modelling and Output Layer\n",
    "**Modelling Layer**\n",
    "*   consists of two layers of bi-LSTM.\n",
    "*   converts G into two 2d-by-T matrix  M1, M2\n",
    "\n",
    "**Output Layer** \n",
    "\n",
    "\n",
    "*   Convert these numeric vectors to two probability values \n",
    "*   Get p1 and p2, the probability distribution of the start index over the entire Context and the probability distribution of the end index.\n",
    "\n",
    "\n",
    "\n",
    "\n",
    "\n",
    "\n",
    "\n",
    "\n",
    "\n",
    "\n"
   ]
  },
  {
   "cell_type": "code",
   "execution_count": 7,
   "metadata": {
    "id": "t7sPNfQ-CRXK"
   },
   "outputs": [],
   "source": [
    "class BiDAF(nn.Module):\n",
    "    \n",
    "    def __init__(self, char_vocab_dim, emb_dim, char_emb_dim, num_output_channels, \n",
    "                 kernel_size, ctx_hidden_dim, device):\n",
    "        '''\n",
    "        char_vocab_dim = len(char2idx)\n",
    "        emb_dim = 100\n",
    "        char_emb_dim = 8\n",
    "        num_output_chanels = 100\n",
    "        kernel_size = (8,5)\n",
    "        ctx_hidden_dim = 100\n",
    "        '''\n",
    "        super().__init__()\n",
    "        \n",
    "        self.device = device\n",
    "        \n",
    "        # 1. Three Emdedding Layers: word_embedding, character_embedding, contextual_embedding\n",
    "\n",
    "        self.word_embedding = self.get_glove_embedding()\n",
    "        \n",
    "        self.character_embedding = CharacterEmbeddingLayer(char_vocab_dim, char_emb_dim, \n",
    "                                                      num_output_channels, kernel_size)\n",
    "        \n",
    "        self.contextual_embedding = ContextualEmbeddingLayer(emb_dim*2, ctx_hidden_dim)\n",
    "        \n",
    "        self.dropout = nn.Dropout()\n",
    "        \n",
    "        # 2. Attenton Layer: \n",
    "        self.similarity_weight = nn.Linear(emb_dim*6, 1, bias=False)\n",
    "        \n",
    "        # 3. Modelling Layer and Output Layer\n",
    "        self.modeling_lstm = nn.LSTM(emb_dim*8, emb_dim, bidirectional=True, num_layers=2, batch_first=True, dropout=0.2)\n",
    "        \n",
    "        self.output_start = nn.Linear(emb_dim*10, 1, bias=False)\n",
    "        \n",
    "        self.output_end = nn.Linear(emb_dim*10, 1, bias=False)\n",
    "        \n",
    "        self.end_lstm = nn.LSTM(emb_dim*2, emb_dim, bidirectional=True, batch_first=True)\n",
    "        \n",
    "    \n",
    "    def get_glove_embedding(self):\n",
    "        \n",
    "        weights_matrix = np.load('/content/drive/MyDrive/Desktop/2rd_period_Lectures/Scalable_machine_learning_and_deep_learning/Scalable_ML_DL/Project/BiDAF/bidafglove.npy')\n",
    "        num_embeddings, embedding_dim = weights_matrix.shape\n",
    "        embedding = nn.Embedding.from_pretrained(torch.FloatTensor(weights_matrix).to(self.device),freeze=True)\n",
    "\n",
    "        return embedding\n",
    "        \n",
    "    def forward(self, ctx, ques, char_ctx, char_ques):\n",
    "        # ctx = [bs, ctx_len]\n",
    "        # ques = [bs, ques_len]\n",
    "        # char_ctx = [bs, ctx_len, ctx_word_len]\n",
    "        # char_ques = [bs, ques_len, ques_word_len]\n",
    "        \n",
    "        ctx_len = ctx.shape[1]\n",
    "        \n",
    "        ques_len = ques.shape[1]\n",
    "        \n",
    "        ## GET WORD AND CHARACTER EMBEDDINGS\n",
    "        \n",
    "        ctx_word_embed = self.word_embedding(ctx)\n",
    "        # ctx_word_embed = [bs, ctx_len, emb_dim]\n",
    "        \n",
    "        ques_word_embed = self.word_embedding(ques)\n",
    "        # ques_word_embed = [bs, ques_len, emb_dim]\n",
    "        \n",
    "        ctx_char_embed = self.character_embedding(char_ctx)\n",
    "        # ctx_char_embed =  [bs, ctx_len, emb_dim]\n",
    "        \n",
    "        ques_char_embed = self.character_embedding(char_ques)\n",
    "        # ques_char_embed = [bs, ques_len, emb_dim]\n",
    "        \n",
    "        ## CREATE CONTEXTUAL EMBEDDING\n",
    "        \n",
    "        ctx_contextual_inp = torch.cat([ctx_word_embed, ctx_char_embed],dim=2)\n",
    "        # [bs, ctx_len, emb_dim*2]\n",
    "        \n",
    "        ques_contextual_inp = torch.cat([ques_word_embed, ques_char_embed],dim=2)\n",
    "        # [bs, ques_len, emb_dim*2]\n",
    "        \n",
    "        ctx_contextual_emb = self.contextual_embedding(ctx_contextual_inp)\n",
    "        # [bs, ctx_len, emb_dim*2]\n",
    "        \n",
    "        ques_contextual_emb = self.contextual_embedding(ques_contextual_inp)\n",
    "        # [bs, ques_len, emb_dim*2]\n",
    "        \n",
    "        \n",
    "        ## CREATE SIMILARITY MATRIX\n",
    "        \n",
    "        ctx_ = ctx_contextual_emb.unsqueeze(2).repeat(1,1,ques_len,1)\n",
    "        # [bs, ctx_len, 1, emb_dim*2] => [bs, ctx_len, ques_len, emb_dim*2]\n",
    "        \n",
    "        ques_ = ques_contextual_emb.unsqueeze(1).repeat(1,ctx_len,1,1)\n",
    "        # [bs, 1, ques_len, emb_dim*2] => [bs, ctx_len, ques_len, emb_dim*2]\n",
    "        \n",
    "        elementwise_prod = torch.mul(ctx_, ques_)\n",
    "        # [bs, ctx_len, ques_len, emb_dim*2]\n",
    "        \n",
    "        alpha = torch.cat([ctx_, ques_, elementwise_prod], dim=3)\n",
    "        # [bs, ctx_len, ques_len, emb_dim*6]\n",
    "        \n",
    "        similarity_matrix = self.similarity_weight(alpha).view(-1, ctx_len, ques_len)\n",
    "        # [bs, ctx_len, ques_len]\n",
    "        \n",
    "        \n",
    "        ## CALCULATE CONTEXT2QUERY ATTENTION\n",
    "        \n",
    "        a = F.softmax(similarity_matrix, dim=-1)\n",
    "        # [bs, ctx_len, ques_len]\n",
    "        \n",
    "        c2q = torch.bmm(a, ques_contextual_emb)\n",
    "        # [bs] ([ctx_len, ques_len] X [ques_len, emb_dim*2]) => [bs, ctx_len, emb_dim*2]\n",
    "        \n",
    "        \n",
    "        ## CALCULATE QUERY2CONTEXT ATTENTION\n",
    "        \n",
    "        b = F.softmax(torch.max(similarity_matrix,2)[0], dim=-1)\n",
    "        # [bs, ctx_len]\n",
    "        \n",
    "        b = b.unsqueeze(1)\n",
    "        # [bs, 1, ctx_len]\n",
    "        \n",
    "        q2c = torch.bmm(b, ctx_contextual_emb)\n",
    "        # [bs] ([bs, 1, ctx_len] X [bs, ctx_len, emb_dim*2]) => [bs, 1, emb_dim*2]\n",
    "        \n",
    "        q2c = q2c.repeat(1, ctx_len, 1)\n",
    "        # [bs, ctx_len, emb_dim*2]\n",
    "        \n",
    "        ## QUERY AWARE REPRESENTATION\n",
    "        \n",
    "        G = torch.cat([ctx_contextual_emb, c2q, \n",
    "                       torch.mul(ctx_contextual_emb,c2q), \n",
    "                       torch.mul(ctx_contextual_emb, q2c)], dim=2)\n",
    "        \n",
    "        # [bs, ctx_len, emb_dim*8]\n",
    "        \n",
    "        \n",
    "        ## MODELING LAYER\n",
    "        \n",
    "        M, _ = self.modeling_lstm(G)\n",
    "        # [bs, ctx_len, emb_dim*2]\n",
    "        \n",
    "        ## OUTPUT LAYER\n",
    "        \n",
    "        M2, _ = self.end_lstm(M)\n",
    "        \n",
    "        # START PREDICTION\n",
    "        \n",
    "        p1 = self.output_start(torch.cat([G,M], dim=2))\n",
    "        # [bs, ctx_len, 1]\n",
    "        \n",
    "        p1 = p1.squeeze()\n",
    "        # [bs, ctx_len]\n",
    "        \n",
    "        #p1 = F.softmax(p1, dim=-1)\n",
    "        \n",
    "        # END PREDICTION\n",
    "        \n",
    "        p2 = self.output_end(torch.cat([G, M2], dim=2)).squeeze()\n",
    "        # [bs, ctx_len, 1] => [bs, ctx_len]\n",
    "        \n",
    "        #p2 = F.softmax(p2, dim=-1)\n",
    "        \n",
    "        \n",
    "        return p1, p2"
   ]
  },
  {
   "cell_type": "code",
   "execution_count": 7,
   "metadata": {
    "id": "cqPaYi1ME8SL"
   },
   "outputs": [],
   "source": []
  },
  {
   "cell_type": "markdown",
   "metadata": {
    "id": "SooaL1rNE9K9"
   },
   "source": [
    "# Training"
   ]
  },
  {
   "cell_type": "code",
   "execution_count": null,
   "metadata": {
    "id": "FNiLb8V0BdaG"
   },
   "outputs": [],
   "source": [
    "CHAR_VOCAB_DIM = len(char2idx)\n",
    "EMB_DIM = 100\n",
    "CHAR_EMB_DIM = 8\n",
    "NUM_OUTPUT_CHANNELS = 100\n",
    "KERNEL_SIZE = (8,5)\n",
    "HIDDEN_DIM = 100\n",
    "device = torch.device('cuda')\n",
    "\n",
    "model = BiDAF(CHAR_VOCAB_DIM, \n",
    "              EMB_DIM, \n",
    "              CHAR_EMB_DIM, \n",
    "              NUM_OUTPUT_CHANNELS, \n",
    "              KERNEL_SIZE, \n",
    "              HIDDEN_DIM, \n",
    "              device).to(device)"
   ]
  },
  {
   "cell_type": "code",
   "execution_count": null,
   "metadata": {
    "id": "setHkNyXuKEv"
   },
   "outputs": [],
   "source": [
    "import torch.optim as optim\n",
    "from torch.autograd import Variable\n",
    "optimizer = optim.Adadelta(model.parameters())"
   ]
  },
  {
   "cell_type": "code",
   "execution_count": null,
   "metadata": {
    "id": "fLw00ixCDoo0"
   },
   "outputs": [],
   "source": [
    "def train(model, train_dataset):\n",
    "    print(\"Starting training ........\")\n",
    "   \n",
    "\n",
    "    train_loss = 0.\n",
    "    batch_count = 0\n",
    "    model.train()\n",
    "    for batch in train_dataset:\n",
    "        \n",
    "        optimizer.zero_grad()\n",
    "    \n",
    "        if batch_count % 500 == 0:\n",
    "            print(f\"Starting batch: {batch_count}\")\n",
    "        batch_count += 1\n",
    "        \n",
    "        context, question, char_ctx, char_ques, label, ctx_text, ans, ids = batch\n",
    "\n",
    "        context, question, char_ctx, char_ques, label = context.to(device), question.to(device),\\\n",
    "                                   char_ctx.to(device), char_ques.to(device), label.to(device)\n",
    "\n",
    "\n",
    "        preds = model(context, question, char_ctx, char_ques)\n",
    "\n",
    "        start_pred, end_pred = preds\n",
    "\n",
    "        s_idx, e_idx = label[:,0], label[:,1]\n",
    "\n",
    "        loss = F.cross_entropy(start_pred, s_idx) + F.cross_entropy(end_pred, e_idx)\n",
    "\n",
    "        loss.backward()\n",
    "        \n",
    "        plot_grad_flow(model.named_parameters())\n",
    "        \n",
    "        for name, param in model.named_parameters():\n",
    "            if(param.requires_grad) and (\"bias\" not in name):\n",
    "                writer.add_histogram(name+'_grad',param.grad.abs().mean())\n",
    "    \n",
    "\n",
    "        optimizer.step()\n",
    "\n",
    "        train_loss += loss.item()\n",
    "\n",
    "    return train_loss/len(train_dataset)\n",
    "\n",
    "def valid(model, valid_dataset):\n",
    "    \n",
    "    print(\"Starting validation .........\")\n",
    "   \n",
    "    valid_loss = 0.\n",
    "\n",
    "    batch_count = 0\n",
    "    \n",
    "    f1, em = 0., 0.\n",
    "    \n",
    "    model.eval()\n",
    "        \n",
    "   \n",
    "    predictions = {}\n",
    "    \n",
    "    for batch in valid_dataset:\n",
    "\n",
    "        if batch_count % 500 == 0:\n",
    "            print(f\"Starting batch {batch_count}\")\n",
    "        batch_count += 1\n",
    "\n",
    "        context, question, char_ctx, char_ques, label, ctx, answers, ids = batch\n",
    "\n",
    "        context, question, char_ctx, char_ques, label = context.to(device), question.to(device),\\\n",
    "                                   char_ctx.to(device), char_ques.to(device), label.to(device)\n",
    "        \n",
    "       \n",
    "\n",
    "        \n",
    "        with torch.no_grad():\n",
    "            \n",
    "            s_idx, e_idx = label[:,0], label[:,1]\n",
    "\n",
    "            preds = model(context, question, char_ctx, char_ques)\n",
    "\n",
    "            p1, p2 = preds\n",
    "\n",
    "            \n",
    "            loss = F.cross_entropy(p1, s_idx) + F.cross_entropy(p2, e_idx)\n",
    "\n",
    "            valid_loss += loss.item()\n",
    "\n",
    "            batch_size, c_len = p1.size()\n",
    "            ls = nn.LogSoftmax(dim=1)\n",
    "            mask = (torch.ones(c_len, c_len) * float('-inf')).to(device).tril(-1).unsqueeze(0).expand(batch_size, -1, -1)\n",
    "            score = (ls(p1).unsqueeze(2) + ls(p2).unsqueeze(1)) + mask\n",
    "            score, s_idx = score.max(dim=1)\n",
    "            score, e_idx = score.max(dim=1)\n",
    "            s_idx = torch.gather(s_idx, 1, e_idx.view(-1, 1)).squeeze()\n",
    "            \n",
    "           \n",
    "            for i in range(batch_size):\n",
    "                id = ids[i]\n",
    "                pred = context[i][s_idx[i]:e_idx[i]+1]\n",
    "                pred = ' '.join([idx2word[idx.item()] for idx in pred])\n",
    "                predictions[id] = pred\n",
    "            \n",
    "\n",
    "    \n",
    "    em, f1 = evaluate(predictions)\n",
    "    return valid_loss/len(valid_dataset), em, f1"
   ]
  },
  {
   "cell_type": "code",
   "execution_count": null,
   "metadata": {
    "id": "hTJycD1DD4E7"
   },
   "outputs": [],
   "source": [
    "def evaluate(predictions):\n",
    "    '''\n",
    "    Gets a dictionary of predictions with question_id as key\n",
    "    and prediction as value. The validation dataset has multiple \n",
    "    answers for a single question. Hence we compare our prediction\n",
    "    with all the answers and choose the one that gives us\n",
    "    the maximum metric (em or f1). \n",
    "    This method first parses the JSON file, gets all the answers\n",
    "    for a given id and then passes the list of answers and the \n",
    "    predictions to calculate em, f1.\n",
    "    \n",
    "    \n",
    "    :param dict predictions\n",
    "    Returns\n",
    "    : exact_match: 1 if the prediction and ground truth \n",
    "      match exactly, 0 otherwise.\n",
    "    : f1_score: \n",
    "    '''\n",
    "    with open('./data/squad_dev.json','r',encoding='utf-8') as f:\n",
    "        dataset = json.load(f)\n",
    "        \n",
    "    dataset = dataset['data']\n",
    "    f1 = exact_match = total = 0\n",
    "    for article in dataset:\n",
    "        for paragraph in article['paragraphs']:\n",
    "            for qa in paragraph['qas']:\n",
    "                total += 1\n",
    "                if qa['id'] not in predictions:\n",
    "                    continue\n",
    "                \n",
    "                ground_truths = list(map(lambda x: x['text'], qa['answers']))\n",
    "                \n",
    "                prediction = predictions[qa['id']]\n",
    "                \n",
    "                exact_match += metric_max_over_ground_truths(\n",
    "                    exact_match_score, prediction, ground_truths)\n",
    "                \n",
    "                f1 += metric_max_over_ground_truths(\n",
    "                    f1_score, prediction, ground_truths)\n",
    "                \n",
    "    \n",
    "    exact_match = 100.0 * exact_match / total\n",
    "    f1 = 100.0 * f1 / total\n",
    "    \n",
    "    return exact_match, f1"
   ]
  },
  {
   "cell_type": "code",
   "execution_count": null,
   "metadata": {
    "id": "xg6EI1F0D_EQ"
   },
   "outputs": [],
   "source": [
    "def normalize_answer(s):\n",
    "    '''\n",
    "    Performs a series of cleaning steps on the ground truth and \n",
    "    predicted answer.\n",
    "    '''\n",
    "    def remove_articles(text):\n",
    "        return re.sub(r'\\b(a|an|the)\\b', ' ', text)\n",
    "\n",
    "    def white_space_fix(text):\n",
    "        return ' '.join(text.split())\n",
    "\n",
    "    def remove_punc(text):\n",
    "        exclude = set(string.punctuation)\n",
    "        return ''.join(ch for ch in text if ch not in exclude)\n",
    "\n",
    "    def lower(text):\n",
    "        return text.lower()\n",
    "\n",
    "    return white_space_fix(remove_articles(remove_punc(lower(s))))\n",
    "\n",
    "\n",
    "def metric_max_over_ground_truths(metric_fn, prediction, ground_truths):\n",
    "    '''\n",
    "    Returns maximum value of metrics for predicition by model against\n",
    "    multiple ground truths.\n",
    "    \n",
    "    :param func metric_fn: can be 'exact_match_score' or 'f1_score'\n",
    "    :param str prediction: predicted answer span by the model\n",
    "    :param list ground_truths: list of ground truths against which\n",
    "                               metrics are calculated. Maximum values of \n",
    "                               metrics are chosen.\n",
    "                            \n",
    "    \n",
    "    '''\n",
    "    scores_for_ground_truths = []\n",
    "    for ground_truth in ground_truths:\n",
    "        score = metric_fn(prediction, ground_truth)\n",
    "        scores_for_ground_truths.append(score)\n",
    "        \n",
    "    return max(scores_for_ground_truths)\n",
    "\n",
    "\n",
    "def f1_score(prediction, ground_truth):\n",
    "    '''\n",
    "    Returns f1 score of two strings.\n",
    "    '''\n",
    "    prediction_tokens = normalize_answer(prediction).split()\n",
    "    ground_truth_tokens = normalize_answer(ground_truth).split()\n",
    "    common = Counter(prediction_tokens) & Counter(ground_truth_tokens)\n",
    "    num_same = sum(common.values())\n",
    "    if num_same == 0:\n",
    "        return 0\n",
    "    precision = 1.0 * num_same / len(prediction_tokens)\n",
    "    recall = 1.0 * num_same / len(ground_truth_tokens)\n",
    "    f1 = (2 * precision * recall) / (precision + recall)\n",
    "    return f1\n",
    "\n",
    "\n",
    "def exact_match_score(prediction, ground_truth):\n",
    "    '''\n",
    "    Returns exact_match_score of two strings.\n",
    "    '''\n",
    "    return (normalize_answer(prediction) == normalize_answer(ground_truth))\n",
    "\n",
    "\n",
    "def epoch_time(start_time, end_time):\n",
    "    '''\n",
    "    Helper function to record epoch time.\n",
    "    '''\n",
    "    elapsed_time = end_time - start_time\n",
    "    elapsed_mins = int(elapsed_time / 60)\n",
    "    elapsed_secs = int(elapsed_time - (elapsed_mins * 60))\n",
    "    return elapsed_mins, elapsed_secs"
   ]
  },
  {
   "cell_type": "code",
   "execution_count": null,
   "metadata": {
    "colab": {
     "base_uri": "https://localhost:8080/"
    },
    "id": "HP_p0AwRaaUF",
    "outputId": "b528ddd3-b62f-4682-8c76-b6377fef9fcc"
   },
   "outputs": [
    {
     "name": "stdout",
     "output_type": "stream",
     "text": [
      "Requirement already satisfied: TensorboardX in /usr/local/lib/python3.6/dist-packages (2.1)\n",
      "Requirement already satisfied: protobuf>=3.8.0 in /usr/local/lib/python3.6/dist-packages (from TensorboardX) (3.12.4)\n",
      "Requirement already satisfied: numpy in /usr/local/lib/python3.6/dist-packages (from TensorboardX) (1.19.4)\n",
      "Requirement already satisfied: six in /usr/local/lib/python3.6/dist-packages (from TensorboardX) (1.15.0)\n",
      "Requirement already satisfied: setuptools in /usr/local/lib/python3.6/dist-packages (from protobuf>=3.8.0->TensorboardX) (50.3.2)\n"
     ]
    }
   ],
   "source": [
    "!pip install TensorboardX"
   ]
  },
  {
   "cell_type": "code",
   "execution_count": null,
   "metadata": {
    "colab": {
     "base_uri": "https://localhost:8080/"
    },
    "id": "iRMzzZ06JgB9",
    "outputId": "11fe6bbb-c382-4b87-fcb0-7804ab539f0b"
   },
   "outputs": [
    {
     "name": "stdout",
     "output_type": "stream",
     "text": [
      "Epoch 1\n",
      "Starting training ........\n",
      "Starting batch: 0\n",
      "Starting batch: 500\n",
      "Starting batch: 1000\n",
      "Starting batch: 1500\n",
      "Starting batch: 2000\n",
      "Starting batch: 2500\n",
      "Starting batch: 3000\n",
      "Starting batch: 3500\n",
      "Starting batch: 4000\n",
      "Starting batch: 4500\n",
      "Starting batch: 5000\n",
      "Starting validation .........\n",
      "Starting batch 0\n",
      "Starting batch 500\n",
      "Starting batch 1000\n",
      "Epoch train loss : 3.197617702477688| Time: 25m 45s\n",
      "Epoch valid loss: 3.5485730457125575\n",
      "Epoch EM: 27.010864987787418\n",
      "Epoch F1: 33.23350007817051\n",
      "====================================================================================\n",
      "Epoch 2\n",
      "Starting training ........\n",
      "Starting batch: 0\n",
      "Starting batch: 500\n",
      "Starting batch: 1000\n",
      "Starting batch: 1500\n",
      "Starting batch: 2000\n",
      "Starting batch: 2500\n",
      "Starting batch: 3000\n",
      "Starting batch: 3500\n",
      "Starting batch: 4000\n",
      "Starting batch: 4500\n",
      "Starting batch: 5000\n",
      "Starting validation .........\n",
      "Starting batch 0\n",
      "Starting batch 500\n",
      "Starting batch 1000\n",
      "Epoch train loss : 2.7719648029826| Time: 25m 40s\n",
      "Epoch valid loss: 3.472963621234818\n",
      "Epoch EM: 27.903646930009266\n",
      "Epoch F1: 33.98688887763914\n",
      "====================================================================================\n",
      "Epoch 3\n",
      "Starting training ........\n",
      "Starting batch: 0\n",
      "Starting batch: 500\n",
      "Starting batch: 1000\n",
      "Starting batch: 1500\n",
      "Starting batch: 2000\n",
      "Starting batch: 2500\n",
      "Starting batch: 3000\n",
      "Starting batch: 3500\n",
      "Starting batch: 4000\n",
      "Starting batch: 4500\n",
      "Starting batch: 5000\n",
      "Starting validation .........\n",
      "Starting batch 0\n",
      "Starting batch 500\n",
      "Starting batch 1000\n",
      "Epoch train loss : 2.535862853277809| Time: 25m 47s\n",
      "Epoch valid loss: 3.5999701762821075\n",
      "Epoch EM: 28.36688284342626\n",
      "Epoch F1: 34.56011000600062\n",
      "====================================================================================\n",
      "Epoch 4\n",
      "Starting training ........\n",
      "Starting batch: 0\n",
      "Starting batch: 500\n",
      "Starting batch: 1000\n",
      "Starting batch: 1500\n",
      "Starting batch: 2000\n",
      "Starting batch: 2500\n",
      "Starting batch: 3000\n",
      "Starting batch: 3500\n",
      "Starting batch: 4000\n",
      "Starting batch: 4500\n",
      "Starting batch: 5000\n",
      "Starting validation .........\n",
      "Starting batch 0\n",
      "Starting batch 500\n",
      "Starting batch 1000\n",
      "Epoch train loss : 2.3532127712117705| Time: 25m 52s\n",
      "Epoch valid loss: 3.6898132753647435\n",
      "Epoch EM: 28.39215025688537\n",
      "Epoch F1: 34.49974768739003\n",
      "====================================================================================\n",
      "Epoch 5\n",
      "Starting training ........\n",
      "Starting batch: 0\n",
      "Starting batch: 500\n",
      "Starting batch: 1000\n",
      "Starting batch: 1500\n",
      "Starting batch: 2000\n",
      "Starting batch: 2500\n",
      "Starting batch: 3000\n",
      "Starting batch: 3500\n",
      "Starting batch: 4000\n",
      "Starting batch: 4500\n",
      "Starting batch: 5000\n",
      "Starting validation .........\n",
      "Starting batch 0\n",
      "Starting batch 500\n",
      "Starting batch 1000\n",
      "Epoch train loss : 2.211146175294859| Time: 25m 50s\n",
      "Epoch valid loss: 3.841396709678659\n",
      "Epoch EM: 28.535332266486986\n",
      "Epoch F1: 34.592141631988405\n",
      "====================================================================================\n"
     ]
    }
   ],
   "source": [
    "from tensorboardX import SummaryWriter\n",
    "writer = SummaryWriter()\n",
    "train_losses = []\n",
    "valid_losses = []\n",
    "ems = []\n",
    "f1s = []\n",
    "epochs = 5\n",
    "for epoch in range(epochs):\n",
    "    print(f\"Epoch {epoch+1}\")\n",
    "    start_time = time.time()\n",
    "    \n",
    "    train_loss = train(model, train_dataset)\n",
    "    valid_loss, em, f1 = valid(model, valid_dataset)\n",
    "    \n",
    "    writer.add_scalar('train_loss', train_loss, epoch)\n",
    "    writer.add_scalar('valid_loss', valid_loss, epoch)\n",
    "    \n",
    "    \n",
    "    for name, param in model.named_parameters():\n",
    "        writer.add_histogram(name, param, epoch)\n",
    "    \n",
    "    torch.save({\n",
    "            'epoch': epoch,\n",
    "            'model_state_dict': model.state_dict(),\n",
    "            'optimizer_state_dict': optimizer.state_dict(),\n",
    "            'loss': valid_loss,\n",
    "            'em':em,\n",
    "            'f1':f1,\n",
    "            }, 'bidaf_run4_{}.pth'.format(epoch))\n",
    "    \n",
    "    \n",
    "    end_time = time.time()\n",
    "    \n",
    "    epoch_mins, epoch_secs = epoch_time(start_time, end_time)\n",
    "    \n",
    "    train_losses.append(train_loss)\n",
    "    valid_losses.append(valid_loss)\n",
    "    ems.append(em)\n",
    "    f1s.append(f1)\n",
    "\n",
    "    print(f\"Epoch train loss : {train_loss}| Time: {epoch_mins}m {epoch_secs}s\")\n",
    "    print(f\"Epoch valid loss: {valid_loss}\")\n",
    "    print(f\"Epoch EM: {em}\")\n",
    "    print(f\"Epoch F1: {f1}\")\n",
    "    print(\"====================================================================================\")"
   ]
  },
  {
   "cell_type": "markdown",
   "metadata": {
    "id": "nVJWGPIsFsi3"
   },
   "source": [
    "# Test our own data"
   ]
  },
  {
   "cell_type": "code",
   "execution_count": 8,
   "metadata": {
    "id": "0S5Ic_wcmQEp"
   },
   "outputs": [],
   "source": [
    "def word_tokenize(sent):\n",
    "    return [token.text for token in tokenizer(sent)]"
   ]
  },
  {
   "cell_type": "code",
   "execution_count": 13,
   "metadata": {
    "colab": {
     "base_uri": "https://localhost:8080/"
    },
    "id": "8vwNwm4qzGd4",
    "outputId": "074ee2bb-2094-4392-a540-95f57ce4c0ec"
   },
   "outputs": [
    {
     "data": {
      "text/plain": [
       "<All keys matched successfully>"
      ]
     },
     "execution_count": 13,
     "metadata": {
      "tags": []
     },
     "output_type": "execute_result"
    }
   ],
   "source": [
    "## Load the trained model\n",
    "\n",
    "device = torch.device(\"cuda\" if \"cuda\" else \"cpu\")\n",
    "data_dir = \"/content/drive/MyDrive/Desktop/2rd_period_Lectures/Scalable_machine_learning_and_deep_learning/Scalable_ML_DL/Project/BiDAF/\"\n",
    "with open(data_dir+ 'qanetw2id.pickle','rb') as wi, \\\n",
    "            open(data_dir+'qanetc2id.pickle','rb') as ci:\n",
    "            word2idx = pickle.load(wi)\n",
    "            char2idx = pickle.load(ci)\n",
    "\n",
    "CHAR_VOCAB_DIM = len(char2idx)\n",
    "EMB_DIM = 100\n",
    "CHAR_EMB_DIM = 8\n",
    "NUM_OUTPUT_CHANNELS = 100\n",
    "KERNEL_SIZE = (8,5)\n",
    "HIDDEN_DIM = 100\n",
    "\n",
    "model = BiDAF(CHAR_VOCAB_DIM, \n",
    "              EMB_DIM, \n",
    "              CHAR_EMB_DIM, \n",
    "              NUM_OUTPUT_CHANNELS, \n",
    "              KERNEL_SIZE, \n",
    "              HIDDEN_DIM, \n",
    "              device).to(device)\n",
    "              \n",
    "path = \"/content/drive/MyDrive/Desktop/2rd_period_Lectures/Scalable_machine_learning_and_deep_learning/Scalable_ML_DL/Project/BiDAF/bidaf_run4_4.pth\"\n",
    "model.load_state_dict(torch.load(path)[\"model_state_dict\"])"
   ]
  },
  {
   "cell_type": "code",
   "execution_count": 22,
   "metadata": {
    "id": "a2gvDaSNFr-w"
   },
   "outputs": [],
   "source": [
    "from spacy.lang.en import English\n",
    "tokenizer = English()\n",
    "\n",
    "def eval(context, question):\n",
    "    # ctx = [bs, ctx_len]\n",
    "    # ques = [bs, ques_len]\n",
    "    # char_ctx = [bs, ctx_len, ctx_word_len]\n",
    "    # char_ques = [bs, ques_len, ques_word_len]\n",
    "\n",
    "    max_len_context = 400\n",
    "    max_len_question = 50\n",
    "    max_len_word = 25\n",
    "\n",
    "    context = [w for w in word_tokenize(context) if w]\n",
    "\n",
    "    question = [w for w in word_tokenize(question) if w]\n",
    "\n",
    "    context_idx = np.ones([max_len_context], dtype=np.int32)\n",
    "    question_idx = np.ones([max_len_question], dtype=np.int32)\n",
    "    context_char_idx = np.ones([max_len_context, max_len_word], dtype=np.int32)\n",
    "    question_char_idx = np.ones([max_len_question, max_len_word], dtype=np.int32)\n",
    "\n",
    "    # replace 0 values with word and char IDs\n",
    "    for j, word in enumerate(context):\n",
    "        if word in word2idx:\n",
    "            context_idx[j] = word2idx[word]\n",
    "        else:\n",
    "            context_idx[j] = 1\n",
    "        for k, char in enumerate(word):\n",
    "            if char in char2idx:\n",
    "                context_char_idx[j, k] = char2idx[char]\n",
    "            else:\n",
    "                context_char_idx[j, k] = 1\n",
    "\n",
    "    for j, word in enumerate(question):\n",
    "        if word in word2idx:\n",
    "            question_idx[j] = word2idx[word]\n",
    "        else:\n",
    "            question_idx[j] = 1\n",
    "        for k, char in enumerate(word):\n",
    "            if char in char2idx:\n",
    "                question_char_idx[j, k] = char2idx[char]\n",
    "            else:\n",
    "                question_char_idx[j, k] = 1\n",
    "    pred = []\n",
    "    with torch.no_grad():\n",
    "            context_idx, context_char_idx, question_idx, question_char_idx = torch.tensor(context_idx, dtype=torch.int64).unsqueeze(0).to(device),\\\n",
    "                                                                            torch.tensor(context_char_idx, dtype=torch.int64).unsqueeze(0).to(device),\\\n",
    "                                                                            torch.tensor(question_idx, dtype=torch.int64).unsqueeze(0).to(device),\\\n",
    "                                                                            torch.tensor(question_char_idx, dtype=torch.int64).unsqueeze(0).to(device)\n",
    "            # print(\"paras have prepared!!\")\n",
    "            pred1, pred2 = model(context_idx, question_idx, context_char_idx, question_char_idx)\n",
    "            # print(\"finished!!\")\n",
    "\n",
    "            pred1 = pred1.unsqueeze(0)\n",
    "            pred2 = pred2.unsqueeze(0)\n",
    "            batch_size, c_len = pred1.size()\n",
    "            ls = nn.LogSoftmax(dim=1)\n",
    "            mask = (torch.ones(c_len, c_len) * float('-inf')).to(device).tril(-1).unsqueeze(0).expand(batch_size, -1, -1)\n",
    "            score = (ls(pred1).unsqueeze(2) + ls(pred2).unsqueeze(1)) + mask\n",
    "            score, s_idx = score.max(dim=1)\n",
    "            score, e_idx = score.max(dim=1)\n",
    "            s_idx = torch.gather(s_idx, 1, e_idx.view(-1, 1)).squeeze()\n",
    "\n",
    "            pred = context[s_idx:e_idx+1]\n",
    "    return(pred)\n",
    "       \n",
    "    \n",
    "\n"
   ]
  },
  {
   "cell_type": "code",
   "execution_count": 25,
   "metadata": {
    "colab": {
     "base_uri": "https://localhost:8080/"
    },
    "id": "m2n6J68c-4Op",
    "outputId": "473aa8c4-9143-4bf0-9046-8694851d6138"
   },
   "outputs": [
    {
     "name": "stdout",
     "output_type": "stream",
     "text": [
      "C:  Xing lives in Stockholm and she is very happy because she made a best friend here whose name is Jia. \n",
      "\n",
      "Q: Who is Xing's best friend?\n",
      "A: ['Jia'] \n",
      "\n",
      "Q: Where does Xing live?\n",
      "A: [' ', 'Xing', 'lives', 'in', 'Stockholm'] \n",
      "\n"
     ]
    }
   ],
   "source": [
    "context = \" Xing lives in Stockholm and she is very happy because she made a best friend here whose name is Jia.\"\n",
    "\n",
    "# questions = \"Who is Xing's best friend?\"\n",
    "\n",
    "questions = [ \"Who is Xing's best friend?\",\n",
    "                 \"Where does Xing live?\"\n",
    "                ]\n",
    "\n",
    "print(\"C:\", context, \"\\n\")\n",
    "for q in questions:\n",
    "    print(\"Q:\", q)\n",
    "    answer = eval(context, q)\n",
    "    print(\"A:\", answer, \"\\n\")"
   ]
  },
  {
   "cell_type": "code",
   "execution_count": null,
   "metadata": {
    "id": "GA0WiBhE-uKS"
   },
   "outputs": [],
   "source": []
  },
  {
   "cell_type": "code",
   "execution_count": null,
   "metadata": {
    "id": "lR0m3Go--pG_"
   },
   "outputs": [],
   "source": []
  },
  {
   "cell_type": "code",
   "execution_count": null,
   "metadata": {
    "id": "VxqoQl_d5Mey"
   },
   "outputs": [],
   "source": []
  },
  {
   "cell_type": "code",
   "execution_count": null,
   "metadata": {
    "id": "jzDpNIF846kr"
   },
   "outputs": [],
   "source": []
  }
 ],
 "metadata": {
  "accelerator": "GPU",
  "colab": {
   "collapsed_sections": [],
   "machine_shape": "hm",
   "name": "BiDAF_2.ipynb",
   "provenance": [],
   "toc_visible": true
  },
  "kernelspec": {
   "display_name": "Python 3",
   "language": "python",
   "name": "python3"
  },
  "language_info": {
   "codemirror_mode": {
    "name": "ipython",
    "version": 3
   },
   "file_extension": ".py",
   "mimetype": "text/x-python",
   "name": "python",
   "nbconvert_exporter": "python",
   "pygments_lexer": "ipython3",
   "version": "3.7.1"
  }
 },
 "nbformat": 4,
 "nbformat_minor": 1
}
