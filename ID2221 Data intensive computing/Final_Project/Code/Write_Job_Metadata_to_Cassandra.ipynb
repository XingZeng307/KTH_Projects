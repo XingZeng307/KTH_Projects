{
 "cells": [
  {
   "cell_type": "code",
   "execution_count": 1,
   "metadata": {},
   "outputs": [],
   "source": [
    "import pandas as pd\n",
    "from cassandra.cluster import Cluster"
   ]
  },
  {
   "cell_type": "code",
   "execution_count": 2,
   "metadata": {},
   "outputs": [],
   "source": [
    "file_name = \"Template Data Samples.xlsx\"\n",
    "\n",
    "# Create a dictionary having each sheet as a dataframe\n",
    "xl_job_meta_data = pd.read_excel(file_name, sheet_name=None)"
   ]
  },
  {
   "cell_type": "code",
   "execution_count": 3,
   "metadata": {},
   "outputs": [
    {
     "data": {
      "text/plain": [
       "dict"
      ]
     },
     "execution_count": 3,
     "metadata": {},
     "output_type": "execute_result"
    }
   ],
   "source": [
    "type(xl_job_meta_data)"
   ]
  },
  {
   "cell_type": "code",
   "execution_count": 4,
   "metadata": {},
   "outputs": [
    {
     "data": {
      "text/plain": [
       "pandas.core.frame.DataFrame"
      ]
     },
     "execution_count": 4,
     "metadata": {},
     "output_type": "execute_result"
    }
   ],
   "source": [
    "job_type = xl_job_meta_data[\"Job_Type\"]\n",
    "type(job_type)"
   ]
  },
  {
   "cell_type": "code",
   "execution_count": 5,
   "metadata": {},
   "outputs": [
    {
     "data": {
      "text/plain": [
       "pandas.core.series.Series"
      ]
     },
     "execution_count": 5,
     "metadata": {},
     "output_type": "execute_result"
    }
   ],
   "source": [
    "# \"Software_Engineer\", \"Data_Analyst\", \"Systems_Engineer\"\n",
    "type(job_type[\"Data_Analyst\"])"
   ]
  },
  {
   "cell_type": "code",
   "execution_count": 6,
   "metadata": {},
   "outputs": [],
   "source": [
    "#job_type = job_type.replace(np.nan, '', regex=True)\n",
    "job_type.fillna('', inplace=True)"
   ]
  },
  {
   "cell_type": "code",
   "execution_count": 7,
   "metadata": {},
   "outputs": [
    {
     "data": {
      "text/plain": [
       "0           accounting\n",
       "1              airflow\n",
       "2                  aws\n",
       "3      azure data lake\n",
       "4             big data\n",
       "            ...       \n",
       "131                   \n",
       "132                   \n",
       "133                   \n",
       "134                   \n",
       "135                   \n",
       "Name: Data_Analyst, Length: 136, dtype: object"
      ]
     },
     "execution_count": 7,
     "metadata": {},
     "output_type": "execute_result"
    }
   ],
   "source": [
    "job_type[\"Data_Analyst\"]"
   ]
  },
  {
   "cell_type": "code",
   "execution_count": 8,
   "metadata": {},
   "outputs": [],
   "source": [
    "# to filter out NaN values at a specific column >> df.query(\"col_name == col2\")\n",
    "# https://stackoverflow.com/questions/43821529/filter-out-nan-rows-in-a-specific-column\n",
    "software_engineer_keywords = job_type.query(\"Software_Engineer == Software_Engineer\")[\"Software_Engineer\"]\n",
    "data_analyst_keywords = job_type.query(\"Data_Analyst == Data_Analyst\")[\"Data_Analyst\"]\n",
    "systems_engineer_keywords = job_type.query(\"Systems_Engineer == Systems_Engineer\")[\"Systems_Engineer\"]"
   ]
  },
  {
   "cell_type": "code",
   "execution_count": 9,
   "metadata": {},
   "outputs": [
    {
     "name": "stdout",
     "output_type": "stream",
     "text": [
      "Idx\n",
      "Software_Engineer\n",
      "Data_Analyst\n",
      "Systems_Engineer\n"
     ]
    }
   ],
   "source": [
    "for item in job_type:\n",
    "    print(item)"
   ]
  },
  {
   "cell_type": "code",
   "execution_count": 11,
   "metadata": {},
   "outputs": [],
   "source": [
    "#from cassandra.cluster import Cluster\n",
    "#cluster = Cluster(ip_address)\n",
    "cluster = Cluster(['127.0.0.1'])\n",
    "#session = cluster.connect(keyspace_name)\n",
    "session = cluster.connect(\"jobsearch_keyspace\")\n",
    "query = \"INSERT INTO job_type(idx, software_engineer, data_analyst, systems_engineer) VALUES (?,?,?,?)\"\n",
    "prepared = session.prepare(query)"
   ]
  },
  {
   "cell_type": "code",
   "execution_count": 12,
   "metadata": {},
   "outputs": [
    {
     "name": "stdout",
     "output_type": "stream",
     "text": [
      "1 2 3 4\n",
      "ad tech ajax algorithm android\n",
      "accounting airflow aws azure data lake\n",
      "2g 3com 3g 4g lte\n"
     ]
    }
   ],
   "source": [
    "for item in job_type:\n",
    "    print(job_type[item][0], job_type[item][1], job_type[item][2], job_type[item][3])"
   ]
  },
  {
   "cell_type": "code",
   "execution_count": 13,
   "metadata": {},
   "outputs": [
    {
     "name": "stdout",
     "output_type": "stream",
     "text": [
      "1 ad tech accounting 2g\n"
     ]
    }
   ],
   "source": [
    "print(job_type['Idx'][0], job_type['Software_Engineer'][0], job_type['Data_Analyst'][0], job_type['Systems_Engineer'][0])"
   ]
  },
  {
   "cell_type": "code",
   "execution_count": 14,
   "metadata": {},
   "outputs": [
    {
     "data": {
      "text/plain": [
       "136"
      ]
     },
     "execution_count": 14,
     "metadata": {},
     "output_type": "execute_result"
    }
   ],
   "source": [
    "job_type['Idx'].count()"
   ]
  },
  {
   "cell_type": "code",
   "execution_count": 15,
   "metadata": {},
   "outputs": [],
   "source": [
    "idx = 0\n",
    "total_features = job_type['Idx'].count()\n",
    "while idx < total_features:\n",
    "    session.execute(prepared, (job_type['Idx'][idx], job_type['Software_Engineer'][idx], \n",
    "                               job_type['Data_Analyst'][idx], job_type['Systems_Engineer'][idx]))\n",
    "    idx += 1"
   ]
  },
  {
   "cell_type": "code",
   "execution_count": 16,
   "metadata": {},
   "outputs": [],
   "source": [
    "# read from Cassandra to dataframe\n",
    "# order by doesn't work so sort_values by is used later\n",
    "select_query = \"SELECT * from job_type\"\n",
    "df_job_type = pd.DataFrame(list(session.execute(select_query)))"
   ]
  },
  {
   "cell_type": "code",
   "execution_count": 17,
   "metadata": {},
   "outputs": [],
   "source": [
    "# another way to read from Cassandra\n",
    "def pandas_factory(colnames, rows):\n",
    "    return pd.DataFrame(rows, columns=colnames)\n",
    "\n",
    "session.row_factory = pandas_factory\n",
    "session.default_fetch_size = None\n",
    "\n",
    "select_query = \"SELECT * from job_type\"\n",
    "rslt = session.execute(select_query, timeout=None)\n",
    "df = rslt._current_rows"
   ]
  },
  {
   "cell_type": "code",
   "execution_count": 18,
   "metadata": {},
   "outputs": [
    {
     "data": {
      "text/html": [
       "<div>\n",
       "<style scoped>\n",
       "    .dataframe tbody tr th:only-of-type {\n",
       "        vertical-align: middle;\n",
       "    }\n",
       "\n",
       "    .dataframe tbody tr th {\n",
       "        vertical-align: top;\n",
       "    }\n",
       "\n",
       "    .dataframe thead th {\n",
       "        text-align: right;\n",
       "    }\n",
       "</style>\n",
       "<table border=\"1\" class=\"dataframe\">\n",
       "  <thead>\n",
       "    <tr style=\"text-align: right;\">\n",
       "      <th></th>\n",
       "      <th>idx</th>\n",
       "      <th>data_analyst</th>\n",
       "      <th>software_engineer</th>\n",
       "      <th>systems_engineer</th>\n",
       "    </tr>\n",
       "  </thead>\n",
       "  <tbody>\n",
       "    <tr>\n",
       "      <th>40</th>\n",
       "      <td>1</td>\n",
       "      <td>accounting</td>\n",
       "      <td>ad tech</td>\n",
       "      <td>2g</td>\n",
       "    </tr>\n",
       "    <tr>\n",
       "      <th>49</th>\n",
       "      <td>2</td>\n",
       "      <td>airflow</td>\n",
       "      <td>ajax</td>\n",
       "      <td>3com</td>\n",
       "    </tr>\n",
       "    <tr>\n",
       "      <th>134</th>\n",
       "      <td>3</td>\n",
       "      <td>aws</td>\n",
       "      <td>algorithm</td>\n",
       "      <td>3g</td>\n",
       "    </tr>\n",
       "    <tr>\n",
       "      <th>52</th>\n",
       "      <td>4</td>\n",
       "      <td>azure data lake</td>\n",
       "      <td>android</td>\n",
       "      <td>4g lte</td>\n",
       "    </tr>\n",
       "    <tr>\n",
       "      <th>12</th>\n",
       "      <td>5</td>\n",
       "      <td>big data</td>\n",
       "      <td>apache druid</td>\n",
       "      <td>5gnr</td>\n",
       "    </tr>\n",
       "    <tr>\n",
       "      <th>...</th>\n",
       "      <td>...</td>\n",
       "      <td>...</td>\n",
       "      <td>...</td>\n",
       "      <td>...</td>\n",
       "    </tr>\n",
       "    <tr>\n",
       "      <th>11</th>\n",
       "      <td>132</td>\n",
       "      <td></td>\n",
       "      <td>xml</td>\n",
       "      <td></td>\n",
       "    </tr>\n",
       "    <tr>\n",
       "      <th>124</th>\n",
       "      <td>133</td>\n",
       "      <td></td>\n",
       "      <td>xml parser</td>\n",
       "      <td></td>\n",
       "    </tr>\n",
       "    <tr>\n",
       "      <th>28</th>\n",
       "      <td>134</td>\n",
       "      <td></td>\n",
       "      <td>xpath</td>\n",
       "      <td></td>\n",
       "    </tr>\n",
       "    <tr>\n",
       "      <th>68</th>\n",
       "      <td>135</td>\n",
       "      <td></td>\n",
       "      <td>xquery</td>\n",
       "      <td></td>\n",
       "    </tr>\n",
       "    <tr>\n",
       "      <th>125</th>\n",
       "      <td>136</td>\n",
       "      <td></td>\n",
       "      <td>xslt</td>\n",
       "      <td></td>\n",
       "    </tr>\n",
       "  </tbody>\n",
       "</table>\n",
       "<p>136 rows × 4 columns</p>\n",
       "</div>"
      ],
      "text/plain": [
       "     idx     data_analyst software_engineer systems_engineer\n",
       "40     1       accounting           ad tech               2g\n",
       "49     2          airflow              ajax             3com\n",
       "134    3              aws         algorithm               3g\n",
       "52     4  azure data lake           android           4g lte\n",
       "12     5         big data      apache druid             5gnr\n",
       "..   ...              ...               ...              ...\n",
       "11   132                                xml                 \n",
       "124  133                         xml parser                 \n",
       "28   134                              xpath                 \n",
       "68   135                             xquery                 \n",
       "125  136                               xslt                 \n",
       "\n",
       "[136 rows x 4 columns]"
      ]
     },
     "execution_count": 18,
     "metadata": {},
     "output_type": "execute_result"
    }
   ],
   "source": [
    "# order by idx column \n",
    "df_job_type.sort_values(by=['idx'])"
   ]
  }
 ],
 "metadata": {
  "kernelspec": {
   "display_name": "Python 3",
   "language": "python",
   "name": "python3"
  },
  "language_info": {
   "codemirror_mode": {
    "name": "ipython",
    "version": 3
   },
   "file_extension": ".py",
   "mimetype": "text/x-python",
   "name": "python",
   "nbconvert_exporter": "python",
   "pygments_lexer": "ipython3",
   "version": "3.6.9"
  }
 },
 "nbformat": 4,
 "nbformat_minor": 2
}
