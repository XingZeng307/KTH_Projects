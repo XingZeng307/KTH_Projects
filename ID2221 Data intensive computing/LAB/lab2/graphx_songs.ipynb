{
 "cells": [
  {
   "cell_type": "markdown",
   "metadata": {},
   "source": [
    "# Lab 2 - Clustering with GraphX\n",
    "In this lab we use GraphX to cluster music songs according to the tags attached to each song. The datasets that we are working is available under the folder `data`, and also can be downloaded from [here](http://www.cs.cornell.edu/~shuochen/lme/data_page.html). The datasets consist of the following files:\n",
    "* `song_hash.txt`: this file maps a song ID to its title and artist.\n",
    "  + Each line corresponds to one song, and has the format called `Integer_ID\\tTitle\\tArtist\\n`.\n",
    "* `tag_hash.txt`: this one maps a tag ID to its name.\n",
    "  + Each line corresponds to one song, and has the format called `Integer_ID, Name\\n`.\n",
    "* `tags.txt`: this file includes the social tags by using the integer ID to represent songs.\n",
    "  + The tag data file has the same number of lines as the total number of songs. Each line consists of the IDs of the tags for a song, represented by integers, and separated by space. If a song does not have a tag, its line is just a #. Note that for the tag file, there is no space at the end of each line.\n",
    "\n",
    "### Load the data into a Spark graph property\n",
    "Let's start by loading the data into a Spark graph property. To do this, wee define a case class `Song`, with three attributes: `title`, `artist`, and a set of `tags`."
   ]
  },
  {
   "cell_type": "code",
   "execution_count": 1,
   "metadata": {},
   "outputs": [
    {
     "data": {
      "text/plain": [
       "defined class Song\n"
      ]
     },
     "metadata": {},
     "output_type": "display_data"
    }
   ],
   "source": [
    "import scala.io.Source\n",
    "import org.apache.spark.rdd.RDD\n",
    "import org.apache.spark.graphx._\n",
    "import org.apache.spark.mllib.clustering.PowerIterationClustering\n",
    "\n",
    "case class Song(title: String, artist: String, tags: Set[String])"
   ]
  },
  {
   "cell_type": "markdown",
   "metadata": {},
   "source": [
    "Now, import the songs from the dataset file `song_hash.txt` into `RDD[(VertexId, Song)]`, called `songs`, and initialize each song with an empty set of tags. You should see the following lines, if you run `songs.take(5).foreach(println)`:\n",
    "```\n",
    "(0,Song(Gucci Time (w\\/ Swizz Beatz),Gucci Mane,Set()))\n",
    "(1,Song(Aston Martin Music (w\\/ Drake & Chrisette Michelle),Rick Ross,Set()))\n",
    "(2,Song(Get Back Up (w\\/ Chris Brown),T.I.,Set()))\n",
    "(3,Song(Hot Toddy (w\\/ Jay-Z & Ester Dean),Usher,Set()))\n",
    "(4,Song(Whip My Hair,Willow,Set()))\n",
    "```"
   ]
  },
  {
   "cell_type": "code",
   "execution_count": 2,
   "metadata": {},
   "outputs": [
    {
     "name": "stdout",
     "output_type": "stream",
     "text": [
      "(0,Song(Gucci Time (w\\/ Swizz Beatz),Gucci Mane,Set()))\n",
      "(1,Song(Aston Martin Music (w\\/ Drake & Chrisette Michelle),Rick Ross,Set()))\n",
      "(2,Song(Get Back Up (w\\/ Chris Brown),T.I.,Set()))\n",
      "(3,Song(Hot Toddy (w\\/ Jay-Z & Ester Dean),Usher,Set()))\n",
      "(4,Song(Whip My Hair,Willow,Set()))\n"
     ]
    },
    {
     "data": {
      "text/plain": [
       "fileName = data/song_hash.txt\n",
       "songs = MapPartitionsRDD[2] at map at <console>:38\n"
      ]
     },
     "metadata": {},
     "output_type": "display_data"
    },
    {
     "data": {
      "text/plain": [
       "MapPartitionsRDD[2] at map at <console>:38"
      ]
     },
     "execution_count": 2,
     "metadata": {},
     "output_type": "execute_result"
    }
   ],
   "source": [
    "val fileName = \"data/song_hash.txt\"\n",
    "\n",
    "//var songs: RDD[(VertexId, Song)] = spark.sparkContext.textFile(fileName).map(x=>(x._1,(x._2, x._3,Set())))\n",
    "var songs: RDD[(VertexId, Song)]= spark.sparkContext.textFile(fileName).map{\n",
    "    line => \n",
    "    val row = line.split(\"\\t\")\n",
    "    val song =  Song(row(1), row(2), Set.empty)\n",
    "    (row(0).toLong,song)\n",
    "}\n",
    "\n",
    "songs.take(5).foreach(println)"
   ]
  },
  {
   "cell_type": "markdown",
   "metadata": {},
   "source": [
    "Then, create a graph property called `graphFromSongs`, whose nodes are the songs, i.e., `Graph[Song, Int]`. It will not add any edges into the graph at first. If you print the vertices of the `graphFromSongs` by calling `graphFromSongs.vertices.take(5).foreach(println)`, you should see something as below:\n",
    "```\n",
    "(1084,Song(Tequila Sunrise,Fiji,Set()))\n",
    "(1410,Song(The Sweetest Taboo,Sade,Set()))\n",
    "(3066,Song(Bow Chicka Wow Wow,Mike Posner,Set()))\n",
    "(1894,Song(Love Your Love The Most,Eric Church,Set()))\n",
    "(466,Song(Stupify,Disturbed,Set()))\n",
    "```"
   ]
  },
  {
   "cell_type": "code",
   "execution_count": 3,
   "metadata": {},
   "outputs": [
    {
     "name": "stdout",
     "output_type": "stream",
     "text": [
      "(1084,Song(Tequila Sunrise,Fiji,Set()))\n",
      "(3007,Song(Somewhere Else,Toby Keith,Set()))\n",
      "(667,Song(Prayin' For Daylight,Rascal Flatts,Set()))\n",
      "(1053,Song(Turn Your Lights Down Low,Bob Marley & The Wailers,Set()))\n",
      "(1894,Song(Love Your Love The Most,Eric Church,Set()))\n"
     ]
    },
    {
     "data": {
      "text/plain": [
       "graphFromSongs = org.apache.spark.graphx.impl.GraphImpl@484b2dab\n"
      ]
     },
     "metadata": {},
     "output_type": "display_data"
    },
    {
     "data": {
      "text/plain": [
       "org.apache.spark.graphx.impl.GraphImpl@484b2dab"
      ]
     },
     "execution_count": 3,
     "metadata": {},
     "output_type": "execute_result"
    }
   ],
   "source": [
    "val graphFromSongs: Graph[Song, Int] = {\n",
    "    val zeroEdge: RDD[Edge[Int]] = sc.parallelize(Nil)\n",
    "    Graph(songs, zeroEdge)\n",
    "}\n",
    "\n",
    "graphFromSongs.vertices.take(5).foreach(println)"
   ]
  },
  {
   "cell_type": "markdown",
   "metadata": {},
   "source": [
    "### Extract the features of nodes\n",
    "Now, let's join the tags from the dataset called `tags.txt` into the nodes. To do this, we first need to create `tagRDD`, which is in form of `RDD[(VertexId, Set[String])]`. We hen join it with `graphFromSong`. For now, we have only the mapping between the song ID and the set of tag IDs in our `tagRDD`. If we print the first five items of the `tagRDD` we should see the following lines:\n",
    "```\n",
    "(0,Set(115, 173))\n",
    "(1,Set(62, 88, 110, 90, 123, 155, 173, 14, 190, 214, 115, 27))\n",
    "(2,Set(115, 173))\n",
    "(3,Set(2, 72, 173))\n",
    "(4,Set(62, 88, 141, 107, 24, 155, 72, 6, 126, 173, 190, 115, 2, 52))\n",
    "```"
   ]
  },
  {
   "cell_type": "code",
   "execution_count": 4,
   "metadata": {},
   "outputs": [
    {
     "name": "stdout",
     "output_type": "stream",
     "text": [
      "(0,Set(115, 173))\n",
      "(1,Set(62, 88, 110, 90, 123, 155, 173, 14, 190, 214, 115, 27))\n",
      "(2,Set(115, 173))\n",
      "(3,Set(2, 72, 173))\n",
      "(4,Set(62, 88, 141, 107, 24, 155, 72, 6, 126, 173, 190, 115, 2, 52))\n"
     ]
    },
    {
     "data": {
      "text/plain": [
       "tagFile = data/tags.txt\n",
       "tagIter = empty iterator\n",
       "tagRDD = ParallelCollectionRDD[16] at parallelize at <console>:42\n"
      ]
     },
     "metadata": {},
     "output_type": "display_data"
    },
    {
     "data": {
      "text/plain": [
       "ParallelCollectionRDD[16] at parallelize at <console>:42"
      ]
     },
     "execution_count": 4,
     "metadata": {},
     "output_type": "execute_result"
    }
   ],
   "source": [
    "val tagFile = \"data/tags.txt\"\n",
    "//var count: Int = 0\n",
    "val tagIter: Iterator[(VertexId, Set[String])] = Source.fromFile(tagFile).getLines.zipWithIndex.map {\n",
    "    x => \n",
    "    var tags = x._1.split(\" \") \n",
    "    (x._2.toLong,tags.toSet)\n",
    "    //count = count + 1\n",
    "}\n",
    "\n",
    "val tagRDD = sc.parallelize(tagIter.toSeq)\n",
    "tagRDD.take(5).foreach(println)"
   ]
  },
  {
   "cell_type": "markdown",
   "metadata": {},
   "source": [
    "What we want is to extract the tag names from `tag_hash.txt` given the tag ID. We can now call `joinVertices` on `graphFromSongs`, and pass the RDD of tags `tagRDD` with a function that extracts the tags. Note that in the dataset called `tags.txt`, a `#` assigned next to the song ID means that no tag is associated with that song. In such a case, we simply return the initial song with an empty tag, otherwise, we add the set of tags into the song. Below, you can see an example output if you run `songsNtags.vertices.take(5).foreach(println)`:\n",
    "```\n",
    "(1084,Song(Tequila Sunrise,Fiji,Set()))\n",
    "(1410,Song(The Sweetest Taboo,Sade,Set(beautiful, 1980s, 80's, rock, sexy, favorite, female vocalist, smooth, female, pop, best, 80s, soul, easy listening, classic, chillout, urban, lounge, romantic, soft, singer-songwriter, lovely, chill, dance, love songs, mellow, love, jazz, female vocals, british, female vocalists, rnb, smooth jazz, favorites, ballad, relax, adult contemporary, great, melancholy, relaxing)))\n",
    "(3066,Song(Bow Chicka Wow Wow,Mike Posner,Set(sexy, smooth, male vocalists, pop, <3, hip-hop, love song, wdzh-fm, awesome, easy listening, love at first listen, r&b, electronic, love songs, love, american, 2010s, nostalgic, rnb, favorites, wkqi-fm)))\n",
    "(1894,Song(Love Your Love The Most,Eric Church,Set(beautiful, makes me smile, fav, pop, modern country, country, great song, love songs, favourite songs, usa, love, favorites, male country, my favorite)))\n",
    "(466,Song(Stupify,Disturbed,Set(punk rock, rock, 90s, alternative metal, favorite, favourite, favorite songs, good, nu metal, 00s, angry, progressive rock, awesome, male vocalist, hardcore, sex, alternative, favs, heavy, 2000s, heavy metal, classic rock, hard rock, alternative rock, american, female vocalists, catchy, favorites, metal, my music, nu-metal, aitch)))\n",
    "```"
   ]
  },
  {
   "cell_type": "code",
   "execution_count": 5,
   "metadata": {},
   "outputs": [
    {
     "name": "stdout",
     "output_type": "stream",
     "text": [
      "(1084,Song(Tequila Sunrise,Fiji,Set()))\n",
      "(3007,Song(Somewhere Else,Toby Keith,Set( male vocalists,  10s,  new country,  modern country,  2011,  contemporary country,  country,  american)))\n",
      "(667,Song(Prayin' For Daylight,Rascal Flatts,Set( male country,  fun,  chill,  my country,  adult contemporary,  male vocalists,  country pop,  male,  seen live,  sing along,  new country,  modern country,  worship,  rnb,  dance,  contemporary country,  00s,  summer,  pop,  favorite,  country)))\n"
     ]
    },
    {
     "data": {
      "text/plain": [
       "songsNtags = org.apache.spark.graphx.impl.GraphImpl@493c1a0e\n"
      ]
     },
     "metadata": {},
     "output_type": "display_data"
    },
    {
     "data": {
      "text/plain": [
       "org.apache.spark.graphx.impl.GraphImpl@493c1a0e"
      ]
     },
     "execution_count": 5,
     "metadata": {},
     "output_type": "execute_result"
    }
   ],
   "source": [
    "val songsNtags = graphFromSongs.joinVertices(tagRDD) {\n",
    "  (id, s, ks) => ks.toList match {\n",
    "    case List(\"#\") => s\n",
    "    case _ => {\n",
    "      val taghashFile = \"data/tag_hash.txt\"\n",
    "      val tags: Map[Int, String] = Source.fromFile(taghashFile).getLines().map{\n",
    "          line => \n",
    "          var row = line.split(\",\")\n",
    "          row(0).toInt -> row(1)\n",
    "      }.toMap\n",
    "      val songTags = ks.map(_.toInt).flatMap(tags.get)\n",
    "      Song(s.title, s.artist, songTags.toSet)\n",
    "    }\n",
    "  }\n",
    "}\n",
    "\n",
    "songsNtags.vertices.take(3).foreach(println)"
   ]
  },
  {
   "cell_type": "markdown",
   "metadata": {},
   "source": [
    "### Define a similarity measure between two nodes\n",
    "Now, let's measure the similarity between two songs using the *Jaccard metric*, which is the ratio of the number of common tags between two songs, and their total number of tags. If none of the songs is tagged, we assume that their similarity score is zero. For this, we define the `similarity` method as below."
   ]
  },
  {
   "cell_type": "code",
   "execution_count": 6,
   "metadata": {},
   "outputs": [
    {
     "data": {
      "text/plain": [
       "similarity: (one: Song, other: Song)Double\n"
      ]
     },
     "metadata": {},
     "output_type": "display_data"
    }
   ],
   "source": [
    "def similarity(one: Song, other: Song): Double = {\n",
    "  val numCommonTags = (one.tags intersect other.tags).size\n",
    "  val numTotalTags = (one.tags union other.tags).size\n",
    "  if (numTotalTags > 0)\n",
    "    numCommonTags.toDouble / numTotalTags.toDouble\n",
    "  else \n",
    "    0.0\n",
    "}"
   ]
  },
  {
   "cell_type": "markdown",
   "metadata": {},
   "source": [
    "### Creating an affinity matrix\n",
    "Now, we need to calculate the similarity between each pair of songs in our database. If there are 1,000 songs, we will have to compute, and store, one million similarity scores. What if we had 1,000,000 songs? Obviously, computing similarities between every pair will be inefficient. Instead, we can restrict this to the songs that have a relatively high similarity score. At the end of the day, we want to cluster songs that are similar. Therefore, we will filter the nodes with the following function."
   ]
  },
  {
   "cell_type": "code",
   "execution_count": 7,
   "metadata": {},
   "outputs": [
    {
     "data": {
      "text/plain": [
       "quiteSimilar: (one: Song, other: Song, threshold: Double)Boolean\n"
      ]
     },
     "metadata": {},
     "output_type": "display_data"
    }
   ],
   "source": [
    "def quiteSimilar(one: Song, other: Song, threshold: Double): Boolean = {\n",
    "  val commonTags = one.tags.intersect(other.tags)\n",
    "  val combinedTags = one.tags.union(other.tags)\n",
    "  commonTags.size > combinedTags.size * threshold\n",
    "}"
   ]
  },
  {
   "cell_type": "markdown",
   "metadata": {},
   "source": [
    "We define a function to remove the duplicate songs in our graph data."
   ]
  },
  {
   "cell_type": "code",
   "execution_count": 8,
   "metadata": {},
   "outputs": [
    {
     "data": {
      "text/plain": [
       "differentSong: (one: Song, other: Song)Boolean\n"
      ]
     },
     "metadata": {},
     "output_type": "display_data"
    }
   ],
   "source": [
    "def differentSong(one: Song, other: Song): Boolean = one.title != other.title || one.artist != other.artist"
   ]
  },
  {
   "cell_type": "markdown",
   "metadata": {},
   "source": [
    "With these two functions, we can now create `RDD[Edge[Double]]` that will contain a similarity measure between the nodes that are quite similar. A simple check `similarConnections.count` shows that we only need to store 1,506 similarity scores instead of 10 million."
   ]
  },
  {
   "cell_type": "code",
   "execution_count": 29,
   "metadata": {},
   "outputs": [
    {
     "data": {
      "text/plain": [
       "songs = VertexRDDImpl[19] at RDD at VertexRDD.scala:57\n",
       "similarConnections = MapPartitionsRDD[36] at map at <console>:75\n"
      ]
     },
     "metadata": {},
     "output_type": "display_data"
    },
    {
     "data": {
      "text/plain": [
       "lastException: Throwable = null\n",
       "similarity: (one: Song, other: Song)Double\n",
       "differentSong: (one: Song, other: Song)Boolean\n",
       "quiteSimilar: (one: Song, other: Song, threshold: Double)Boolean\n"
      ]
     },
     "metadata": {},
     "output_type": "display_data"
    },
    {
     "data": {
      "text/plain": [
       "1506"
      ]
     },
     "execution_count": 29,
     "metadata": {},
     "output_type": "execute_result"
    }
   ],
   "source": [
    "def similarity(one: Song, other: Song): Double = {\n",
    "  val numCommonTags = (one.tags intersect other.tags).size\n",
    "  val numTotalTags = (one.tags union other.tags).size\n",
    "  if (numTotalTags > 0)\n",
    "    numCommonTags.toDouble / numTotalTags.toDouble\n",
    "  else \n",
    "    0.0\n",
    "}\n",
    "def differentSong(one: Song, other: Song): Boolean = one.title != other.title || one.artist != other.artist\n",
    "def quiteSimilar(one: Song, other: Song, threshold: Double): Boolean = {\n",
    "  val commonTags = one.tags.intersect(other.tags)\n",
    "  val combinedTags = one.tags.union(other.tags)\n",
    "  commonTags.size > combinedTags.size * threshold\n",
    "}\n",
    "// First, get the songs with tags\n",
    "songs = songsNtags.vertices\n",
    "\n",
    "// Then, compute the similarity between each pair of songs with a similarity score larger than 0.7\n",
    "val similarConnections: RDD[Edge[Double]] = {\n",
    "  val ss = songs.cartesian(songs)\n",
    "    \n",
    "  // similarSongs are the songs with a similarity score larger than 0.7\n",
    "  // Note that not compare a song with itself (use the differentSong method)\n",
    "  val similarSongs = ss.filter {\n",
    "      p=> \n",
    "      quiteSimilar(p._1._2,p._2._2,0.7) &&\n",
    "      differentSong(p._1._2,p._2._2)\n",
    "      \n",
    "  }\n",
    "    \n",
    "  // Now compute the Jaccard metric for the similarSongs. The result should be an Edge for each pair of songs\n",
    "  // with the vertexIds at the two ends, and the Javvard values as the edge value.\n",
    "  similarSongs.map { \n",
    "      p => {\n",
    "          val jacIdx = similarity(p._1._2,p._2._2)\n",
    "          Edge(p._1._1, p._2._1, jacIdx)\n",
    "      }\n",
    "  }\n",
    "}\n",
    "similarConnections.count"
   ]
  },
  {
   "cell_type": "markdown",
   "metadata": {},
   "source": [
    "Let's create our similarity graph `similarByTagsGraph`."
   ]
  },
  {
   "cell_type": "code",
   "execution_count": 30,
   "metadata": {},
   "outputs": [
    {
     "data": {
      "text/plain": [
       "similarByTagsGraph = org.apache.spark.graphx.impl.GraphImpl@31902a05\n"
      ]
     },
     "metadata": {},
     "output_type": "display_data"
    },
    {
     "data": {
      "text/plain": [
       "org.apache.spark.graphx.impl.GraphImpl@31902a05"
      ]
     },
     "execution_count": 30,
     "metadata": {},
     "output_type": "execute_result"
    }
   ],
   "source": [
    "val similarByTagsGraph = Graph(songs, similarConnections)"
   ]
  },
  {
   "cell_type": "markdown",
   "metadata": {},
   "source": [
    "Some of our songs have very few tags, so let's filter those out and keep the songs with more than five tags."
   ]
  },
  {
   "cell_type": "code",
   "execution_count": 33,
   "metadata": {},
   "outputs": [
    {
     "data": {
      "text/plain": [
       "similarHighTagsGraph = org.apache.spark.graphx.impl.GraphImpl@48f3ce60\n"
      ]
     },
     "metadata": {},
     "output_type": "display_data"
    },
    {
     "data": {
      "text/plain": [
       "org.apache.spark.graphx.impl.GraphImpl@48f3ce60"
      ]
     },
     "execution_count": 33,
     "metadata": {},
     "output_type": "execute_result"
    }
   ],
   "source": [
    "val similarHighTagsGraph = similarByTagsGraph.subgraph(vpred = (id, attr)=>attr.tags.size>5)"
   ]
  },
  {
   "cell_type": "markdown",
   "metadata": {},
   "source": [
    "Let's look closer into the graph."
   ]
  },
  {
   "cell_type": "code",
   "execution_count": 34,
   "metadata": {},
   "outputs": [
    {
     "name": "stdout",
     "output_type": "stream",
     "text": [
      "Song(Down On Me (w\\/ 50 Cent),Jeremih,Set( fav,  hip hop,  sexy,  rap,  rnb,  wdzh-fm,  wjlb-fm,  hip-hop,  dance,  whtd-fm,  wkqi-fm,  2010)) ~~~ Song(Bottoms Up (w\\/ Nicki Minaj),Trey Songz,Set( rhythm and blues,  hip hop,  top 40,  rap,  rnb,  wdzh-fm,  wjlb-fm,  hip-hop,  dance,  whtd-fm,  wkqi-fm,  2010)) => 0.7142857142857143\n",
      "Song(Bottoms Up (w\\/ Nicki Minaj),Trey Songz,Set( rhythm and blues,  hip hop,  top 40,  rap,  rnb,  wdzh-fm,  wjlb-fm,  hip-hop,  dance,  whtd-fm,  wkqi-fm,  2010)) ~~~ Song(Down On Me (w\\/ 50 Cent),Jeremih,Set( fav,  hip hop,  sexy,  rap,  rnb,  wdzh-fm,  wjlb-fm,  hip-hop,  dance,  whtd-fm,  wkqi-fm,  2010)) => 0.7142857142857143\n",
      "Song(You Be Killin Em,Fabolous,Set( hip hop,  rap,  wdzh-fm,  wjlb-fm,  hip-hop,  whtd-fm,  wkqi-fm,  2010s)) ~~~ Song(Any Girl (w\\/ Lloyd),Lloyd Banks,Set( hip hop,  rap,  wdzh-fm,  wjlb-fm,  whtd-fm,  wkqi-fm)) => 0.75\n",
      "Song(You Be Killin Em,Fabolous,Set( hip hop,  rap,  wdzh-fm,  wjlb-fm,  hip-hop,  whtd-fm,  wkqi-fm,  2010s)) ~~~ Song(Go DJ,Lil Wayne,Set( hip hop,  rap,  wdzh-fm,  wjlb-fm,  whtd-fm,  wkqi-fm)) => 0.75\n",
      "Song(You Be Killin Em,Fabolous,Set( hip hop,  rap,  wdzh-fm,  wjlb-fm,  hip-hop,  whtd-fm,  wkqi-fm,  2010s)) ~~~ Song(I'm Going In (w\\/ Young Jeezy & Lil Wayne),Drake,Set( rap,  wdzh-fm,  wjlb-fm,  hip-hop,  whtd-fm,  wkqi-fm)) => 0.75\n",
      "Song(Fancy (w\\/ T.I. & Swizz Beatz),Drake,Set( hip hop,  rap,  wdzh-fm,  wjlb-fm,  whtd-fm,  wkqi-fm,  2010)) ~~~ Song(Any Girl (w\\/ Lloyd),Lloyd Banks,Set( hip hop,  rap,  wdzh-fm,  wjlb-fm,  whtd-fm,  wkqi-fm)) => 0.8571428571428571\n"
     ]
    }
   ],
   "source": [
    "similarHighTagsGraph.triplets.take(6).foreach(t => println(t.srcAttr + \" ~~~ \" + t.dstAttr + \" => \" + t.attr))"
   ]
  },
  {
   "cell_type": "markdown",
   "metadata": {},
   "source": [
    "You should see the following output:\n",
    "```\n",
    "Song(Fancy (w\\/ T.I. & Swizz Beatz),Drake,Set(rap, wdzh-fm, 2010, hip hop, wjlb-fm, whtd-fm, wkqi-fm)) ~~~ Song(Any Girl (w\\/ Lloyd),Lloyd Banks,Set(rap, wdzh-fm, hip hop, wjlb-fm, whtd-fm, wkqi-fm)) => 0.8571428571428571\n",
    "Song(Roll With It,Easton Corbin,Set(new country, modern country, country, great song, 2010, my favorite)) ~~~ Song(You Lie,The Band Perry,Set(new country, modern country, country, great song, female vocalists, my favorite)) => 0.7142857142857143\n",
    "Song(Any Girl (w\\/ Lloyd),Lloyd Banks,Set(rap, wdzh-fm, hip hop, wjlb-fm, whtd-fm, wkqi-fm)) ~~~ Song(Fancy (w\\/ T.I. & Swizz Beatz),Drake,Set(rap, wdzh-fm, 2010, hip hop, wjlb-fm, whtd-fm, wkqi-fm)) => 0.8571428571428571\n",
    "Song(Any Girl (w\\/ Lloyd),Lloyd Banks,Set(rap, wdzh-fm, hip hop, wjlb-fm, whtd-fm, wkqi-fm)) ~~~ Song(I'm Going In (w\\/ Young Jeezy & Lil Wayne),Drake,Set(rap, hip-hop, wdzh-fm, wjlb-fm, whtd-fm, wkqi-fm)) => 0.7142857142857143\n",
    "Song(Everything Falls,Fee,Set(rock, worship, christian, contemporary christian, good stuff, christian rock)) ~~~ Song(Needful Hands,Jars Of Clay,Set(rock, worship, christian, contemporary christian, christian rock, favorites)) => 0.7142857142857143\n",
    "Song(Bring The Rain,MercyMe,Set(rock, worship, christian, contemporary christian, uplifting, christian rock, powerful, favorites)) ~~~ Song(Needful Hands,Jars Of Clay,Set(rock, worship, christian, contemporary christian, christian rock, favorites)) => 0.75\n",
    "```\n",
    "We can see that \"Fancy\" by \"Drake\" is similar to \"Any Girl\" by \"Lloyd Banks\". Of course, they are rap songs. "
   ]
  },
  {
   "cell_type": "code",
   "execution_count": null,
   "metadata": {},
   "outputs": [],
   "source": []
  }
 ],
 "metadata": {
  "kernelspec": {
   "display_name": "Python 3",
   "language": "python",
   "name": "python3"
  },
  "language_info": {
   "codemirror_mode": {
    "name": "ipython",
    "version": 3
   },
   "file_extension": ".py",
   "mimetype": "text/x-python",
   "name": "python",
   "nbconvert_exporter": "python",
   "pygments_lexer": "ipython3",
   "version": "3.7.1"
  }
 },
 "nbformat": 4,
 "nbformat_minor": 2
}
